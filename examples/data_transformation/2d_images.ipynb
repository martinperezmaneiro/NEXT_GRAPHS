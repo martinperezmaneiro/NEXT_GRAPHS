{
 "cells": [
  {
   "cell_type": "markdown",
   "metadata": {},
   "source": [
    "## NB of the functions to transform JA's 2D event images are trasnformed into graphs"
   ]
  },
  {
   "cell_type": "code",
   "execution_count": 22,
   "metadata": {},
   "outputs": [],
   "source": [
    "import numpy as np\n",
    "import tables as tb\n",
    "import pandas as pd\n",
    "from time import time\n",
    "import torch\n",
    "import sys\n",
    "from glob import glob\n",
    "\n",
    "sys.path.append('/home/usc/ie/mpm/NEXT_graphs')\n",
    "from NEXT_graphNN.utils.data_loader import graphData"
   ]
  },
  {
   "cell_type": "code",
   "execution_count": 44,
   "metadata": {},
   "outputs": [],
   "source": [
    "path = '/mnt/lustre/scratch/nlsas/home/usc/ie/mpm/NEXT100/data/pressure_topology/5bar/2d_data/'"
   ]
  },
  {
   "cell_type": "code",
   "execution_count": 45,
   "metadata": {},
   "outputs": [],
   "source": [
    "data = np.load(path + '5bar_0nubb_s0mm_w10mm.npz')"
   ]
  },
  {
   "cell_type": "code",
   "execution_count": 46,
   "metadata": {},
   "outputs": [
    {
     "data": {
      "text/plain": [
       "['x', 'y', 'z', 'id', 'xlabel', 'zlabel']"
      ]
     },
     "execution_count": 46,
     "metadata": {},
     "output_type": "execute_result"
    }
   ],
   "source": [
    "[f for f in data.files]"
   ]
  },
  {
   "cell_type": "code",
   "execution_count": 5,
   "metadata": {},
   "outputs": [],
   "source": [
    "x, y, z, id = data['x'], data['y'], data['z'], data['id']\n",
    "xlabel, zlabel = list(data['xlabel']), list(data['zlabel'])"
   ]
  },
  {
   "cell_type": "markdown",
   "metadata": {},
   "source": [
    "* **x**: parece que contiene las imágenes 31x31 (en este caso), para N eventos, y 6 cualidades q son suma de E y media de Z en las 3 proyecciones (entonces no es media de z, es media de la coordenada restante)\n",
    "* **z**: contiene tb lo mismo, pero las cualidades son media de segclass (?) y maximo de extremo, para las 3 proyecciones\n",
    "\n",
    "* **zlabel y xlabel**: contienen información de que son las 6 cualidades tanto para x como para z\n",
    "\n",
    "* **id**: contiene el filenumber y el dataset_id\n",
    "\n",
    "* **y**: contiene la etiqueta del evento"
   ]
  },
  {
   "cell_type": "markdown",
   "metadata": {},
   "source": [
    "## El código este ya está para poner en un script prácticamente, sólo falta lo de que no me coinciden las imágenes..."
   ]
  },
  {
   "cell_type": "code",
   "execution_count": 1,
   "metadata": {},
   "outputs": [
    {
     "name": "stdout",
     "output_type": "stream",
     "text": [
      "5bar_0nubb_s0mm_w10mm.npz\n",
      "1321.3235130310059\n",
      "5bar_1eroi_s0mm_w10mm.npz\n",
      "1894.3122472763062\n"
     ]
    }
   ],
   "source": [
    "import os\n",
    "import sys\n",
    "import gzip\n",
    "import torch\n",
    "\n",
    "import numpy  as np\n",
    "import pandas as pd\n",
    "\n",
    "from time import time\n",
    "from glob import glob\n",
    "\n",
    "sys.path.append(os.getenv('HOME') + '/NEXT_graphs')\n",
    "from NEXT_graphNN.utils.data_loader import graphData\n",
    "\n",
    "\n",
    "path = '/mnt/lustre/scratch/nlsas/home/usc/ie/mpm/NEXT100/data/pressure_topology/5bar/2d_data/'\n",
    "compression = False\n",
    "fileout = path + '5bar_s0mm_w10mm_graph.pt'\n",
    "\n",
    "data_paths = glob(path + '*')\n",
    "\n",
    "dataset = []\n",
    "for f in data_paths:\n",
    "    print(f.split('/')[-1])\n",
    "    data = np.load(f)\n",
    "    x, y, z, id = data['x'], data['y'], data['z'], data['id']\n",
    "    xlabel, zlabel = list(data['xlabel']), list(data['zlabel'])\n",
    "    del data\n",
    "    t = time()\n",
    "\n",
    "    \n",
    "    for n in range(x.shape[1]):\n",
    "        coords = x[0][n].nonzero()\n",
    "        values = (x[0][n][coords], x[1][n][coords])\n",
    "\n",
    "        #si coincidieran, podría ponerle su propio coords, pero veo que no...\n",
    "        #hecho así hay varios pixeles con valor de segmentación nulo pero no de energía o de z..\n",
    "        segclass = (z[0][n][coords], z[1][n][coords])\n",
    "        label = y[n]\n",
    "        fnum, dat_id = id[n][0], id[n][1]\n",
    "\n",
    "        dat_dic = {'x':coords[0], \n",
    "                'y':coords[1], \n",
    "                'energy':values[0], \n",
    "                'z_mean':values[1], \n",
    "                'seg_mean':segclass[0], \n",
    "                'seg_max':segclass[1].astype('int32'), \n",
    "                'binclass':label, \n",
    "                'fnum':fnum, \n",
    "                'dataset_id':dat_id}\n",
    "\n",
    "        event = pd.DataFrame(dat_dic)\n",
    "        graph_data = graphData(event, \n",
    "                            dat_id, \n",
    "                            feature_n = ['energy', 'z_mean'], \n",
    "                            label_n = ['seg_mean', 'seg_max'], \n",
    "                            norm_features = False, \n",
    "                            max_distance = np.sqrt(2), \n",
    "                            ener_name = 'energy', \n",
    "                            coord_names = ['x', 'y'], \n",
    "                            directed = False, \n",
    "                            fully_connected = False, \n",
    "                            simplify_segclass = False, \n",
    "                            torch_dtype = torch.float)\n",
    "\n",
    "        if graph_data.edge_index.numel() == 0:\n",
    "            continue\n",
    "        graph_data.fnum = fnum\n",
    "        dataset.append(graph_data)\n",
    "    print(time() - t)\n",
    "\n",
    "\n",
    "if compression:\n",
    "    fileout += '.gz'\n",
    "    with gzip.open(fileout, 'wb') as fout:\n",
    "        torch.save(dataset, fout)\n",
    "else: torch.save(dataset, fileout)\n",
    "    "
   ]
  },
  {
   "cell_type": "markdown",
   "metadata": {},
   "source": [
    "### Y para leer esos datos:"
   ]
  },
  {
   "cell_type": "code",
   "execution_count": 47,
   "metadata": {},
   "outputs": [],
   "source": [
    "# COMPRESSED\n",
    "with gzip.open(path + '5bar_s0mm_w10mm_graph_compr.pt.gz', 'rb') as fout:\n",
    "    cosa2 = torch.load(fout)\n",
    "\n",
    "# NO COMPRESSED\n",
    "cosa = torch.load(path + '5bar_s0mm_w10mm_graph_nocompr.pt')"
   ]
  },
  {
   "cell_type": "code",
   "execution_count": null,
   "metadata": {},
   "outputs": [],
   "source": []
  },
  {
   "cell_type": "code",
   "execution_count": null,
   "metadata": {},
   "outputs": [],
   "source": []
  },
  {
   "cell_type": "code",
   "execution_count": 80,
   "metadata": {},
   "outputs": [],
   "source": [
    "import itertools\n",
    "import torch\n",
    "import sys\n",
    "\n",
    "from NEXT_graphNN.utils.data_loader import edge_index, graphData\n",
    "from   torch_geometric.data import Data\n",
    "\n",
    "sys.path.append('/home/usc/ie/mpm/data_labelling')\n",
    "from utils.grouping_utils import label_event_elements\n"
   ]
  },
  {
   "cell_type": "markdown",
   "metadata": {},
   "source": [
    "## CAMBIAR GRAPH DATA PARA EVITAR Q HAGA CLOUDS\n",
    "\n",
    "## O CAMBIAR ALGO DE CLOUDS PARA EVITAR Q FALLE LO DEL NHITS (voy a pasar porque no me hace bien clouds de mi evento, falla algo en el proceso que me da pereza de ponerme a mirar)"
   ]
  },
  {
   "cell_type": "code",
   "execution_count": null,
   "metadata": {},
   "outputs": [],
   "source": [
    "## con esto podría hacerlo si me diera bien, pero como no me va, lo dejo aqui por si necesito recordarlo pero no lo uso\n",
    "\n",
    "# event_cloud = label_event_elements(event, \n",
    "#                          np.sqrt(2), \n",
    "#                          coords = ['x', 'y'], \n",
    "#                          identifyer = 'dataset_id', \n",
    "#                          ene_label = 'energy', \n",
    "#                          seg_label = 'seg_max',\n",
    "#                          beersh_dict =  {1:1, 2:2, 3:3, 4:1, 5:2, 6:3, 7:7}, \n",
    "#                          blob_class = [3, 6])"
   ]
  },
  {
   "cell_type": "code",
   "execution_count": 90,
   "metadata": {},
   "outputs": [],
   "source": [
    "def graphData(event, \n",
    "              data_id, \n",
    "              feature_n = ['energy', 'nhits'], \n",
    "              label_n = ['segclass'], \n",
    "              norm_features = True, \n",
    "              max_distance = np.sqrt(3), \n",
    "              ener_name = 'energy', \n",
    "              coord_names = ['xbin', 'ybin', 'zbin'], \n",
    "              directed = False, \n",
    "              fully_connected = False, \n",
    "              simplify_segclass = False, \n",
    "              torch_dtype = torch.float):\n",
    "    '''\n",
    "    Creates for an event the Data PyTorch geometric object with the edges, edge features (distances, 'gradient' with normalized energy), edge weights (inverse of distance),\n",
    "    node features (normalized energy and normalized number of hits per voxel), label, number of nodes, coords, dataset ID and binclass.\n",
    "    '''\n",
    "    #a bit hard coded this part but no worries for now\n",
    "    def get_cloud_ener_nhits(event, norm_features = True):\n",
    "        cloud_feat = event.merge(event.groupby('cloud').nhits.sum().rename('cloud_nhits'), left_on = 'cloud', how = 'left', right_index = True)[['cloud_ener', 'cloud_nhits']]\n",
    "        return cloud_feat.divide(event[['ener', 'nhits']].sum().values, axis = 1) if norm_features else cloud_feat\n",
    "    \n",
    "    event.reset_index(drop = True, inplace = True)\n",
    "    edges, edge_features, edge_weights = edge_index(event, \n",
    "                                                    max_distance=max_distance, \n",
    "                                                    norm_features = norm_features,\n",
    "                                                    ener_name=ener_name, \n",
    "                                                    coord_names=coord_names, \n",
    "                                                    directed=directed, \n",
    "                                                    fully_connected=fully_connected, \n",
    "                                                    torch_dtype = torch_dtype)\n",
    "    #nvoxel features for the nodes\n",
    "    features = event[feature_n]\n",
    "    features = features / features.sum() if norm_features else features\n",
    "\n",
    "    if 'cloud' in event.columns:\n",
    "    #cloud features for the nodes\n",
    "        cloud_feat = get_cloud_ener_nhits(event, norm_features = norm_features)\n",
    "        #create the node features tensor joining both voxel and cloud features\n",
    "        nodes = torch.tensor(features.join(cloud_feat).values, dtype = torch_dtype)\n",
    "    else:\n",
    "        nodes = torch.tensor(features.values, dtype = torch_dtype)\n",
    "    #nodes segmentation label\n",
    "    seg = event[label_n].values\n",
    "    if simplify_segclass:\n",
    "        label_map = {1:1, 2:2, 3:3, 4:1, 5:2, 6:3, 7:4}\n",
    "        seg = np.array([label_map[i] for i in seg])\n",
    "    #we can try to add also the transformation just to have track + blob (+ ghost)\n",
    "    #shifting already the label below!!\n",
    "    label = torch.tensor(seg - 1)\n",
    "    coords = torch.tensor(event[coord_names].values)\n",
    "    bincl = event.binclass.unique()[0]\n",
    "    graph_data = Data(x = nodes, edge_index = edges, edge_attr = edge_features, edge_weight = edge_weights, y = label, num_nodes = len(nodes), coords = coords, dataset_id = data_id, binclass = bincl)\n",
    "    return graph_data"
   ]
  },
  {
   "cell_type": "code",
   "execution_count": 120,
   "metadata": {},
   "outputs": [
    {
     "data": {
      "text/plain": [
       "Data(x=[19, 2], edge_index=[2, 82], edge_attr=[82, 2], y=[19, 2], edge_weight=[82], num_nodes=19, coords=[19, 2], dataset_id=0, binclass=1)"
      ]
     },
     "execution_count": 120,
     "metadata": {},
     "output_type": "execute_result"
    }
   ],
   "source": [
    "# no normalizo porque la energía ya viene normalizada, y la z no se exactamente que tiene la verdad, quizás centrada en el 0 luce??\n",
    "\n",
    "graph_data = graphData(event, \n",
    "                        event.dataset_id.unique()[0], \n",
    "                        feature_n = ['energy', 'z_mean'], \n",
    "                        label_n = ['seg_mean', 'seg_max'], \n",
    "                        norm_features = False, \n",
    "                        max_distance = np.sqrt(2), \n",
    "                        ener_name = 'energy', \n",
    "                        coord_names = ['x', 'y'], \n",
    "                        directed = False, \n",
    "                        fully_connected = False, \n",
    "                        simplify_segclass = False, \n",
    "                        torch_dtype = torch.float)\n",
    "\n",
    "if graph_data.edge_index.numel() == 0:\n",
    "    continue\n",
    "graph_data.fnum = fnum"
   ]
  },
  {
   "cell_type": "code",
   "execution_count": 121,
   "metadata": {},
   "outputs": [
    {
     "data": {
      "text/html": [
       "<div>\n",
       "<style scoped>\n",
       "    .dataframe tbody tr th:only-of-type {\n",
       "        vertical-align: middle;\n",
       "    }\n",
       "\n",
       "    .dataframe tbody tr th {\n",
       "        vertical-align: top;\n",
       "    }\n",
       "\n",
       "    .dataframe thead th {\n",
       "        text-align: right;\n",
       "    }\n",
       "</style>\n",
       "<table border=\"1\" class=\"dataframe\">\n",
       "  <thead>\n",
       "    <tr style=\"text-align: right;\">\n",
       "      <th></th>\n",
       "      <th>x</th>\n",
       "      <th>y</th>\n",
       "      <th>energy</th>\n",
       "      <th>z_mean</th>\n",
       "      <th>seg_mean</th>\n",
       "      <th>seg_max</th>\n",
       "      <th>binclass</th>\n",
       "      <th>fnum</th>\n",
       "      <th>dataset_id</th>\n",
       "    </tr>\n",
       "  </thead>\n",
       "  <tbody>\n",
       "    <tr>\n",
       "      <th>0</th>\n",
       "      <td>11</td>\n",
       "      <td>16</td>\n",
       "      <td>0.133081</td>\n",
       "      <td>-66.276862</td>\n",
       "      <td>1.103448</td>\n",
       "      <td>3</td>\n",
       "      <td>1</td>\n",
       "      <td>1</td>\n",
       "      <td>0</td>\n",
       "    </tr>\n",
       "    <tr>\n",
       "      <th>1</th>\n",
       "      <td>12</td>\n",
       "      <td>15</td>\n",
       "      <td>0.004269</td>\n",
       "      <td>-59.143117</td>\n",
       "      <td>1.000000</td>\n",
       "      <td>1</td>\n",
       "      <td>1</td>\n",
       "      <td>1</td>\n",
       "      <td>0</td>\n",
       "    </tr>\n",
       "    <tr>\n",
       "      <th>2</th>\n",
       "      <td>12</td>\n",
       "      <td>16</td>\n",
       "      <td>0.018728</td>\n",
       "      <td>-58.811244</td>\n",
       "      <td>1.000000</td>\n",
       "      <td>1</td>\n",
       "      <td>1</td>\n",
       "      <td>1</td>\n",
       "      <td>0</td>\n",
       "    </tr>\n",
       "    <tr>\n",
       "      <th>3</th>\n",
       "      <td>13</td>\n",
       "      <td>15</td>\n",
       "      <td>0.014933</td>\n",
       "      <td>-61.745256</td>\n",
       "      <td>1.000000</td>\n",
       "      <td>1</td>\n",
       "      <td>1</td>\n",
       "      <td>1</td>\n",
       "      <td>0</td>\n",
       "    </tr>\n",
       "    <tr>\n",
       "      <th>4</th>\n",
       "      <td>13</td>\n",
       "      <td>16</td>\n",
       "      <td>0.001750</td>\n",
       "      <td>-59.883951</td>\n",
       "      <td>0.000000</td>\n",
       "      <td>0</td>\n",
       "      <td>1</td>\n",
       "      <td>1</td>\n",
       "      <td>0</td>\n",
       "    </tr>\n",
       "    <tr>\n",
       "      <th>5</th>\n",
       "      <td>14</td>\n",
       "      <td>15</td>\n",
       "      <td>0.020128</td>\n",
       "      <td>-64.322781</td>\n",
       "      <td>1.000000</td>\n",
       "      <td>1</td>\n",
       "      <td>1</td>\n",
       "      <td>1</td>\n",
       "      <td>0</td>\n",
       "    </tr>\n",
       "    <tr>\n",
       "      <th>6</th>\n",
       "      <td>15</td>\n",
       "      <td>14</td>\n",
       "      <td>0.116593</td>\n",
       "      <td>52.085661</td>\n",
       "      <td>1.266667</td>\n",
       "      <td>1</td>\n",
       "      <td>1</td>\n",
       "      <td>1</td>\n",
       "      <td>0</td>\n",
       "    </tr>\n",
       "    <tr>\n",
       "      <th>7</th>\n",
       "      <td>15</td>\n",
       "      <td>15</td>\n",
       "      <td>0.059147</td>\n",
       "      <td>-32.463407</td>\n",
       "      <td>1.130435</td>\n",
       "      <td>1</td>\n",
       "      <td>1</td>\n",
       "      <td>1</td>\n",
       "      <td>0</td>\n",
       "    </tr>\n",
       "    <tr>\n",
       "      <th>8</th>\n",
       "      <td>15</td>\n",
       "      <td>16</td>\n",
       "      <td>0.006885</td>\n",
       "      <td>-29.212142</td>\n",
       "      <td>1.000000</td>\n",
       "      <td>1</td>\n",
       "      <td>1</td>\n",
       "      <td>1</td>\n",
       "      <td>0</td>\n",
       "    </tr>\n",
       "    <tr>\n",
       "      <th>9</th>\n",
       "      <td>16</td>\n",
       "      <td>13</td>\n",
       "      <td>0.065848</td>\n",
       "      <td>55.326212</td>\n",
       "      <td>2.291667</td>\n",
       "      <td>1</td>\n",
       "      <td>1</td>\n",
       "      <td>1</td>\n",
       "      <td>0</td>\n",
       "    </tr>\n",
       "    <tr>\n",
       "      <th>10</th>\n",
       "      <td>16</td>\n",
       "      <td>14</td>\n",
       "      <td>0.012373</td>\n",
       "      <td>52.497190</td>\n",
       "      <td>1.000000</td>\n",
       "      <td>1</td>\n",
       "      <td>1</td>\n",
       "      <td>1</td>\n",
       "      <td>0</td>\n",
       "    </tr>\n",
       "    <tr>\n",
       "      <th>11</th>\n",
       "      <td>16</td>\n",
       "      <td>15</td>\n",
       "      <td>0.010453</td>\n",
       "      <td>59.615623</td>\n",
       "      <td>1.000000</td>\n",
       "      <td>1</td>\n",
       "      <td>1</td>\n",
       "      <td>1</td>\n",
       "      <td>0</td>\n",
       "    </tr>\n",
       "    <tr>\n",
       "      <th>12</th>\n",
       "      <td>16</td>\n",
       "      <td>16</td>\n",
       "      <td>0.108173</td>\n",
       "      <td>32.590096</td>\n",
       "      <td>1.015385</td>\n",
       "      <td>1</td>\n",
       "      <td>1</td>\n",
       "      <td>1</td>\n",
       "      <td>0</td>\n",
       "    </tr>\n",
       "    <tr>\n",
       "      <th>13</th>\n",
       "      <td>16</td>\n",
       "      <td>17</td>\n",
       "      <td>0.058194</td>\n",
       "      <td>-57.231386</td>\n",
       "      <td>1.083333</td>\n",
       "      <td>1</td>\n",
       "      <td>1</td>\n",
       "      <td>1</td>\n",
       "      <td>0</td>\n",
       "    </tr>\n",
       "    <tr>\n",
       "      <th>14</th>\n",
       "      <td>16</td>\n",
       "      <td>18</td>\n",
       "      <td>0.002494</td>\n",
       "      <td>-52.595256</td>\n",
       "      <td>0.000000</td>\n",
       "      <td>0</td>\n",
       "      <td>1</td>\n",
       "      <td>1</td>\n",
       "      <td>0</td>\n",
       "    </tr>\n",
       "    <tr>\n",
       "      <th>15</th>\n",
       "      <td>17</td>\n",
       "      <td>13</td>\n",
       "      <td>0.125742</td>\n",
       "      <td>61.936583</td>\n",
       "      <td>3.000000</td>\n",
       "      <td>2</td>\n",
       "      <td>1</td>\n",
       "      <td>1</td>\n",
       "      <td>0</td>\n",
       "    </tr>\n",
       "    <tr>\n",
       "      <th>16</th>\n",
       "      <td>17</td>\n",
       "      <td>16</td>\n",
       "      <td>0.080026</td>\n",
       "      <td>7.211774</td>\n",
       "      <td>1.020833</td>\n",
       "      <td>1</td>\n",
       "      <td>1</td>\n",
       "      <td>1</td>\n",
       "      <td>0</td>\n",
       "    </tr>\n",
       "    <tr>\n",
       "      <th>17</th>\n",
       "      <td>17</td>\n",
       "      <td>17</td>\n",
       "      <td>0.161163</td>\n",
       "      <td>-22.291587</td>\n",
       "      <td>1.151515</td>\n",
       "      <td>1</td>\n",
       "      <td>1</td>\n",
       "      <td>1</td>\n",
       "      <td>0</td>\n",
       "    </tr>\n",
       "    <tr>\n",
       "      <th>18</th>\n",
       "      <td>17</td>\n",
       "      <td>18</td>\n",
       "      <td>0.000020</td>\n",
       "      <td>-50.683916</td>\n",
       "      <td>0.000000</td>\n",
       "      <td>0</td>\n",
       "      <td>1</td>\n",
       "      <td>1</td>\n",
       "      <td>0</td>\n",
       "    </tr>\n",
       "  </tbody>\n",
       "</table>\n",
       "</div>"
      ],
      "text/plain": [
       "     x   y    energy     z_mean  seg_mean  seg_max  binclass  fnum  dataset_id\n",
       "0   11  16  0.133081 -66.276862  1.103448        3         1     1           0\n",
       "1   12  15  0.004269 -59.143117  1.000000        1         1     1           0\n",
       "2   12  16  0.018728 -58.811244  1.000000        1         1     1           0\n",
       "3   13  15  0.014933 -61.745256  1.000000        1         1     1           0\n",
       "4   13  16  0.001750 -59.883951  0.000000        0         1     1           0\n",
       "5   14  15  0.020128 -64.322781  1.000000        1         1     1           0\n",
       "6   15  14  0.116593  52.085661  1.266667        1         1     1           0\n",
       "7   15  15  0.059147 -32.463407  1.130435        1         1     1           0\n",
       "8   15  16  0.006885 -29.212142  1.000000        1         1     1           0\n",
       "9   16  13  0.065848  55.326212  2.291667        1         1     1           0\n",
       "10  16  14  0.012373  52.497190  1.000000        1         1     1           0\n",
       "11  16  15  0.010453  59.615623  1.000000        1         1     1           0\n",
       "12  16  16  0.108173  32.590096  1.015385        1         1     1           0\n",
       "13  16  17  0.058194 -57.231386  1.083333        1         1     1           0\n",
       "14  16  18  0.002494 -52.595256  0.000000        0         1     1           0\n",
       "15  17  13  0.125742  61.936583  3.000000        2         1     1           0\n",
       "16  17  16  0.080026   7.211774  1.020833        1         1     1           0\n",
       "17  17  17  0.161163 -22.291587  1.151515        1         1     1           0\n",
       "18  17  18  0.000020 -50.683916  0.000000        0         1     1           0"
      ]
     },
     "execution_count": 121,
     "metadata": {},
     "output_type": "execute_result"
    }
   ],
   "source": [
    "event"
   ]
  },
  {
   "cell_type": "code",
   "execution_count": 40,
   "metadata": {},
   "outputs": [
    {
     "data": {
      "text/plain": [
       "(6, 104914, 31, 31)"
      ]
     },
     "execution_count": 40,
     "metadata": {},
     "output_type": "execute_result"
    }
   ],
   "source": [
    "z.shape"
   ]
  },
  {
   "cell_type": "code",
   "execution_count": 41,
   "metadata": {},
   "outputs": [
    {
     "data": {
      "text/plain": [
       "['xy_segclass_mean',\n",
       " 'xy_ext_max',\n",
       " 'yz_segclass_mean',\n",
       " 'yz_ext_max',\n",
       " 'zx_segclass_mean',\n",
       " 'zx_ext_max']"
      ]
     },
     "execution_count": 41,
     "metadata": {},
     "output_type": "execute_result"
    }
   ],
   "source": [
    "zlabel"
   ]
  },
  {
   "cell_type": "code",
   "execution_count": 56,
   "metadata": {},
   "outputs": [
    {
     "data": {
      "image/png": "[encoded data removed]",
      "text/plain": [
       "<Figure size 640x480 with 1 Axes>"
      ]
     },
     "metadata": {},
     "output_type": "display_data"
    },
    {
     "data": {
      "image/png": "[encoded data removed]",
      "text/plain": [
       "<Figure size 640x480 with 1 Axes>"
      ]
     },
     "metadata": {},
     "output_type": "display_data"
    }
   ],
   "source": [
    "import matplotlib.pyplot as plt\n",
    "\n",
    "plt.imshow(x[0][n] * 100000)\n",
    "plt.xticks(np.arange(1, 32, 1))\n",
    "plt.yticks(np.arange(1, 32, 1))\n",
    "plt.grid()\n",
    "plt.show()\n",
    "plt.imshow(z[1][n] * 100000)\n",
    "plt.xticks(np.arange(1, 32, 1))\n",
    "plt.yticks(np.arange(1, 32, 1))\n",
    "plt.grid()\n",
    "plt.show()"
   ]
  },
  {
   "cell_type": "code",
   "execution_count": 116,
   "metadata": {},
   "outputs": [
    {
     "data": {
      "text/plain": [
       "(array([11, 12, 12, 13, 13, 14, 15, 15, 15, 16, 16, 16, 16, 16, 16, 17, 17,\n",
       "        17, 17]),\n",
       " array([16, 15, 16, 15, 16, 15, 14, 15, 16, 13, 14, 15, 16, 17, 18, 13, 16,\n",
       "        17, 18]))"
      ]
     },
     "execution_count": 116,
     "metadata": {},
     "output_type": "execute_result"
    }
   ],
   "source": [
    "x[1][n].nonzero()"
   ]
  },
  {
   "cell_type": "code",
   "execution_count": 117,
   "metadata": {},
   "outputs": [
    {
     "data": {
      "text/plain": [
       "(array([11, 12, 12, 13, 14, 15, 15, 15, 16, 16, 16, 16, 16, 17, 17, 17]),\n",
       " array([16, 15, 16, 15, 15, 14, 15, 16, 13, 14, 15, 16, 17, 13, 16, 17]))"
      ]
     },
     "execution_count": 117,
     "metadata": {},
     "output_type": "execute_result"
    }
   ],
   "source": [
    "z[1][n].nonzero()"
   ]
  },
  {
   "cell_type": "code",
   "execution_count": 61,
   "metadata": {},
   "outputs": [
    {
     "data": {
      "text/plain": [
       "(19, 16)"
      ]
     },
     "execution_count": 61,
     "metadata": {},
     "output_type": "execute_result"
    }
   ],
   "source": [
    "len(x[1][n].nonzero()[0]), len(z[1][n].nonzero()[0])"
   ]
  },
  {
   "cell_type": "markdown",
   "metadata": {},
   "source": [
    "Coords that do not match (they are in x but not in z): (13, 16), (16, 18), (17, 18)"
   ]
  },
  {
   "cell_type": "markdown",
   "metadata": {},
   "source": [
    "Parece que los que faltan son cuadrados con muy poca energía pero... no deberían estar vacíos entiendo\n",
    "\n",
    "Y luego lo de que solo veo un voxel de blob en eventos de señal..."
   ]
  },
  {
   "cell_type": "code",
   "execution_count": 118,
   "metadata": {},
   "outputs": [
    {
     "data": {
      "text/plain": [
       "2.047578636467885e-05"
      ]
     },
     "execution_count": 118,
     "metadata": {},
     "output_type": "execute_result"
    }
   ],
   "source": [
    "x[0][n][17, 18]"
   ]
  },
  {
   "cell_type": "code",
   "execution_count": 119,
   "metadata": {},
   "outputs": [
    {
     "data": {
      "text/plain": [
       "0.0"
      ]
     },
     "execution_count": 119,
     "metadata": {},
     "output_type": "execute_result"
    }
   ],
   "source": [
    "z[1][n][17, 18]"
   ]
  },
  {
   "cell_type": "markdown",
   "metadata": {},
   "source": [
    "Por que los voxeles de x (datos) y z (true) para la misma proyeccion no coinciden? Es decir, no hay la misma cantidad, hay voxeles de z true que están vacíos mientras que los datos no... falta algo (los que quedan con segclass 0 además luego los shifteo y se van a -1)\n",
    "\n",
    "Por que en z la segclass sólo tiene un pixel como blob en lugar de 2 si estamos con datos doble beta??"
   ]
  },
  {
   "cell_type": "markdown",
   "metadata": {},
   "source": [
    "Luego preguntar tb que es 'xy_z_mean', porque si es la media directa no debería tener valores negativos no? (z va de 0 a 1300 aprox)"
   ]
  },
  {
   "cell_type": "code",
   "execution_count": 111,
   "metadata": {},
   "outputs": [
    {
     "data": {
      "text/plain": [
       "['xy_E_sum', 'xy_z_mean', 'yz_E_sum', 'yz_x_mean', 'zx_E_sum', 'zx_y_mean']"
      ]
     },
     "execution_count": 111,
     "metadata": {},
     "output_type": "execute_result"
    }
   ],
   "source": [
    "xlabel"
   ]
  },
  {
   "cell_type": "code",
   "execution_count": null,
   "metadata": {},
   "outputs": [],
   "source": []
  }
 ],
 "metadata": {
  "kernelspec": {
   "display_name": "Python 3 (ipykernel)",
   "language": "python",
   "name": "python3"
  }
 },
 "nbformat": 4,
 "nbformat_minor": 2
}
