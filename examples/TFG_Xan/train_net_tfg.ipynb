{
 "cells": [
  {
   "cell_type": "markdown",
   "metadata": {},
   "source": [
    "# ENTRENAR LA RED"
   ]
  },
  {
   "cell_type": "markdown",
   "metadata": {},
   "source": [
    "Una vez tienes tu diseño de red y los datos, ya podemos entrenar la red. Esto no se hace desde un Jupyter notebook, pero aquí te voy a dejar explicado como lo tienes que hacer (igualmente quedamos y te enseño a hacerlo, pero esto te queda para que luego consultes)"
   ]
  },
  {
   "cell_type": "markdown",
   "metadata": {},
   "source": [
    "Vas a tener que abrir distintos archivos de texto, editarlos y guardarlos, por tanto ten en cuenta que:\n",
    "* ABRIR: `emacs nombre_fichero`\n",
    "* EDITAR: escribes y borras lo que quieras\n",
    "* GUARDAR: `ctrl+c`, `ctrl+s`\n",
    "* CERRAR: `ctrl+c`, `ctrl+x`"
   ]
  },
  {
   "cell_type": "markdown",
   "metadata": {},
   "source": [
    "En tu `HOME` del CESGA vas a encontrar una carpeta que se llama `tfg_xan`. Ahí se encuentran los archivos necesarios para poder correr la red neuronal. Vas a encontrar:\n",
    "\n",
    "* `NEXT_graphs`: archivos .py con las funciones de entreno, las arquitecturas de red...\n",
    "    * `networks`: archivo donde pegar las redes que tú hayas creado (`architectures.py`) --> **al abrir el archivo encontrarás una red de prueba; puedes dejarla o borrarla y pegar ahí tus otras redes**\n",
    "    * `utils`: diferentes archivos de python con funciones para distintas funciones (leer los datos, entrenar la red...) --> **de estos archivos en principio sólo tienes que entrar en `data_loader.py` y añadir en `LabelType` el nombre de tu red/redes tal y como esá hecho con la red de prueba**\n",
    "* `notebooks`: ahora mismo no tiene nada pero puedes usarla para poner ahi tus notebooks en lugar de tenerlos en `HOME`\n",
    "* `scripts`: tiene un script que se llama `main.py`. Este script tiene 2 funcionalidades: entrenar la red (cargar los datos, construir la red, tomar las funciones de entreno que están en `train_utils.py` y pasar nuestros datos por ellas para entrenar la red); y también predecir los datos con la red (cargar los datos, tomar la red entrenada y pasar los datos de test por ella para ver los resultados). Este es el corazón del proceso, pero **no tendrás que tocarlo directamente**.\n",
    "\n",
    "* `templates`: FINALMENTE esto contiene lo más importante y lo que tendrás que manejar cada vez que vayas a entrenar, que son los **ficheros de configuración y los scripts .sh**\n",
    "\n"
   ]
  },
  {
   "cell_type": "markdown",
   "metadata": {},
   "source": [
    "## SCRIPTS"
   ]
  },
  {
   "cell_type": "markdown",
   "metadata": {},
   "source": [
    "Necesitas 3 cosas para poner en marcha un entreno/predicción:\n",
    "\n",
    "* **`CONFIG`**: fichero con todas las **VARIABLES** necesarias para el entreno. Contiene todo: el nombre del fichero de datos, el nombre de la red, los parámetros de la red, el tipo de entreno, número de epochs que quieres que entrene, tamaño del batch, las carpetas en las que guardar toda la info... todo lo que te puedas imaginar.\n",
    "\n",
    "* **`TASK`**: fichero donde escribes la **ACCIÓN** que quieres realizar, es decir, el comando. En nuestro caso es una sóla línea para correr el script `main.py` del que hablé antes, en la cual llamas con python a ese script, le dices qué acción tiene que hacer con `-a` y le indicas que archivo de config coger con `-conf`, por ejemplo: `python /path/to/main.py -a train -conf /path/to/conf/file.conf`\n",
    "\n",
    "* **`JOB`**: fichero en el que das la **ORDEN** de correr una task al CESGA, con ciertas especificaciones, tales como el numero de tasks a correr (`--ntasks`, que en este caso es 1 ya que por cada job mandas sólo 1 entreno), el tiempo que quieres que te den para correr tu script (`--time`, que en principio lo dejamos a 6 horas, ya que poner más hace que tarde más tiempo en que empiece a correr), la memoria que necesitas por cpu (`--mem-per-cpu`, esto hay que adaptarlo, te explico más abajo), el numero de cores (`--cpus-per-task`, en nuestro caso, van a ser 32 siempre)... y finalmente la orden, que es la línea al final donde pone `srun --ntasks 1 --exclusive --cpus-per-task N /path/to/task.sh`. "
   ]
  },
  {
   "cell_type": "markdown",
   "metadata": {},
   "source": [
    "Como ves, una encadena a otra: el `job` manda a correr una `task`, y la `task` manda correr al script `main.py` con un `config` que tu le das. Lo único que hay que hacer es poner en estos archivos lo que quieres hacer, y luego correr el job."
   ]
  },
  {
   "cell_type": "markdown",
   "metadata": {},
   "source": [
    "Para entrenar necesitas 3 (`train_net.conf`, `train_task.sh`, `train_job.sh`), y para predecir también 3 (`pred_net.conf`, `pred_task.sh`, `pred_job.sh`), por eso en la carpeta templates hay 6 ficheros para que tengas como referencia."
   ]
  },
  {
   "cell_type": "markdown",
   "metadata": {},
   "source": [
    "## Guía para los jobs"
   ]
  },
  {
   "cell_type": "markdown",
   "metadata": {},
   "source": [
    "En el `job` es importante que  sepas que usamos una GPU (es mucho más rápida que las máquinas normales), y por requerimientos del CESGA tenemos que pedir siempre 32 cores como dije arriba. Entonces, para controlar la memoria que pedimos en cada job, ese número queda fijo y variamos el valor de `--mem-per-cpu`. Si pedimos 1G de memoria por cpu, entonces tendremos 1G * 32 cores = 32 G. \n",
    "\n",
    "Para entrenar una red vamos a necesitar tener como MÍNIMO tanta memoria como ocupan nuestros datos (para 13 bar los datos ocupan 4.1G, para 5 bar, 12G...) más lo que ocupe la red en sí, etc. Te dejo como recomendación por lo que ya probé yo, los valores que vas a necesitar para cada presión:\n",
    "\n",
    "* **`13bar`**: con ~15G en total es suficiente, puedes poner `500M`  por cada cpu.\n",
    "* **`5bar`** : con ~30G en total es suficiente, puedes poner `1G`    por cada cpu.\n",
    "* **`2bar`** : con ~45G en total es suficiente, puedes poner `1500M` por cada cpu.\n",
    "* **`1bar`** : con ~80G en total es suficiente, puedes poner `2500M` por cada cpu.\n",
    "\n",
    "De todas formas esto depende de varias cosas, si mandas un job y se cancela por falta de memoria, tendrás que subir un poco los valores que te estoy dando ya que son una aproximación."
   ]
  },
  {
   "cell_type": "markdown",
   "metadata": {},
   "source": [
    "Luego, el tema del tiempo, tenes 3 posibilidades:\n",
    "\n",
    "* Hasta 6 horas: el job tiene prioridad máxima, empieza a correr muy rápido.\n",
    "* Entre 6 horas y 3 días: el job tiene menos prioridad, tarda en empezar más tiempo, a veces días.\n",
    "* Más de 3 días: aun menos prioridad, nunca probé pero debe tardar mucho en empezar.\n",
    "\n",
    "En principio, con 6 horas en la mayoría vamos bien, quizás los de 2 y 1 bar que tardan más podemos poner más horas, y aunque tarden mucho en empezar no tienes que estar pendiente, eso vamos mirando. También hay la posibilidad de mandar siempre 6 horas, y si el entreno se quedó muy corto, reanudar durante otras 6 horas donde nos quedamos (esta opción simplemente requiere estar más atento continuamente, entrar y ver si acabaron, cambiar los scripts para relanzarlos...)"
   ]
  },
  {
   "cell_type": "markdown",
   "metadata": {},
   "source": [
    "## Cómo hacerlo"
   ]
  },
  {
   "cell_type": "markdown",
   "metadata": {},
   "source": [
    "Yo te recomiendo que cada vez que quieras entrenar (y posteriormente predecir) una red, sigas los siguientes pasos:\n",
    "\n",
    "* Crea una carpeta para el entrenamiento dentro de la carpeta de la presión en `LUSTRE` (el comando es `mkidr nombre_carpeta`)\n",
    "* Dale un nombre que te identifique el entreno. Ahora mismo hay un ejemplo dentro de la carpeta de `13bar` que se llama `test_train`, para que tengas de referencia.\n",
    "* En tu carpeta creada vas a crear 3 carpetas: `checkpoints`, `logs`, `scripts`.\n",
    "* En `checkpoints` se irán guardando automáticamente \"capturas\" de tu red durante el entreno, para poder luego cargarla y usarla con las variables de ese instante.\n",
    "* En `logs` se van guardando la información del entreno.\n",
    "* En `scripts` lo que vas a hacer es copiar los 6 ficheros de la carpeta `templates` (haces `scp ficheros_a_copiar carpeta_destino`, si usas `*` te copia todos los ficheros de una carpeta)\n",
    "* Una vez los tienes copiados, cambia todo lo necesario (lo principal es que cambies los paths que hay, para que el job sepa qué task correr, y esta qué config usar, y dentro del config igual, tomar los distintos paths para que se lean los datos adecuados, etc). Este es el paso importante, ya que un fallo aquí o que te olvides de cambiar algo puede llevar a la confusión, o a que no funcione la red. También es importante que las especificaciones del job las cambies (más tiempo, más memoria para que no se rompa el job...)\n",
    "* Para editar esos archivos de texto, los puedes abrir con `emacs nombre_fichero` y ahi editar; para guardar haces `Ctrl+c, Ctrl+s` y para cerrar hacer `Ctrl+c, Ctrl+x`\n",
    "* Cuando estés completamente seguro de que tienes todo a punto, puedes mandar el job haciendo `sbatch train_job.sh``\n",
    "* Puedes comprobar el estado de tu job haciendo `squeue`, ver cuánto tiempo lleva corriendo..."
   ]
  },
  {
   "cell_type": "markdown",
   "metadata": {},
   "source": [
    "También es importante que veas los ficheros de log y de error que crea. Deberían estar en la carpeta `logs` que creaste. Ahí te informa si hay algún error durante el job, para así poder solucionarlo. Tienes que comprobar siempre estos ficheros a ver qué te dicen (puedes hacer print de ellos haciendo `cat nombre_fichero`)"
   ]
  },
  {
   "cell_type": "markdown",
   "metadata": {},
   "source": [
    "## TENSORBOARD: monitorizar el entreno"
   ]
  },
  {
   "cell_type": "markdown",
   "metadata": {},
   "source": [
    "Hay un archivo que se guarda automáticamente en la carpeta `logs` con la información del entreno para poder ver qué pasa."
   ]
  },
  {
   "cell_type": "code",
   "execution_count": 1,
   "metadata": {},
   "outputs": [],
   "source": [
    "import sys\n",
    "import glob\n",
    "import numpy as np\n",
    "import pandas as pd\n",
    "import matplotlib.pyplot as plt\n",
    "\n",
    "home_path = ! echo $HOME\n",
    "lustre_path = ! echo $LUSTRE\n",
    "\n",
    "sys.path.append(home_path[0] + '/tfg_xan')\n",
    "\n",
    "from NEXT_graphs.utils.read_tensorboard import load_tensorboard_df"
   ]
  },
  {
   "cell_type": "markdown",
   "metadata": {},
   "source": [
    "Con el entreno de prueba que hize (con la red de prueba) podemos ver un ejemplo de este fichero:"
   ]
  },
  {
   "cell_type": "code",
   "execution_count": 2,
   "metadata": {},
   "outputs": [],
   "source": [
    "path_tb = '/data/13bar/test_train/logs/'\n",
    "file_tb = 'events.out.tfevents.1714747781.c202-8.2520132.0'\n",
    "\n",
    "\n",
    "tb_test = load_tensorboard_df(lustre_path[0] + path_tb + file_tb)"
   ]
  },
  {
   "cell_type": "markdown",
   "metadata": {},
   "source": [
    "Vemos que tiene el tiempo (tiempo de reloj del ordenador) de cada `epoch` (se llama `step` aquí), la `loss` para los datos de entreno y validación, la `accuracy` también y el `learning rate`,  que es un parámetro del entreno que hicimos que fuera cambiando (nos interesa ver cómo cambia)"
   ]
  },
  {
   "cell_type": "code",
   "execution_count": 3,
   "metadata": {},
   "outputs": [
    {
     "data": {
      "text/html": [
       "<div>\n",
       "<style scoped>\n",
       "    .dataframe tbody tr th:only-of-type {\n",
       "        vertical-align: middle;\n",
       "    }\n",
       "\n",
       "    .dataframe tbody tr th {\n",
       "        vertical-align: top;\n",
       "    }\n",
       "\n",
       "    .dataframe thead th {\n",
       "        text-align: right;\n",
       "    }\n",
       "</style>\n",
       "<table border=\"1\" class=\"dataframe\">\n",
       "  <thead>\n",
       "    <tr style=\"text-align: right;\">\n",
       "      <th></th>\n",
       "      <th>wall_time</th>\n",
       "      <th>step</th>\n",
       "      <th>loss_train</th>\n",
       "      <th>loss_valid</th>\n",
       "      <th>acc_train</th>\n",
       "      <th>acc_valid</th>\n",
       "      <th>lr</th>\n",
       "    </tr>\n",
       "  </thead>\n",
       "  <tbody>\n",
       "    <tr>\n",
       "      <th>0</th>\n",
       "      <td>1.714748e+09</td>\n",
       "      <td>0</td>\n",
       "      <td>0.691884</td>\n",
       "      <td>0.687764</td>\n",
       "      <td>0.518975</td>\n",
       "      <td>0.535923</td>\n",
       "      <td>0.0005</td>\n",
       "    </tr>\n",
       "    <tr>\n",
       "      <th>1</th>\n",
       "      <td>1.714748e+09</td>\n",
       "      <td>1</td>\n",
       "      <td>0.672187</td>\n",
       "      <td>0.647201</td>\n",
       "      <td>0.613023</td>\n",
       "      <td>0.687354</td>\n",
       "      <td>0.0005</td>\n",
       "    </tr>\n",
       "    <tr>\n",
       "      <th>2</th>\n",
       "      <td>1.714748e+09</td>\n",
       "      <td>2</td>\n",
       "      <td>0.622727</td>\n",
       "      <td>0.602177</td>\n",
       "      <td>0.690759</td>\n",
       "      <td>0.677035</td>\n",
       "      <td>0.0005</td>\n",
       "    </tr>\n",
       "    <tr>\n",
       "      <th>3</th>\n",
       "      <td>1.714748e+09</td>\n",
       "      <td>3</td>\n",
       "      <td>0.585331</td>\n",
       "      <td>0.574097</td>\n",
       "      <td>0.706676</td>\n",
       "      <td>0.701859</td>\n",
       "      <td>0.0005</td>\n",
       "    </tr>\n",
       "    <tr>\n",
       "      <th>4</th>\n",
       "      <td>1.714748e+09</td>\n",
       "      <td>4</td>\n",
       "      <td>0.569484</td>\n",
       "      <td>0.569967</td>\n",
       "      <td>0.710178</td>\n",
       "      <td>0.721184</td>\n",
       "      <td>0.0005</td>\n",
       "    </tr>\n",
       "    <tr>\n",
       "      <th>5</th>\n",
       "      <td>1.714749e+09</td>\n",
       "      <td>5</td>\n",
       "      <td>0.565230</td>\n",
       "      <td>0.566720</td>\n",
       "      <td>0.712494</td>\n",
       "      <td>0.721135</td>\n",
       "      <td>0.0005</td>\n",
       "    </tr>\n",
       "    <tr>\n",
       "      <th>6</th>\n",
       "      <td>1.714749e+09</td>\n",
       "      <td>6</td>\n",
       "      <td>0.564225</td>\n",
       "      <td>0.571334</td>\n",
       "      <td>0.712093</td>\n",
       "      <td>0.691637</td>\n",
       "      <td>0.0005</td>\n",
       "    </tr>\n",
       "    <tr>\n",
       "      <th>7</th>\n",
       "      <td>1.714749e+09</td>\n",
       "      <td>7</td>\n",
       "      <td>0.562565</td>\n",
       "      <td>0.568030</td>\n",
       "      <td>0.714257</td>\n",
       "      <td>0.720940</td>\n",
       "      <td>0.0005</td>\n",
       "    </tr>\n",
       "    <tr>\n",
       "      <th>8</th>\n",
       "      <td>1.714749e+09</td>\n",
       "      <td>8</td>\n",
       "      <td>0.563717</td>\n",
       "      <td>0.565562</td>\n",
       "      <td>0.712573</td>\n",
       "      <td>0.699718</td>\n",
       "      <td>0.0005</td>\n",
       "    </tr>\n",
       "    <tr>\n",
       "      <th>9</th>\n",
       "      <td>1.714749e+09</td>\n",
       "      <td>9</td>\n",
       "      <td>0.562900</td>\n",
       "      <td>0.561690</td>\n",
       "      <td>0.714044</td>\n",
       "      <td>0.713298</td>\n",
       "      <td>0.0005</td>\n",
       "    </tr>\n",
       "    <tr>\n",
       "      <th>10</th>\n",
       "      <td>1.714749e+09</td>\n",
       "      <td>10</td>\n",
       "      <td>0.563009</td>\n",
       "      <td>0.562600</td>\n",
       "      <td>0.713619</td>\n",
       "      <td>0.708528</td>\n",
       "      <td>0.0005</td>\n",
       "    </tr>\n",
       "    <tr>\n",
       "      <th>11</th>\n",
       "      <td>1.714749e+09</td>\n",
       "      <td>11</td>\n",
       "      <td>0.562637</td>\n",
       "      <td>0.565377</td>\n",
       "      <td>0.713224</td>\n",
       "      <td>0.700448</td>\n",
       "      <td>0.0005</td>\n",
       "    </tr>\n",
       "    <tr>\n",
       "      <th>12</th>\n",
       "      <td>1.714749e+09</td>\n",
       "      <td>12</td>\n",
       "      <td>0.563086</td>\n",
       "      <td>0.563109</td>\n",
       "      <td>0.713923</td>\n",
       "      <td>0.705851</td>\n",
       "      <td>0.0005</td>\n",
       "    </tr>\n",
       "    <tr>\n",
       "      <th>13</th>\n",
       "      <td>1.714750e+09</td>\n",
       "      <td>13</td>\n",
       "      <td>0.563066</td>\n",
       "      <td>0.561671</td>\n",
       "      <td>0.713740</td>\n",
       "      <td>0.717776</td>\n",
       "      <td>0.0005</td>\n",
       "    </tr>\n",
       "    <tr>\n",
       "      <th>14</th>\n",
       "      <td>1.714750e+09</td>\n",
       "      <td>14</td>\n",
       "      <td>0.562788</td>\n",
       "      <td>0.569694</td>\n",
       "      <td>0.714184</td>\n",
       "      <td>0.721476</td>\n",
       "      <td>0.0005</td>\n",
       "    </tr>\n",
       "    <tr>\n",
       "      <th>15</th>\n",
       "      <td>1.714750e+09</td>\n",
       "      <td>15</td>\n",
       "      <td>0.562763</td>\n",
       "      <td>0.561665</td>\n",
       "      <td>0.714604</td>\n",
       "      <td>0.717533</td>\n",
       "      <td>0.0005</td>\n",
       "    </tr>\n",
       "    <tr>\n",
       "      <th>16</th>\n",
       "      <td>1.714750e+09</td>\n",
       "      <td>16</td>\n",
       "      <td>0.562986</td>\n",
       "      <td>0.578876</td>\n",
       "      <td>0.713752</td>\n",
       "      <td>0.684287</td>\n",
       "      <td>0.0005</td>\n",
       "    </tr>\n",
       "    <tr>\n",
       "      <th>17</th>\n",
       "      <td>1.714750e+09</td>\n",
       "      <td>17</td>\n",
       "      <td>0.562575</td>\n",
       "      <td>0.565168</td>\n",
       "      <td>0.714227</td>\n",
       "      <td>0.700107</td>\n",
       "      <td>0.0005</td>\n",
       "    </tr>\n",
       "    <tr>\n",
       "      <th>18</th>\n",
       "      <td>1.714750e+09</td>\n",
       "      <td>18</td>\n",
       "      <td>0.562682</td>\n",
       "      <td>0.570028</td>\n",
       "      <td>0.714287</td>\n",
       "      <td>0.693828</td>\n",
       "      <td>0.0005</td>\n",
       "    </tr>\n",
       "    <tr>\n",
       "      <th>19</th>\n",
       "      <td>1.714750e+09</td>\n",
       "      <td>19</td>\n",
       "      <td>0.562078</td>\n",
       "      <td>0.561426</td>\n",
       "      <td>0.713801</td>\n",
       "      <td>0.714418</td>\n",
       "      <td>0.0005</td>\n",
       "    </tr>\n",
       "    <tr>\n",
       "      <th>20</th>\n",
       "      <td>1.714751e+09</td>\n",
       "      <td>20</td>\n",
       "      <td>0.562514</td>\n",
       "      <td>0.563056</td>\n",
       "      <td>0.713740</td>\n",
       "      <td>0.721963</td>\n",
       "      <td>0.0005</td>\n",
       "    </tr>\n",
       "    <tr>\n",
       "      <th>21</th>\n",
       "      <td>1.714751e+09</td>\n",
       "      <td>21</td>\n",
       "      <td>0.562547</td>\n",
       "      <td>0.561640</td>\n",
       "      <td>0.715430</td>\n",
       "      <td>0.717241</td>\n",
       "      <td>0.0005</td>\n",
       "    </tr>\n",
       "    <tr>\n",
       "      <th>22</th>\n",
       "      <td>1.714751e+09</td>\n",
       "      <td>22</td>\n",
       "      <td>0.562655</td>\n",
       "      <td>0.569208</td>\n",
       "      <td>0.713442</td>\n",
       "      <td>0.721232</td>\n",
       "      <td>0.0005</td>\n",
       "    </tr>\n",
       "    <tr>\n",
       "      <th>23</th>\n",
       "      <td>1.714751e+09</td>\n",
       "      <td>23</td>\n",
       "      <td>0.562784</td>\n",
       "      <td>0.587016</td>\n",
       "      <td>0.713783</td>\n",
       "      <td>0.715051</td>\n",
       "      <td>0.0005</td>\n",
       "    </tr>\n",
       "    <tr>\n",
       "      <th>24</th>\n",
       "      <td>1.714751e+09</td>\n",
       "      <td>24</td>\n",
       "      <td>0.562337</td>\n",
       "      <td>0.561622</td>\n",
       "      <td>0.714373</td>\n",
       "      <td>0.713834</td>\n",
       "      <td>0.0005</td>\n",
       "    </tr>\n",
       "    <tr>\n",
       "      <th>25</th>\n",
       "      <td>1.714751e+09</td>\n",
       "      <td>25</td>\n",
       "      <td>0.562132</td>\n",
       "      <td>0.567066</td>\n",
       "      <td>0.715406</td>\n",
       "      <td>0.720843</td>\n",
       "      <td>0.0005</td>\n",
       "    </tr>\n",
       "    <tr>\n",
       "      <th>26</th>\n",
       "      <td>1.714751e+09</td>\n",
       "      <td>26</td>\n",
       "      <td>0.562014</td>\n",
       "      <td>0.561486</td>\n",
       "      <td>0.714050</td>\n",
       "      <td>0.714856</td>\n",
       "      <td>0.0005</td>\n",
       "    </tr>\n",
       "    <tr>\n",
       "      <th>27</th>\n",
       "      <td>1.714751e+09</td>\n",
       "      <td>27</td>\n",
       "      <td>0.562702</td>\n",
       "      <td>0.561649</td>\n",
       "      <td>0.713983</td>\n",
       "      <td>0.715635</td>\n",
       "      <td>0.0005</td>\n",
       "    </tr>\n",
       "    <tr>\n",
       "      <th>28</th>\n",
       "      <td>1.714752e+09</td>\n",
       "      <td>28</td>\n",
       "      <td>0.562289</td>\n",
       "      <td>0.562073</td>\n",
       "      <td>0.714999</td>\n",
       "      <td>0.710475</td>\n",
       "      <td>0.0005</td>\n",
       "    </tr>\n",
       "    <tr>\n",
       "      <th>29</th>\n",
       "      <td>1.714752e+09</td>\n",
       "      <td>29</td>\n",
       "      <td>0.562345</td>\n",
       "      <td>0.563717</td>\n",
       "      <td>0.713935</td>\n",
       "      <td>0.721622</td>\n",
       "      <td>0.0005</td>\n",
       "    </tr>\n",
       "    <tr>\n",
       "      <th>30</th>\n",
       "      <td>1.714752e+09</td>\n",
       "      <td>30</td>\n",
       "      <td>0.562093</td>\n",
       "      <td>0.563606</td>\n",
       "      <td>0.714816</td>\n",
       "      <td>0.721330</td>\n",
       "      <td>0.0003</td>\n",
       "    </tr>\n",
       "    <tr>\n",
       "      <th>31</th>\n",
       "      <td>1.714752e+09</td>\n",
       "      <td>31</td>\n",
       "      <td>0.560512</td>\n",
       "      <td>0.561678</td>\n",
       "      <td>0.715911</td>\n",
       "      <td>0.712227</td>\n",
       "      <td>0.0003</td>\n",
       "    </tr>\n",
       "    <tr>\n",
       "      <th>32</th>\n",
       "      <td>1.714752e+09</td>\n",
       "      <td>32</td>\n",
       "      <td>0.560025</td>\n",
       "      <td>0.562990</td>\n",
       "      <td>0.716659</td>\n",
       "      <td>0.720746</td>\n",
       "      <td>0.0003</td>\n",
       "    </tr>\n",
       "    <tr>\n",
       "      <th>33</th>\n",
       "      <td>1.714752e+09</td>\n",
       "      <td>33</td>\n",
       "      <td>0.560027</td>\n",
       "      <td>0.561570</td>\n",
       "      <td>0.715582</td>\n",
       "      <td>0.716949</td>\n",
       "      <td>0.0003</td>\n",
       "    </tr>\n",
       "    <tr>\n",
       "      <th>34</th>\n",
       "      <td>1.714752e+09</td>\n",
       "      <td>34</td>\n",
       "      <td>0.560202</td>\n",
       "      <td>0.569428</td>\n",
       "      <td>0.715905</td>\n",
       "      <td>0.695288</td>\n",
       "      <td>0.0003</td>\n",
       "    </tr>\n",
       "    <tr>\n",
       "      <th>35</th>\n",
       "      <td>1.714752e+09</td>\n",
       "      <td>35</td>\n",
       "      <td>0.560131</td>\n",
       "      <td>0.567483</td>\n",
       "      <td>0.715990</td>\n",
       "      <td>0.720892</td>\n",
       "      <td>0.0003</td>\n",
       "    </tr>\n",
       "    <tr>\n",
       "      <th>36</th>\n",
       "      <td>1.714753e+09</td>\n",
       "      <td>36</td>\n",
       "      <td>0.560017</td>\n",
       "      <td>0.563805</td>\n",
       "      <td>0.716227</td>\n",
       "      <td>0.721476</td>\n",
       "      <td>0.0003</td>\n",
       "    </tr>\n",
       "  </tbody>\n",
       "</table>\n",
       "</div>"
      ],
      "text/plain": [
       "       wall_time  step  loss_train  loss_valid  acc_train  acc_valid      lr\n",
       "0   1.714748e+09     0    0.691884    0.687764   0.518975   0.535923  0.0005\n",
       "1   1.714748e+09     1    0.672187    0.647201   0.613023   0.687354  0.0005\n",
       "2   1.714748e+09     2    0.622727    0.602177   0.690759   0.677035  0.0005\n",
       "3   1.714748e+09     3    0.585331    0.574097   0.706676   0.701859  0.0005\n",
       "4   1.714748e+09     4    0.569484    0.569967   0.710178   0.721184  0.0005\n",
       "5   1.714749e+09     5    0.565230    0.566720   0.712494   0.721135  0.0005\n",
       "6   1.714749e+09     6    0.564225    0.571334   0.712093   0.691637  0.0005\n",
       "7   1.714749e+09     7    0.562565    0.568030   0.714257   0.720940  0.0005\n",
       "8   1.714749e+09     8    0.563717    0.565562   0.712573   0.699718  0.0005\n",
       "9   1.714749e+09     9    0.562900    0.561690   0.714044   0.713298  0.0005\n",
       "10  1.714749e+09    10    0.563009    0.562600   0.713619   0.708528  0.0005\n",
       "11  1.714749e+09    11    0.562637    0.565377   0.713224   0.700448  0.0005\n",
       "12  1.714749e+09    12    0.563086    0.563109   0.713923   0.705851  0.0005\n",
       "13  1.714750e+09    13    0.563066    0.561671   0.713740   0.717776  0.0005\n",
       "14  1.714750e+09    14    0.562788    0.569694   0.714184   0.721476  0.0005\n",
       "15  1.714750e+09    15    0.562763    0.561665   0.714604   0.717533  0.0005\n",
       "16  1.714750e+09    16    0.562986    0.578876   0.713752   0.684287  0.0005\n",
       "17  1.714750e+09    17    0.562575    0.565168   0.714227   0.700107  0.0005\n",
       "18  1.714750e+09    18    0.562682    0.570028   0.714287   0.693828  0.0005\n",
       "19  1.714750e+09    19    0.562078    0.561426   0.713801   0.714418  0.0005\n",
       "20  1.714751e+09    20    0.562514    0.563056   0.713740   0.721963  0.0005\n",
       "21  1.714751e+09    21    0.562547    0.561640   0.715430   0.717241  0.0005\n",
       "22  1.714751e+09    22    0.562655    0.569208   0.713442   0.721232  0.0005\n",
       "23  1.714751e+09    23    0.562784    0.587016   0.713783   0.715051  0.0005\n",
       "24  1.714751e+09    24    0.562337    0.561622   0.714373   0.713834  0.0005\n",
       "25  1.714751e+09    25    0.562132    0.567066   0.715406   0.720843  0.0005\n",
       "26  1.714751e+09    26    0.562014    0.561486   0.714050   0.714856  0.0005\n",
       "27  1.714751e+09    27    0.562702    0.561649   0.713983   0.715635  0.0005\n",
       "28  1.714752e+09    28    0.562289    0.562073   0.714999   0.710475  0.0005\n",
       "29  1.714752e+09    29    0.562345    0.563717   0.713935   0.721622  0.0005\n",
       "30  1.714752e+09    30    0.562093    0.563606   0.714816   0.721330  0.0003\n",
       "31  1.714752e+09    31    0.560512    0.561678   0.715911   0.712227  0.0003\n",
       "32  1.714752e+09    32    0.560025    0.562990   0.716659   0.720746  0.0003\n",
       "33  1.714752e+09    33    0.560027    0.561570   0.715582   0.716949  0.0003\n",
       "34  1.714752e+09    34    0.560202    0.569428   0.715905   0.695288  0.0003\n",
       "35  1.714752e+09    35    0.560131    0.567483   0.715990   0.720892  0.0003\n",
       "36  1.714753e+09    36    0.560017    0.563805   0.716227   0.721476  0.0003"
      ]
     },
     "execution_count": 3,
     "metadata": {},
     "output_type": "execute_result"
    }
   ],
   "source": [
    "tb_test"
   ]
  },
  {
   "cell_type": "markdown",
   "metadata": {},
   "source": [
    "Lo que deberías hacer por cada entreno son gráficas de epoch vs loss y epoch vs accuracy, comparando el entreno y la validación. Te había comentado que los datos de validación sirven para ver que la red no está haciendo cosas raras, aquí podrás verlo.\n",
    "\n",
    "También de aquí puedes sacar el tiempo medio que te tarda cada epoch, que es interesante, y ver cómo varía el learning rate (lo puedes superponer a las gráficas de epoch vs loss/acc, poniendo los valores del eje Y de ambos, uno a la izq y otro a la derecha, ya que van a estar en escalas distintas)"
   ]
  },
  {
   "cell_type": "markdown",
   "metadata": {},
   "source": [
    "## PREDECIR: tras el entreno, miramos los resultados"
   ]
  },
  {
   "cell_type": "markdown",
   "metadata": {},
   "source": [
    "Una vez entrenas la red, la prueba final es ver qué tal funciona con datos diferentes que nunca ha visto la red. Durante el entreno, en la carpeta `checkpoints` se han ido guardando \"capturas\" de la red, con los valores de las variables que la red tenía en un cierto epoch. Sólo se guardan esas capturas si la loss de la validación ha bajado respecto a epochs anteriores, así que no guardamos todos. \n",
    "\n",
    "Lo habitual entonces es tomar el último checkpoint guardado, ya que sería el de mejor resultado. No siempre es así, tenemos que mirar antes el tensorboard y comprobar que no sucedan cosas raras (imagínate que mandamos 200 epoch, pero a partir del epoch 100 vemos que el comportamiento no es bueno, no deberíamos tomar esos checkpoints aunque coincida que alguno es bueno, ya que se ve que el entrenamiento es inestable, y cogeríamos uno de antes del epoch 100).\n",
    "\n",
    "En el entreno de prueba que hice en la carpeta `test_train` podemos ver que hay varios checkpoints guardados. Lo que hay que hacer ahora es mandar un job de predicción, con los 3 scripts de predicción que te dije antes. Es importante que en el `config` escojas el checkpoint que va a cargar la red! En este caso, yo escogí el checkpoint 19 ya que era el último. En el `config` también tienes que escoger el fichero de datos, y el nombre y path del fichero con la predicción, es decir, con la salida de la red. Luego la `task` es igual que para el entreno, pero cambiando la acción `-a` y el `config`, y el job lo mismo, cambia la task a la de predicción. Además, como sólo van a pasar los datos de test 1 vez, no hace falta darle mucho tiempo (deja las 6 horas)."
   ]
  },
  {
   "cell_type": "markdown",
   "metadata": {},
   "source": [
    "Una vez mandas el job, y este termina, tenemos el fichero de predicción del que sacaremos resultados:"
   ]
  },
  {
   "cell_type": "code",
   "execution_count": 4,
   "metadata": {},
   "outputs": [],
   "source": [
    "pred_path = '/data/13bar/test_train/pred_test.h5'\n",
    "pred_test = pd.read_hdf(lustre_path[0] + pred_path, 'EventPred')"
   ]
  },
  {
   "cell_type": "markdown",
   "metadata": {},
   "source": [
    "Tenemos el el fichero el `file_id` y el `dataset_id` por si quisiéramos ver cómo son los eventos originalmente, tenemos su `binclass`, que nos dice si es señal (1) o fondo (0), y tenemos al probabilidad de que el evento sea de fondo (`class_0`) o de que sea de señal (`class_1`). \n",
    "\n",
    "Con estos datos podemos sacar la accuracy (el % de veces que la red acertó, tomando que si una clase tiene más del 50% de posibilidades, esa es la escogida) y la curva ROC, que nos da una información más concreta de cuál sería el threshold óptimo para considerar que un evento es señal o no (es decir, va comprobando distintos números de porcentaje y cómo esto influye en el resultado; puede ser que el threshold óptimo sea considerar que son señal los eventos que tengan un % mayor del 35%, en lugar del 50%)"
   ]
  },
  {
   "cell_type": "code",
   "execution_count": 5,
   "metadata": {},
   "outputs": [
    {
     "data": {
      "text/html": [
       "<div>\n",
       "<style scoped>\n",
       "    .dataframe tbody tr th:only-of-type {\n",
       "        vertical-align: middle;\n",
       "    }\n",
       "\n",
       "    .dataframe tbody tr th {\n",
       "        vertical-align: top;\n",
       "    }\n",
       "\n",
       "    .dataframe thead th {\n",
       "        text-align: right;\n",
       "    }\n",
       "</style>\n",
       "<table border=\"1\" class=\"dataframe\">\n",
       "  <thead>\n",
       "    <tr style=\"text-align: right;\">\n",
       "      <th></th>\n",
       "      <th>file_id</th>\n",
       "      <th>dataset_id</th>\n",
       "      <th>binclass</th>\n",
       "      <th>class_0</th>\n",
       "      <th>class_1</th>\n",
       "    </tr>\n",
       "  </thead>\n",
       "  <tbody>\n",
       "    <tr>\n",
       "      <th>11</th>\n",
       "      <td>1</td>\n",
       "      <td>14</td>\n",
       "      <td>0</td>\n",
       "      <td>0.201972</td>\n",
       "      <td>0.798028</td>\n",
       "    </tr>\n",
       "    <tr>\n",
       "      <th>3</th>\n",
       "      <td>1</td>\n",
       "      <td>17</td>\n",
       "      <td>1</td>\n",
       "      <td>0.187322</td>\n",
       "      <td>0.812678</td>\n",
       "    </tr>\n",
       "    <tr>\n",
       "      <th>9</th>\n",
       "      <td>1</td>\n",
       "      <td>18</td>\n",
       "      <td>1</td>\n",
       "      <td>0.543716</td>\n",
       "      <td>0.456284</td>\n",
       "    </tr>\n",
       "    <tr>\n",
       "      <th>26</th>\n",
       "      <td>1</td>\n",
       "      <td>19</td>\n",
       "      <td>1</td>\n",
       "      <td>0.215049</td>\n",
       "      <td>0.784951</td>\n",
       "    </tr>\n",
       "    <tr>\n",
       "      <th>15</th>\n",
       "      <td>1</td>\n",
       "      <td>27</td>\n",
       "      <td>1</td>\n",
       "      <td>0.781285</td>\n",
       "      <td>0.218716</td>\n",
       "    </tr>\n",
       "    <tr>\n",
       "      <th>...</th>\n",
       "      <td>...</td>\n",
       "      <td>...</td>\n",
       "      <td>...</td>\n",
       "      <td>...</td>\n",
       "      <td>...</td>\n",
       "    </tr>\n",
       "    <tr>\n",
       "      <th>11</th>\n",
       "      <td>2000</td>\n",
       "      <td>0</td>\n",
       "      <td>0</td>\n",
       "      <td>0.467321</td>\n",
       "      <td>0.532679</td>\n",
       "    </tr>\n",
       "    <tr>\n",
       "      <th>28</th>\n",
       "      <td>2000</td>\n",
       "      <td>9</td>\n",
       "      <td>0</td>\n",
       "      <td>0.807377</td>\n",
       "      <td>0.192623</td>\n",
       "    </tr>\n",
       "    <tr>\n",
       "      <th>5</th>\n",
       "      <td>2000</td>\n",
       "      <td>18</td>\n",
       "      <td>0</td>\n",
       "      <td>0.682498</td>\n",
       "      <td>0.317502</td>\n",
       "    </tr>\n",
       "    <tr>\n",
       "      <th>26</th>\n",
       "      <td>2000</td>\n",
       "      <td>36</td>\n",
       "      <td>0</td>\n",
       "      <td>0.682401</td>\n",
       "      <td>0.317599</td>\n",
       "    </tr>\n",
       "    <tr>\n",
       "      <th>23</th>\n",
       "      <td>2000</td>\n",
       "      <td>43</td>\n",
       "      <td>0</td>\n",
       "      <td>0.404914</td>\n",
       "      <td>0.595086</td>\n",
       "    </tr>\n",
       "  </tbody>\n",
       "</table>\n",
       "<p>20562 rows × 5 columns</p>\n",
       "</div>"
      ],
      "text/plain": [
       "    file_id  dataset_id  binclass   class_0   class_1\n",
       "11        1          14         0  0.201972  0.798028\n",
       "3         1          17         1  0.187322  0.812678\n",
       "9         1          18         1  0.543716  0.456284\n",
       "26        1          19         1  0.215049  0.784951\n",
       "15        1          27         1  0.781285  0.218716\n",
       "..      ...         ...       ...       ...       ...\n",
       "11     2000           0         0  0.467321  0.532679\n",
       "28     2000           9         0  0.807377  0.192623\n",
       "5      2000          18         0  0.682498  0.317502\n",
       "26     2000          36         0  0.682401  0.317599\n",
       "23     2000          43         0  0.404914  0.595086\n",
       "\n",
       "[20562 rows x 5 columns]"
      ]
     },
     "execution_count": 5,
     "metadata": {},
     "output_type": "execute_result"
    }
   ],
   "source": [
    "pred_test"
   ]
  },
  {
   "cell_type": "code",
   "execution_count": 45,
   "metadata": {},
   "outputs": [],
   "source": [
    "from sklearn.metrics import roc_curve, auc"
   ]
  },
  {
   "cell_type": "markdown",
   "metadata": {},
   "source": [
    "La curva ROC se construye a partir del concepto de Confusion Matrix, que es la matriz 2x2 que nos dice el número de eventos de señal que predecimos como señal (True Positives, TP), el número de eventos de fondo que predecimos como fondo (True Negative, TN), el número de eventos de señal que predecimos como fondo (False Negative, FN), y el número de eventos de fondo que predecimos como señal (False Positive, FP). \n",
    "\n",
    "Con estos 4 números obtenemos la \n",
    "* True Positive Rate:  TP / (TP + FN) = TP / N_signal\n",
    "* False Positive Rate: FN / (TP + FN) = FN / N_signal\n",
    "\n",
    "* True Negative Rate:  TN / (FP + TN) = TN / N_background\n",
    "* False Positive Rate: FP / (FP + TN) = FP / N_background\n",
    "\n",
    "En la curva ROC representaremos el TNR vs TPR"
   ]
  },
  {
   "cell_type": "markdown",
   "metadata": {},
   "source": [
    "Un ejemplo de cómo sería la curva. El área bajo la curva (AUC, area under curve) nos da una estimación también de lo bueno que es nuestro modelo, cuando mayor es este valor, mejor es nuestro modelo (siendo 1 el máximo):"
   ]
  },
  {
   "cell_type": "code",
   "execution_count": 115,
   "metadata": {},
   "outputs": [
    {
     "data": {
      "image/png": "[encoded data removed]",
      "text/plain": [
       "<Figure size 640x480 with 1 Axes>"
      ]
     },
     "metadata": {},
     "output_type": "display_data"
    }
   ],
   "source": [
    "y_true = pred_test.binclass\n",
    "y_pred = pred_test.class_1\n",
    "fpr, tpr, thresholds = roc_curve(y_true, y_pred)\n",
    "roc_auc = auc(fpr, tpr)\n",
    "\n",
    "regular_acc = sum((pred_test['class_1'] > 0.5).astype(int) == pred_test.binclass.values) / len(pred_test)\n",
    "\n",
    "plt.plot(1-fpr, tpr, 'g', lw = 2, label = 'Final train\\n ACC = {:.3f}\\n AUC = {:.3f}'.format(regular_acc, roc_auc))\n",
    "plt.plot([0, 1], [1, 0], '--', label = 'Ramdom classifier')\n",
    "plt.legend()\n",
    "plt.xlabel('True Negative Rate')\n",
    "plt.ylabel('True Positive Rate')\n",
    "plt.show()"
   ]
  },
  {
   "cell_type": "markdown",
   "metadata": {},
   "source": [
    "Las curvas ROC que estén por encima de la línea descontinua son mejores que un clasificador aleateorio, por tanto nuestra red está aprendiendo. \n",
    "\n",
    "Del resultado que sale de la función `roc_curves` podemos encontrar el threshold que mejor se adapta a nuestra red, y hay distintas métricas para encontrarlo. \n",
    "\n",
    "Por ejemplo, si quisiéramos tener el threshold para obtener el mayor número de aciertos tanto de señal como de fondo, tendríamos que buscar el punto que está más hacia la esquina superior derecha:"
   ]
  },
  {
   "cell_type": "code",
   "execution_count": 116,
   "metadata": {},
   "outputs": [
    {
     "name": "stdout",
     "output_type": "stream",
     "text": [
      "Best Threshold: 0.43059608\n"
     ]
    }
   ],
   "source": [
    "best_position = np.argmax(tpr - fpr)\n",
    "best_threshold = thresholds[best_position]\n",
    "print(\"Best Threshold:\", best_threshold)"
   ]
  },
  {
   "cell_type": "markdown",
   "metadata": {},
   "source": [
    "Es decir, ese threshold debería darnos una mejor accuracy que el de 0.5 que fijamos inicialmente:"
   ]
  },
  {
   "cell_type": "code",
   "execution_count": 138,
   "metadata": {},
   "outputs": [
    {
     "data": {
      "image/png": "[encoded data removed]",
      "text/plain": [
       "<Figure size 640x480 with 1 Axes>"
      ]
     },
     "metadata": {},
     "output_type": "display_data"
    }
   ],
   "source": [
    "#accuracy con mas del 50%\n",
    "regular_acc = sum((pred_test['class_1'] > 0.5).astype(int) == pred_test.binclass.values) / len(pred_test)\n",
    "\n",
    "#accuracy con el mejor threshold\n",
    "best_acc    = sum((pred_test['class_1'] > best_threshold).astype(int) == pred_test.binclass) / len(pred_test)\n",
    "\n",
    "plt.plot(1-fpr, tpr, 'g', lw = 2, label = 'Final train\\nAUC = {:.3f}\\nReg  ACC = {:.3f}\\nBest ACC = {:.3f}'.format(roc_auc, regular_acc, best_acc))\n",
    "plt.plot(1 - fpr[best_position], tpr[best_position], 'ob', label='Best value\\nThreshold = {:.3f}'.format(best_threshold))\n",
    "plt.plot([0, 1], [1, 0], '--', label = 'Ramdom classifier')\n",
    "plt.legend()\n",
    "plt.xlabel('True Negative Rate')\n",
    "plt.ylabel('True Positive Rate')\n",
    "plt.show()"
   ]
  },
  {
   "cell_type": "markdown",
   "metadata": {},
   "source": [
    "Pero nosotros no buscamos que acierte lo mejor posible todo... buscamos que el número de veces que acierta que un evento de señal es señal sea máximo (es decir, maximizar el TP), y que el número de veces que confunde un evento de fondo como señal sea mínimo (el FP): es decir, reducir los falsos positivos y aumentar los verdaderos positivos. Para eso definimos la figure of merit (FoM) como:\n",
    "\n",
    "$fom = \\frac{TPR}{\\sqrt{FPR}}$"
   ]
  },
  {
   "cell_type": "markdown",
   "metadata": {},
   "source": [
    "Podemos entonces construir la figura, y el mejor threshold será dónde la FoM sea máxima"
   ]
  },
  {
   "cell_type": "code",
   "execution_count": 141,
   "metadata": {},
   "outputs": [
    {
     "name": "stdout",
     "output_type": "stream",
     "text": [
      "Best FOM Threshold: 0.464649\n"
     ]
    },
    {
     "data": {
      "image/png": "[encoded data removed]",
      "text/plain": [
       "<Figure size 640x480 with 1 Axes>"
      ]
     },
     "metadata": {},
     "output_type": "display_data"
    },
    {
     "data": {
      "image/png": "[encoded data removed]",
      "text/plain": [
       "<Figure size 640x480 with 1 Axes>"
      ]
     },
     "metadata": {},
     "output_type": "display_data"
    }
   ],
   "source": [
    "#Quito los 0 de FPR para evitar conflictos\n",
    "nonzero = ~(fpr == 0)\n",
    "nonzero_tpr = tpr[nonzero]\n",
    "nonzero_fpr = fpr[nonzero]\n",
    "nonzero_thr = thresholds[nonzero]\n",
    "\n",
    "#Calculo FOM\n",
    "fom = nonzero_tpr/np.sqrt(nonzero_fpr)\n",
    "\n",
    "#Busco el máximo\n",
    "best_fom_pos = np.argmax(fom)\n",
    "best_fom_thr = nonzero_thr[best_fom_pos]\n",
    "print(\"Best FOM Threshold:\", best_fom_thr)\n",
    "\n",
    "plt.plot(nonzero_thr, fom, 'g-')\n",
    "plt.plot(best_fom_thr, fom[best_fom_pos], 'ro', label='Best FOM\\nThreshold = {:.3f}'.format(best_fom_thr))\n",
    "plt.legend()\n",
    "plt.xlabel('Threshold')\n",
    "plt.ylabel('fom')\n",
    "plt.show()\n",
    "\n",
    "\n",
    "plt.plot(1-fpr, tpr, 'g', lw = 2, label = 'Final train\\nAUC = {:.3f}'.format(roc_auc))\n",
    "plt.plot(1 - fpr[best_position], tpr[best_position], 'ob', label='Best value\\nThreshold = {:.3f}'.format(best_threshold))\n",
    "plt.plot(1 - fpr[best_fom_pos], tpr[best_fom_pos],   'or', label='Best FOM\\nThreshold = {:.3f}'.format(best_fom_thr))\n",
    "plt.plot([0, 1], [1, 0], '--', label = 'Ramdom classifier')\n",
    "plt.legend()\n",
    "plt.xlabel('True Negative Rate')\n",
    "plt.ylabel('True Positive Rate')\n",
    "plt.show()"
   ]
  },
  {
   "cell_type": "markdown",
   "metadata": {},
   "source": [
    "Vuelvo a plotear la ROC para que veas que son puntos algo distintos."
   ]
  },
  {
   "cell_type": "markdown",
   "metadata": {},
   "source": [
    "## TAREAS"
   ]
  },
  {
   "cell_type": "markdown",
   "metadata": {},
   "source": [
    "Con esto ya estaría todo. Lo que tienes que hacer es este proceso para las 4 presiones (es decir, entrenar, monitorizar el entreno, predecir y mirar resultados), y la idea es hacerlo como hablamos con una red sencilla como la que construimos el otro día y con una red más compleja (compleja a nivel de cálculos internos, a nivel de tarea tuya no es mucho más complejo). Así podemos comparar resultados a distintas presiones, y resultados entre las redes."
   ]
  }
 ],
 "metadata": {
  "kernelspec": {
   "display_name": "Python 3 (ipykernel)",
   "language": "python",
   "name": "python3"
  },
  "language_info": {
   "codemirror_mode": {
    "name": "ipython",
    "version": 3
   },
   "file_extension": ".py",
   "mimetype": "text/x-python",
   "name": "python",
   "nbconvert_exporter": "python",
   "pygments_lexer": "ipython3",
   "version": "3.8.18"
  }
 },
 "nbformat": 4,
 "nbformat_minor": 2
}
