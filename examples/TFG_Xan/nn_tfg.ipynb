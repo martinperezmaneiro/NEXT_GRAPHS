{
 "cells": [
  {
   "cell_type": "markdown",
   "metadata": {},
   "source": [
    "# Graph neural networks"
   ]
  },
  {
   "cell_type": "markdown",
   "metadata": {},
   "source": [
    "En este notebook explicaré un poco cómo es la estructura de los datos una vez transformados en grafos (tal y como nuestra red los va a tomar), cómo se crearía una red y cómo la entrenaríamos."
   ]
  },
  {
   "cell_type": "markdown",
   "metadata": {},
   "source": [
    "## Datos"
   ]
  },
  {
   "cell_type": "markdown",
   "metadata": {},
   "source": [
    "### Donde están?"
   ]
  },
  {
   "cell_type": "markdown",
   "metadata": {},
   "source": [
    "Estos datos en principio van a estar en el CESGA, que es donde tienes instalado el software que vas a necesitar. En tu cuenta, tienes 3 espacios:\n",
    "\n",
    "* `$HOME`: espacio principal, donde puedes tener carpetas con tus notebooks por ejemplo\n",
    "* `$LUSTRE`: espacio para archivos grandes, ahí tienes copiados todos los ficheros (probablemente más de los que necesites)\n",
    "* `$STORE`: espacio de instalación de software, aquí en principio no deberías tocar nada\n",
    "\n",
    "Para entrar en estos espacios puedes hacer `cd $LUSTRE` con el nombre del espacio que quieras.\n"
   ]
  },
  {
   "cell_type": "markdown",
   "metadata": {},
   "source": [
    "En tu lustre tienes copiados los datos de distintas presiones, con la estructura `data/pressure/event_type/data_type/`. Además, en cada carpeta de presión tienes un fichero de la forma `dataset_pressure_graph_nn_all.pt` que contiene todos los eventos de esa presión, tanto doble-beta como 1 electrón, en la forma que la red neuronal los va a utilizar. Es decir, son los mismos eventos con los que trabajaste algo (aquí tenemos muchos más ficheros porque hay espacio), transformados como input de red. Vamos a ver un poco cómo son estos datos y luego ya vamos con la red."
   ]
  },
  {
   "cell_type": "markdown",
   "metadata": {},
   "source": [
    "### Qué son?"
   ]
  },
  {
   "cell_type": "markdown",
   "metadata": {},
   "source": [
    "Recordemos que teníamos los `nexus`, que son eventos simulados, y están compuestos por todos los hits que deja en el detector la partícula cargada. Luego teníamos los ficheros etiquetados o `label`, que discretizaban el espacio en voxels y hacían un etiquetado según el voxel perteneciera a la traza, al blob, o a otra cosa. Con los ficheros `label` construimos los grafos para la red."
   ]
  },
  {
   "cell_type": "markdown",
   "metadata": {},
   "source": [
    "Para que te hagas una idea, un grafo es un objeto compuesto por 2 cosas: nodos y conexiones (nodes & edges). Los grafos sirven para representar muchas cosas de nuestro día a día; por ejemplo, una red social puede ser un gran grafo en el que cada nodo es un perfil, y las conexiones entre nodos son la amistad entre dos perfiles. Podemos extrapolar esto a nuestros datos: cada nodo es un voxel, y conectaremos los nodos que estén próximos."
   ]
  },
  {
   "cell_type": "markdown",
   "metadata": {},
   "source": [
    "### Veamos cómo es"
   ]
  },
  {
   "cell_type": "markdown",
   "metadata": {},
   "source": [
    "Abrimos primero el fichero de `13bar` con los datos de grafos (tarda unos 3min20seg en abrir ya que es muy grande).\n",
    "\n",
    "\n",
    "El fichero ya está preparado para la red, entonces tiene todos los eventos mezclados (son ~100k de `0nubb` y ~100k de `1eroi`), y divididos en 3 grupos: eventos para entrenar, para validar y para testear. Cuando entrenas una red, lo típico es dividir todos tus datos en esos tres grupos, utilizar los datos de `train` para entrenar, los de `validation` para controlar el entreno, y los de `test` para comprobar finalmente tus resultados. En este caso, los de `train` son el 80% de los eventos, `validation` un 10% y `test` el 10% restante."
   ]
  },
  {
   "cell_type": "code",
   "execution_count": 59,
   "metadata": {},
   "outputs": [],
   "source": [
    "import torch\n",
    "import numpy as np\n",
    "import pandas as pd"
   ]
  },
  {
   "cell_type": "code",
   "execution_count": 18,
   "metadata": {},
   "outputs": [],
   "source": [
    "p = '13bar'\n",
    "\n",
    "# la exclamación sirve para utilizar python como si fuera la línea de comandos en el bash\n",
    "lustre_path = ! echo $LUSTRE\n",
    "\n",
    "dataset_file = lustre_path[0] + '/data/{p}/dataset_{p}_graph_nn_all.pt'.format(p = p)\n",
    "\n",
    "dataset = torch.load(dataset_file.format(p = p))\n",
    "train_dataset, val_dataset, test_dataset = dataset"
   ]
  },
  {
   "cell_type": "markdown",
   "metadata": {},
   "source": [
    "Vemos que cada objeto es un \"Subset\", que es un objeto de PyTorch, pero podemos ver qué tiene dentro si hacemos list():"
   ]
  },
  {
   "cell_type": "code",
   "execution_count": 22,
   "metadata": {},
   "outputs": [
    {
     "data": {
      "text/plain": [
       "<torch.utils.data.dataset.Subset at 0x151bd3cf1e20>"
      ]
     },
     "execution_count": 22,
     "metadata": {},
     "output_type": "execute_result"
    }
   ],
   "source": [
    "train_dataset"
   ]
  },
  {
   "cell_type": "code",
   "execution_count": 21,
   "metadata": {},
   "outputs": [
    {
     "data": {
      "text/plain": [
       "[Data(x=[161, 4], edge_index=[2, 586], edge_attr=[586, 2], y=[161, 1], edge_weight=[586], num_nodes=161, coords=[161, 3], dataset_id=21, binclass=0, fnum=1243),\n",
       " Data(x=[143, 4], edge_index=[2, 506], edge_attr=[506, 2], y=[143, 1], edge_weight=[506], num_nodes=143, coords=[143, 3], dataset_id=4, binclass=0, fnum=149),\n",
       " Data(x=[136, 4], edge_index=[2, 546], edge_attr=[546, 2], y=[136, 1], edge_weight=[546], num_nodes=136, coords=[136, 3], dataset_id=27, binclass=1, fnum=39),\n",
       " Data(x=[142, 4], edge_index=[2, 636], edge_attr=[636, 2], y=[142, 1], edge_weight=[636], num_nodes=142, coords=[142, 3], dataset_id=15, binclass=0, fnum=226),\n",
       " Data(x=[126, 4], edge_index=[2, 496], edge_attr=[496, 2], y=[126, 1], edge_weight=[496], num_nodes=126, coords=[126, 3], dataset_id=31, binclass=0, fnum=1447),\n",
       " Data(x=[163, 4], edge_index=[2, 580], edge_attr=[580, 2], y=[163, 1], edge_weight=[580], num_nodes=163, coords=[163, 3], dataset_id=40, binclass=0, fnum=84),\n",
       " Data(x=[125, 4], edge_index=[2, 468], edge_attr=[468, 2], y=[125, 1], edge_weight=[468], num_nodes=125, coords=[125, 3], dataset_id=46, binclass=1, fnum=120),\n",
       " Data(x=[118, 4], edge_index=[2, 504], edge_attr=[504, 2], y=[118, 1], edge_weight=[504], num_nodes=118, coords=[118, 3], dataset_id=43, binclass=0, fnum=650),\n",
       " Data(x=[135, 4], edge_index=[2, 518], edge_attr=[518, 2], y=[135, 1], edge_weight=[518], num_nodes=135, coords=[135, 3], dataset_id=250, binclass=1, fnum=162),\n",
       " Data(x=[163, 4], edge_index=[2, 570], edge_attr=[570, 2], y=[163, 1], edge_weight=[570], num_nodes=163, coords=[163, 3], dataset_id=1, binclass=0, fnum=322),\n",
       " Data(x=[128, 4], edge_index=[2, 748], edge_attr=[748, 2], y=[128, 1], edge_weight=[748], num_nodes=128, coords=[128, 3], dataset_id=392, binclass=1, fnum=190),\n",
       " Data(x=[141, 4], edge_index=[2, 636], edge_attr=[636, 2], y=[141, 1], edge_weight=[636], num_nodes=141, coords=[141, 3], dataset_id=186, binclass=1, fnum=37),\n",
       " Data(x=[128, 4], edge_index=[2, 536], edge_attr=[536, 2], y=[128, 1], edge_weight=[536], num_nodes=128, coords=[128, 3], dataset_id=141, binclass=1, fnum=45),\n",
       " Data(x=[139, 4], edge_index=[2, 586], edge_attr=[586, 2], y=[139, 1], edge_weight=[586], num_nodes=139, coords=[139, 3], dataset_id=387, binclass=1, fnum=48),\n",
       " Data(x=[127, 4], edge_index=[2, 496], edge_attr=[496, 2], y=[127, 1], edge_weight=[496], num_nodes=127, coords=[127, 3], dataset_id=34, binclass=0, fnum=579),\n",
       " Data(x=[136, 4], edge_index=[2, 484], edge_attr=[484, 2], y=[136, 1], edge_weight=[484], num_nodes=136, coords=[136, 3], dataset_id=20, binclass=0, fnum=615),\n",
       " Data(x=[133, 4], edge_index=[2, 626], edge_attr=[626, 2], y=[133, 1], edge_weight=[626], num_nodes=133, coords=[133, 3], dataset_id=91, binclass=1, fnum=203),\n",
       " Data(x=[166, 4], edge_index=[2, 674], edge_attr=[674, 2], y=[166, 1], edge_weight=[674], num_nodes=166, coords=[166, 3], dataset_id=7, binclass=0, fnum=458),\n",
       " Data(x=[161, 4], edge_index=[2, 608], edge_attr=[608, 2], y=[161, 1], edge_weight=[608], num_nodes=161, coords=[161, 3], dataset_id=9, binclass=0, fnum=414),\n",
       " Data(x=[140, 4], edge_index=[2, 600], edge_attr=[600, 2], y=[140, 1], edge_weight=[600], num_nodes=140, coords=[140, 3], dataset_id=16, binclass=0, fnum=1476),\n",
       " Data(x=[156, 4], edge_index=[2, 670], edge_attr=[670, 2], y=[156, 1], edge_weight=[670], num_nodes=156, coords=[156, 3], dataset_id=24, binclass=0, fnum=1291),\n",
       " Data(x=[125, 4], edge_index=[2, 500], edge_attr=[500, 2], y=[125, 1], edge_weight=[500], num_nodes=125, coords=[125, 3], dataset_id=207, binclass=1, fnum=74),\n",
       " Data(x=[149, 4], edge_index=[2, 606], edge_attr=[606, 2], y=[149, 1], edge_weight=[606], num_nodes=149, coords=[149, 3], dataset_id=68, binclass=1, fnum=244),\n",
       " Data(x=[161, 4], edge_index=[2, 628], edge_attr=[628, 2], y=[161, 1], edge_weight=[628], num_nodes=161, coords=[161, 3], dataset_id=35, binclass=0, fnum=1056),\n",
       " Data(x=[106, 4], edge_index=[2, 478], edge_attr=[478, 2], y=[106, 1], edge_weight=[478], num_nodes=106, coords=[106, 3], dataset_id=394, binclass=1, fnum=53),\n",
       " Data(x=[185, 4], edge_index=[2, 706], edge_attr=[706, 2], y=[185, 1], edge_weight=[706], num_nodes=185, coords=[185, 3], dataset_id=41, binclass=0, fnum=1149),\n",
       " Data(x=[152, 4], edge_index=[2, 608], edge_attr=[608, 2], y=[152, 1], edge_weight=[608], num_nodes=152, coords=[152, 3], dataset_id=60, binclass=1, fnum=248),\n",
       " Data(x=[145, 4], edge_index=[2, 546], edge_attr=[546, 2], y=[145, 1], edge_weight=[546], num_nodes=145, coords=[145, 3], dataset_id=16, binclass=0, fnum=32),\n",
       " Data(x=[171, 4], edge_index=[2, 640], edge_attr=[640, 2], y=[171, 1], edge_weight=[640], num_nodes=171, coords=[171, 3], dataset_id=14, binclass=0, fnum=254),\n",
       " Data(x=[126, 4], edge_index=[2, 552], edge_attr=[552, 2], y=[126, 1], edge_weight=[552], num_nodes=126, coords=[126, 3], dataset_id=251, binclass=1, fnum=14),\n",
       " Data(x=[156, 4], edge_index=[2, 578], edge_attr=[578, 2], y=[156, 1], edge_weight=[578], num_nodes=156, coords=[156, 3], dataset_id=37, binclass=0, fnum=207),\n",
       " Data(x=[163, 4], edge_index=[2, 592], edge_attr=[592, 2], y=[163, 1], edge_weight=[592], num_nodes=163, coords=[163, 3], dataset_id=53, binclass=0, fnum=1224),\n",
       " Data(x=[119, 4], edge_index=[2, 474], edge_attr=[474, 2], y=[119, 1], edge_weight=[474], num_nodes=119, coords=[119, 3], dataset_id=369, binclass=1, fnum=127),\n",
       " Data(x=[125, 4], edge_index=[2, 566], edge_attr=[566, 2], y=[125, 1], edge_weight=[566], num_nodes=125, coords=[125, 3], dataset_id=188, binclass=1, fnum=173),\n",
       " Data(x=[159, 4], edge_index=[2, 572], edge_attr=[572, 2], y=[159, 1], edge_weight=[572], num_nodes=159, coords=[159, 3], dataset_id=28, binclass=0, fnum=1676),\n",
       " Data(x=[133, 4], edge_index=[2, 578], edge_attr=[578, 2], y=[133, 1], edge_weight=[578], num_nodes=133, coords=[133, 3], dataset_id=184, binclass=1, fnum=146),\n",
       " Data(x=[137, 4], edge_index=[2, 546], edge_attr=[546, 2], y=[137, 1], edge_weight=[546], num_nodes=137, coords=[137, 3], dataset_id=31, binclass=0, fnum=459),\n",
       " Data(x=[103, 4], edge_index=[2, 438], edge_attr=[438, 2], y=[103, 1], edge_weight=[438], num_nodes=103, coords=[103, 3], dataset_id=252, binclass=1, fnum=105),\n",
       " Data(x=[129, 4], edge_index=[2, 558], edge_attr=[558, 2], y=[129, 1], edge_weight=[558], num_nodes=129, coords=[129, 3], dataset_id=237, binclass=1, fnum=245),\n",
       " Data(x=[109, 4], edge_index=[2, 468], edge_attr=[468, 2], y=[109, 1], edge_weight=[468], num_nodes=109, coords=[109, 3], dataset_id=336, binclass=1, fnum=194),\n",
       " Data(x=[155, 4], edge_index=[2, 548], edge_attr=[548, 2], y=[155, 1], edge_weight=[548], num_nodes=155, coords=[155, 3], dataset_id=1, binclass=0, fnum=1571),\n",
       " Data(x=[140, 4], edge_index=[2, 598], edge_attr=[598, 2], y=[140, 1], edge_weight=[598], num_nodes=140, coords=[140, 3], dataset_id=362, binclass=1, fnum=25),\n",
       " Data(x=[151, 4], edge_index=[2, 604], edge_attr=[604, 2], y=[151, 1], edge_weight=[604], num_nodes=151, coords=[151, 3], dataset_id=8, binclass=0, fnum=751),\n",
       " Data(x=[149, 4], edge_index=[2, 598], edge_attr=[598, 2], y=[149, 1], edge_weight=[598], num_nodes=149, coords=[149, 3], dataset_id=41, binclass=0, fnum=1268),\n",
       " Data(x=[150, 4], edge_index=[2, 592], edge_attr=[592, 2], y=[150, 1], edge_weight=[592], num_nodes=150, coords=[150, 3], dataset_id=15, binclass=0, fnum=674),\n",
       " Data(x=[134, 4], edge_index=[2, 644], edge_attr=[644, 2], y=[134, 1], edge_weight=[644], num_nodes=134, coords=[134, 3], dataset_id=44, binclass=1, fnum=134),\n",
       " Data(x=[141, 4], edge_index=[2, 630], edge_attr=[630, 2], y=[141, 1], edge_weight=[630], num_nodes=141, coords=[141, 3], dataset_id=276, binclass=1, fnum=108),\n",
       " Data(x=[152, 4], edge_index=[2, 566], edge_attr=[566, 2], y=[152, 1], edge_weight=[566], num_nodes=152, coords=[152, 3], dataset_id=39, binclass=0, fnum=211),\n",
       " Data(x=[121, 4], edge_index=[2, 582], edge_attr=[582, 2], y=[121, 1], edge_weight=[582], num_nodes=121, coords=[121, 3], dataset_id=208, binclass=1, fnum=149),\n",
       " Data(x=[138, 4], edge_index=[2, 512], edge_attr=[512, 2], y=[138, 1], edge_weight=[512], num_nodes=138, coords=[138, 3], dataset_id=36, binclass=0, fnum=750),\n",
       " Data(x=[136, 4], edge_index=[2, 518], edge_attr=[518, 2], y=[136, 1], edge_weight=[518], num_nodes=136, coords=[136, 3], dataset_id=252, binclass=1, fnum=162),\n",
       " Data(x=[130, 4], edge_index=[2, 682], edge_attr=[682, 2], y=[130, 1], edge_weight=[682], num_nodes=130, coords=[130, 3], dataset_id=404, binclass=1, fnum=150),\n",
       " Data(x=[96, 4], edge_index=[2, 454], edge_attr=[454, 2], y=[96, 1], edge_weight=[454], num_nodes=96, coords=[96, 3], dataset_id=192, binclass=1, fnum=235),\n",
       " Data(x=[144, 4], edge_index=[2, 544], edge_attr=[544, 2], y=[144, 1], edge_weight=[544], num_nodes=144, coords=[144, 3], dataset_id=36, binclass=0, fnum=287),\n",
       " Data(x=[128, 4], edge_index=[2, 614], edge_attr=[614, 2], y=[128, 1], edge_weight=[614], num_nodes=128, coords=[128, 3], dataset_id=320, binclass=1, fnum=10),\n",
       " Data(x=[144, 4], edge_index=[2, 684], edge_attr=[684, 2], y=[144, 1], edge_weight=[684], num_nodes=144, coords=[144, 3], dataset_id=362, binclass=1, fnum=78),\n",
       " Data(x=[135, 4], edge_index=[2, 540], edge_attr=[540, 2], y=[135, 1], edge_weight=[540], num_nodes=135, coords=[135, 3], dataset_id=30, binclass=0, fnum=1429),\n",
       " Data(x=[130, 4], edge_index=[2, 474], edge_attr=[474, 2], y=[130, 1], edge_weight=[474], num_nodes=130, coords=[130, 3], dataset_id=1, binclass=0, fnum=1058),\n",
       " Data(x=[163, 4], edge_index=[2, 678], edge_attr=[678, 2], y=[163, 1], edge_weight=[678], num_nodes=163, coords=[163, 3], dataset_id=20, binclass=0, fnum=1345),\n",
       " Data(x=[116, 4], edge_index=[2, 520], edge_attr=[520, 2], y=[116, 1], edge_weight=[520], num_nodes=116, coords=[116, 3], dataset_id=180, binclass=1, fnum=70),\n",
       " Data(x=[142, 4], edge_index=[2, 600], edge_attr=[600, 2], y=[142, 1], edge_weight=[600], num_nodes=142, coords=[142, 3], dataset_id=195, binclass=1, fnum=160),\n",
       " Data(x=[141, 4], edge_index=[2, 600], edge_attr=[600, 2], y=[141, 1], edge_weight=[600], num_nodes=141, coords=[141, 3], dataset_id=93, binclass=1, fnum=45),\n",
       " Data(x=[149, 4], edge_index=[2, 586], edge_attr=[586, 2], y=[149, 1], edge_weight=[586], num_nodes=149, coords=[149, 3], dataset_id=36, binclass=0, fnum=1331),\n",
       " Data(x=[142, 4], edge_index=[2, 600], edge_attr=[600, 2], y=[142, 1], edge_weight=[600], num_nodes=142, coords=[142, 3], dataset_id=49, binclass=0, fnum=110),\n",
       " Data(x=[161, 4], edge_index=[2, 630], edge_attr=[630, 2], y=[161, 1], edge_weight=[630], num_nodes=161, coords=[161, 3], dataset_id=24, binclass=0, fnum=1824),\n",
       " Data(x=[123, 4], edge_index=[2, 418], edge_attr=[418, 2], y=[123, 1], edge_weight=[418], num_nodes=123, coords=[123, 3], dataset_id=17, binclass=0, fnum=1804),\n",
       " Data(x=[175, 4], edge_index=[2, 592], edge_attr=[592, 2], y=[175, 1], edge_weight=[592], num_nodes=175, coords=[175, 3], dataset_id=14, binclass=0, fnum=965),\n",
       " Data(x=[134, 4], edge_index=[2, 626], edge_attr=[626, 2], y=[134, 1], edge_weight=[626], num_nodes=134, coords=[134, 3], dataset_id=2, binclass=0, fnum=1057),\n",
       " Data(x=[146, 4], edge_index=[2, 532], edge_attr=[532, 2], y=[146, 1], edge_weight=[532], num_nodes=146, coords=[146, 3], dataset_id=144, binclass=1, fnum=107),\n",
       " Data(x=[166, 4], edge_index=[2, 732], edge_attr=[732, 2], y=[166, 1], edge_weight=[732], num_nodes=166, coords=[166, 3], dataset_id=22, binclass=0, fnum=179),\n",
       " Data(x=[138, 4], edge_index=[2, 648], edge_attr=[648, 2], y=[138, 1], edge_weight=[648], num_nodes=138, coords=[138, 3], dataset_id=139, binclass=1, fnum=81),\n",
       " Data(x=[140, 4], edge_index=[2, 598], edge_attr=[598, 2], y=[140, 1], edge_weight=[598], num_nodes=140, coords=[140, 3], dataset_id=41, binclass=0, fnum=786),\n",
       " Data(x=[136, 4], edge_index=[2, 596], edge_attr=[596, 2], y=[136, 1], edge_weight=[596], num_nodes=136, coords=[136, 3], dataset_id=43, binclass=1, fnum=47),\n",
       " Data(x=[134, 4], edge_index=[2, 710], edge_attr=[710, 2], y=[134, 1], edge_weight=[710], num_nodes=134, coords=[134, 3], dataset_id=64, binclass=1, fnum=193),\n",
       " Data(x=[121, 4], edge_index=[2, 458], edge_attr=[458, 2], y=[121, 1], edge_weight=[458], num_nodes=121, coords=[121, 3], dataset_id=54, binclass=0, fnum=391),\n",
       " Data(x=[127, 4], edge_index=[2, 532], edge_attr=[532, 2], y=[127, 1], edge_weight=[532], num_nodes=127, coords=[127, 3], dataset_id=11, binclass=0, fnum=1411),\n",
       " Data(x=[161, 4], edge_index=[2, 530], edge_attr=[530, 2], y=[161, 1], edge_weight=[530], num_nodes=161, coords=[161, 3], dataset_id=45, binclass=0, fnum=1927),\n",
       " Data(x=[105, 4], edge_index=[2, 562], edge_attr=[562, 2], y=[105, 1], edge_weight=[562], num_nodes=105, coords=[105, 3], dataset_id=342, binclass=1, fnum=165),\n",
       " Data(x=[141, 4], edge_index=[2, 572], edge_attr=[572, 2], y=[141, 1], edge_weight=[572], num_nodes=141, coords=[141, 3], dataset_id=370, binclass=1, fnum=31),\n",
       " Data(x=[113, 4], edge_index=[2, 448], edge_attr=[448, 2], y=[113, 1], edge_weight=[448], num_nodes=113, coords=[113, 3], dataset_id=162, binclass=1, fnum=92),\n",
       " Data(x=[161, 4], edge_index=[2, 582], edge_attr=[582, 2], y=[161, 1], edge_weight=[582], num_nodes=161, coords=[161, 3], dataset_id=11, binclass=0, fnum=894),\n",
       " Data(x=[120, 4], edge_index=[2, 502], edge_attr=[502, 2], y=[120, 1], edge_weight=[502], num_nodes=120, coords=[120, 3], dataset_id=356, binclass=1, fnum=112),\n",
       " Data(x=[146, 4], edge_index=[2, 570], edge_attr=[570, 2], y=[146, 1], edge_weight=[570], num_nodes=146, coords=[146, 3], dataset_id=20, binclass=0, fnum=1261),\n",
       " Data(x=[146, 4], edge_index=[2, 704], edge_attr=[704, 2], y=[146, 1], edge_weight=[704], num_nodes=146, coords=[146, 3], dataset_id=278, binclass=1, fnum=213),\n",
       " Data(x=[170, 4], edge_index=[2, 660], edge_attr=[660, 2], y=[170, 1], edge_weight=[660], num_nodes=170, coords=[170, 3], dataset_id=18, binclass=0, fnum=335),\n",
       " Data(x=[134, 4], edge_index=[2, 582], edge_attr=[582, 2], y=[134, 1], edge_weight=[582], num_nodes=134, coords=[134, 3], dataset_id=403, binclass=1, fnum=133),\n",
       " Data(x=[130, 4], edge_index=[2, 500], edge_attr=[500, 2], y=[130, 1], edge_weight=[500], num_nodes=130, coords=[130, 3], dataset_id=8, binclass=0, fnum=572),\n",
       " Data(x=[120, 4], edge_index=[2, 530], edge_attr=[530, 2], y=[120, 1], edge_weight=[530], num_nodes=120, coords=[120, 3], dataset_id=16, binclass=0, fnum=1749),\n",
       " Data(x=[140, 4], edge_index=[2, 492], edge_attr=[492, 2], y=[140, 1], edge_weight=[492], num_nodes=140, coords=[140, 3], dataset_id=204, binclass=1, fnum=152),\n",
       " Data(x=[168, 4], edge_index=[2, 634], edge_attr=[634, 2], y=[168, 1], edge_weight=[634], num_nodes=168, coords=[168, 3], dataset_id=2, binclass=0, fnum=1807),\n",
       " Data(x=[148, 4], edge_index=[2, 508], edge_attr=[508, 2], y=[148, 1], edge_weight=[508], num_nodes=148, coords=[148, 3], dataset_id=6, binclass=0, fnum=1621),\n",
       " Data(x=[137, 4], edge_index=[2, 546], edge_attr=[546, 2], y=[137, 1], edge_weight=[546], num_nodes=137, coords=[137, 3], dataset_id=97, binclass=1, fnum=28),\n",
       " Data(x=[156, 4], edge_index=[2, 564], edge_attr=[564, 2], y=[156, 1], edge_weight=[564], num_nodes=156, coords=[156, 3], dataset_id=6, binclass=0, fnum=1810),\n",
       " Data(x=[111, 4], edge_index=[2, 448], edge_attr=[448, 2], y=[111, 1], edge_weight=[448], num_nodes=111, coords=[111, 3], dataset_id=320, binclass=1, fnum=126),\n",
       " Data(x=[136, 4], edge_index=[2, 582], edge_attr=[582, 2], y=[136, 1], edge_weight=[582], num_nodes=136, coords=[136, 3], dataset_id=337, binclass=1, fnum=128),\n",
       " Data(x=[158, 4], edge_index=[2, 600], edge_attr=[600, 2], y=[158, 1], edge_weight=[600], num_nodes=158, coords=[158, 3], dataset_id=45, binclass=0, fnum=895),\n",
       " Data(x=[131, 4], edge_index=[2, 578], edge_attr=[578, 2], y=[131, 1], edge_weight=[578], num_nodes=131, coords=[131, 3], dataset_id=57, binclass=1, fnum=162),\n",
       " Data(x=[172, 4], edge_index=[2, 660], edge_attr=[660, 2], y=[172, 1], edge_weight=[660], num_nodes=172, coords=[172, 3], dataset_id=42, binclass=0, fnum=335),\n",
       " Data(x=[146, 4], edge_index=[2, 544], edge_attr=[544, 2], y=[146, 1], edge_weight=[544], num_nodes=146, coords=[146, 3], dataset_id=44, binclass=0, fnum=915),\n",
       " Data(x=[148, 4], edge_index=[2, 614], edge_attr=[614, 2], y=[148, 1], edge_weight=[614], num_nodes=148, coords=[148, 3], dataset_id=141, binclass=1, fnum=117),\n",
       " Data(x=[180, 4], edge_index=[2, 724], edge_attr=[724, 2], y=[180, 1], edge_weight=[724], num_nodes=180, coords=[180, 3], dataset_id=4, binclass=0, fnum=986),\n",
       " Data(x=[124, 4], edge_index=[2, 534], edge_attr=[534, 2], y=[124, 1], edge_weight=[534], num_nodes=124, coords=[124, 3], dataset_id=13, binclass=0, fnum=1948),\n",
       " Data(x=[146, 4], edge_index=[2, 594], edge_attr=[594, 2], y=[146, 1], edge_weight=[594], num_nodes=146, coords=[146, 3], dataset_id=313, binclass=1, fnum=135),\n",
       " Data(x=[164, 4], edge_index=[2, 716], edge_attr=[716, 2], y=[164, 1], edge_weight=[716], num_nodes=164, coords=[164, 3], dataset_id=326, binclass=1, fnum=127),\n",
       " Data(x=[123, 4], edge_index=[2, 604], edge_attr=[604, 2], y=[123, 1], edge_weight=[604], num_nodes=123, coords=[123, 3], dataset_id=279, binclass=1, fnum=40),\n",
       " Data(x=[127, 4], edge_index=[2, 588], edge_attr=[588, 2], y=[127, 1], edge_weight=[588], num_nodes=127, coords=[127, 3], dataset_id=72, binclass=1, fnum=130),\n",
       " Data(x=[125, 4], edge_index=[2, 488], edge_attr=[488, 2], y=[125, 1], edge_weight=[488], num_nodes=125, coords=[125, 3], dataset_id=130, binclass=1, fnum=38),\n",
       " Data(x=[169, 4], edge_index=[2, 588], edge_attr=[588, 2], y=[169, 1], edge_weight=[588], num_nodes=169, coords=[169, 3], dataset_id=34, binclass=0, fnum=619),\n",
       " Data(x=[144, 4], edge_index=[2, 602], edge_attr=[602, 2], y=[144, 1], edge_weight=[602], num_nodes=144, coords=[144, 3], dataset_id=15, binclass=1, fnum=163),\n",
       " Data(x=[164, 4], edge_index=[2, 610], edge_attr=[610, 2], y=[164, 1], edge_weight=[610], num_nodes=164, coords=[164, 3], dataset_id=1, binclass=0, fnum=270),\n",
       " Data(x=[105, 4], edge_index=[2, 492], edge_attr=[492, 2], y=[105, 1], edge_weight=[492], num_nodes=105, coords=[105, 3], dataset_id=288, binclass=1, fnum=219),\n",
       " Data(x=[132, 4], edge_index=[2, 640], edge_attr=[640, 2], y=[132, 1], edge_weight=[640], num_nodes=132, coords=[132, 3], dataset_id=21, binclass=1, fnum=221),\n",
       " Data(x=[126, 4], edge_index=[2, 572], edge_attr=[572, 2], y=[126, 1], edge_weight=[572], num_nodes=126, coords=[126, 3], dataset_id=253, binclass=1, fnum=246),\n",
       " Data(x=[137, 4], edge_index=[2, 580], edge_attr=[580, 2], y=[137, 1], edge_weight=[580], num_nodes=137, coords=[137, 3], dataset_id=53, binclass=0, fnum=1627),\n",
       " Data(x=[133, 4], edge_index=[2, 600], edge_attr=[600, 2], y=[133, 1], edge_weight=[600], num_nodes=133, coords=[133, 3], dataset_id=13, binclass=1, fnum=190),\n",
       " Data(x=[119, 4], edge_index=[2, 432], edge_attr=[432, 2], y=[119, 1], edge_weight=[432], num_nodes=119, coords=[119, 3], dataset_id=31, binclass=1, fnum=187),\n",
       " Data(x=[132, 4], edge_index=[2, 538], edge_attr=[538, 2], y=[132, 1], edge_weight=[538], num_nodes=132, coords=[132, 3], dataset_id=199, binclass=1, fnum=168),\n",
       " Data(x=[156, 4], edge_index=[2, 654], edge_attr=[654, 2], y=[156, 1], edge_weight=[654], num_nodes=156, coords=[156, 3], dataset_id=132, binclass=1, fnum=101),\n",
       " Data(x=[141, 4], edge_index=[2, 566], edge_attr=[566, 2], y=[141, 1], edge_weight=[566], num_nodes=141, coords=[141, 3], dataset_id=247, binclass=1, fnum=127),\n",
       " Data(x=[164, 4], edge_index=[2, 594], edge_attr=[594, 2], y=[164, 1], edge_weight=[594], num_nodes=164, coords=[164, 3], dataset_id=43, binclass=0, fnum=308),\n",
       " Data(x=[115, 4], edge_index=[2, 524], edge_attr=[524, 2], y=[115, 1], edge_weight=[524], num_nodes=115, coords=[115, 3], dataset_id=76, binclass=1, fnum=137),\n",
       " Data(x=[141, 4], edge_index=[2, 550], edge_attr=[550, 2], y=[141, 1], edge_weight=[550], num_nodes=141, coords=[141, 3], dataset_id=84, binclass=1, fnum=191),\n",
       " Data(x=[140, 4], edge_index=[2, 600], edge_attr=[600, 2], y=[140, 1], edge_weight=[600], num_nodes=140, coords=[140, 3], dataset_id=116, binclass=1, fnum=130),\n",
       " Data(x=[130, 4], edge_index=[2, 552], edge_attr=[552, 2], y=[130, 1], edge_weight=[552], num_nodes=130, coords=[130, 3], dataset_id=108, binclass=1, fnum=243),\n",
       " Data(x=[136, 4], edge_index=[2, 550], edge_attr=[550, 2], y=[136, 1], edge_weight=[550], num_nodes=136, coords=[136, 3], dataset_id=27, binclass=0, fnum=1463),\n",
       " Data(x=[152, 4], edge_index=[2, 688], edge_attr=[688, 2], y=[152, 1], edge_weight=[688], num_nodes=152, coords=[152, 3], dataset_id=46, binclass=0, fnum=1141),\n",
       " Data(x=[135, 4], edge_index=[2, 528], edge_attr=[528, 2], y=[135, 1], edge_weight=[528], num_nodes=135, coords=[135, 3], dataset_id=36, binclass=1, fnum=42),\n",
       " Data(x=[129, 4], edge_index=[2, 542], edge_attr=[542, 2], y=[129, 1], edge_weight=[542], num_nodes=129, coords=[129, 3], dataset_id=304, binclass=1, fnum=4),\n",
       " Data(x=[150, 4], edge_index=[2, 682], edge_attr=[682, 2], y=[150, 1], edge_weight=[682], num_nodes=150, coords=[150, 3], dataset_id=20, binclass=1, fnum=174),\n",
       " Data(x=[146, 4], edge_index=[2, 558], edge_attr=[558, 2], y=[146, 1], edge_weight=[558], num_nodes=146, coords=[146, 3], dataset_id=6, binclass=0, fnum=233),\n",
       " Data(x=[153, 4], edge_index=[2, 638], edge_attr=[638, 2], y=[153, 1], edge_weight=[638], num_nodes=153, coords=[153, 3], dataset_id=182, binclass=1, fnum=202),\n",
       " Data(x=[157, 4], edge_index=[2, 692], edge_attr=[692, 2], y=[157, 1], edge_weight=[692], num_nodes=157, coords=[157, 3], dataset_id=44, binclass=0, fnum=1830),\n",
       " Data(x=[140, 4], edge_index=[2, 644], edge_attr=[644, 2], y=[140, 1], edge_weight=[644], num_nodes=140, coords=[140, 3], dataset_id=146, binclass=1, fnum=181),\n",
       " Data(x=[136, 4], edge_index=[2, 524], edge_attr=[524, 2], y=[136, 1], edge_weight=[524], num_nodes=136, coords=[136, 3], dataset_id=145, binclass=1, fnum=183),\n",
       " Data(x=[151, 4], edge_index=[2, 588], edge_attr=[588, 2], y=[151, 1], edge_weight=[588], num_nodes=151, coords=[151, 3], dataset_id=15, binclass=0, fnum=1750),\n",
       " Data(x=[135, 4], edge_index=[2, 622], edge_attr=[622, 2], y=[135, 1], edge_weight=[622], num_nodes=135, coords=[135, 3], dataset_id=38, binclass=1, fnum=105),\n",
       " Data(x=[132, 4], edge_index=[2, 592], edge_attr=[592, 2], y=[132, 1], edge_weight=[592], num_nodes=132, coords=[132, 3], dataset_id=32, binclass=0, fnum=1508),\n",
       " Data(x=[132, 4], edge_index=[2, 520], edge_attr=[520, 2], y=[132, 1], edge_weight=[520], num_nodes=132, coords=[132, 3], dataset_id=222, binclass=1, fnum=2),\n",
       " Data(x=[95, 4], edge_index=[2, 520], edge_attr=[520, 2], y=[95, 1], edge_weight=[520], num_nodes=95, coords=[95, 3], dataset_id=189, binclass=1, fnum=244),\n",
       " Data(x=[170, 4], edge_index=[2, 726], edge_attr=[726, 2], y=[170, 1], edge_weight=[726], num_nodes=170, coords=[170, 3], dataset_id=18, binclass=0, fnum=545),\n",
       " Data(x=[156, 4], edge_index=[2, 634], edge_attr=[634, 2], y=[156, 1], edge_weight=[634], num_nodes=156, coords=[156, 3], dataset_id=7, binclass=0, fnum=740),\n",
       " Data(x=[135, 4], edge_index=[2, 494], edge_attr=[494, 2], y=[135, 1], edge_weight=[494], num_nodes=135, coords=[135, 3], dataset_id=46, binclass=0, fnum=911),\n",
       " Data(x=[115, 4], edge_index=[2, 538], edge_attr=[538, 2], y=[115, 1], edge_weight=[538], num_nodes=115, coords=[115, 3], dataset_id=404, binclass=1, fnum=237),\n",
       " Data(x=[138, 4], edge_index=[2, 550], edge_attr=[550, 2], y=[138, 1], edge_weight=[550], num_nodes=138, coords=[138, 3], dataset_id=40, binclass=0, fnum=1257),\n",
       " Data(x=[158, 4], edge_index=[2, 586], edge_attr=[586, 2], y=[158, 1], edge_weight=[586], num_nodes=158, coords=[158, 3], dataset_id=2, binclass=0, fnum=1913),\n",
       " Data(x=[135, 4], edge_index=[2, 488], edge_attr=[488, 2], y=[135, 1], edge_weight=[488], num_nodes=135, coords=[135, 3], dataset_id=199, binclass=1, fnum=72),\n",
       " Data(x=[151, 4], edge_index=[2, 612], edge_attr=[612, 2], y=[151, 1], edge_weight=[612], num_nodes=151, coords=[151, 3], dataset_id=13, binclass=1, fnum=49),\n",
       " Data(x=[139, 4], edge_index=[2, 518], edge_attr=[518, 2], y=[139, 1], edge_weight=[518], num_nodes=139, coords=[139, 3], dataset_id=324, binclass=1, fnum=3),\n",
       " Data(x=[131, 4], edge_index=[2, 570], edge_attr=[570, 2], y=[131, 1], edge_weight=[570], num_nodes=131, coords=[131, 3], dataset_id=140, binclass=1, fnum=125),\n",
       " Data(x=[140, 4], edge_index=[2, 624], edge_attr=[624, 2], y=[140, 1], edge_weight=[624], num_nodes=140, coords=[140, 3], dataset_id=110, binclass=1, fnum=138),\n",
       " Data(x=[123, 4], edge_index=[2, 466], edge_attr=[466, 2], y=[123, 1], edge_weight=[466], num_nodes=123, coords=[123, 3], dataset_id=38, binclass=0, fnum=1068),\n",
       " Data(x=[136, 4], edge_index=[2, 512], edge_attr=[512, 2], y=[136, 1], edge_weight=[512], num_nodes=136, coords=[136, 3], dataset_id=129, binclass=1, fnum=204),\n",
       " Data(x=[179, 4], edge_index=[2, 700], edge_attr=[700, 2], y=[179, 1], edge_weight=[700], num_nodes=179, coords=[179, 3], dataset_id=24, binclass=0, fnum=128),\n",
       " Data(x=[118, 4], edge_index=[2, 584], edge_attr=[584, 2], y=[118, 1], edge_weight=[584], num_nodes=118, coords=[118, 3], dataset_id=128, binclass=1, fnum=194),\n",
       " Data(x=[133, 4], edge_index=[2, 564], edge_attr=[564, 2], y=[133, 1], edge_weight=[564], num_nodes=133, coords=[133, 3], dataset_id=201, binclass=1, fnum=150),\n",
       " Data(x=[121, 4], edge_index=[2, 604], edge_attr=[604, 2], y=[121, 1], edge_weight=[604], num_nodes=121, coords=[121, 3], dataset_id=69, binclass=1, fnum=118),\n",
       " Data(x=[136, 4], edge_index=[2, 506], edge_attr=[506, 2], y=[136, 1], edge_weight=[506], num_nodes=136, coords=[136, 3], dataset_id=24, binclass=0, fnum=963),\n",
       " Data(x=[162, 4], edge_index=[2, 720], edge_attr=[720, 2], y=[162, 1], edge_weight=[720], num_nodes=162, coords=[162, 3], dataset_id=25, binclass=0, fnum=1939),\n",
       " Data(x=[143, 4], edge_index=[2, 566], edge_attr=[566, 2], y=[143, 1], edge_weight=[566], num_nodes=143, coords=[143, 3], dataset_id=199, binclass=1, fnum=137),\n",
       " Data(x=[158, 4], edge_index=[2, 592], edge_attr=[592, 2], y=[158, 1], edge_weight=[592], num_nodes=158, coords=[158, 3], dataset_id=34, binclass=0, fnum=622),\n",
       " Data(x=[135, 4], edge_index=[2, 600], edge_attr=[600, 2], y=[135, 1], edge_weight=[600], num_nodes=135, coords=[135, 3], dataset_id=30, binclass=1, fnum=63),\n",
       " Data(x=[114, 4], edge_index=[2, 534], edge_attr=[534, 2], y=[114, 1], edge_weight=[534], num_nodes=114, coords=[114, 3], dataset_id=127, binclass=1, fnum=19),\n",
       " Data(x=[128, 4], edge_index=[2, 534], edge_attr=[534, 2], y=[128, 1], edge_weight=[534], num_nodes=128, coords=[128, 3], dataset_id=330, binclass=1, fnum=146),\n",
       " Data(x=[162, 4], edge_index=[2, 590], edge_attr=[590, 2], y=[162, 1], edge_weight=[590], num_nodes=162, coords=[162, 3], dataset_id=31, binclass=0, fnum=1244),\n",
       " Data(x=[143, 4], edge_index=[2, 672], edge_attr=[672, 2], y=[143, 1], edge_weight=[672], num_nodes=143, coords=[143, 3], dataset_id=388, binclass=1, fnum=32),\n",
       " Data(x=[155, 4], edge_index=[2, 618], edge_attr=[618, 2], y=[155, 1], edge_weight=[618], num_nodes=155, coords=[155, 3], dataset_id=81, binclass=1, fnum=107),\n",
       " Data(x=[161, 4], edge_index=[2, 576], edge_attr=[576, 2], y=[161, 1], edge_weight=[576], num_nodes=161, coords=[161, 3], dataset_id=22, binclass=0, fnum=175),\n",
       " Data(x=[94, 4], edge_index=[2, 438], edge_attr=[438, 2], y=[94, 1], edge_weight=[438], num_nodes=94, coords=[94, 3], dataset_id=113, binclass=1, fnum=238),\n",
       " Data(x=[138, 4], edge_index=[2, 726], edge_attr=[726, 2], y=[138, 1], edge_weight=[726], num_nodes=138, coords=[138, 3], dataset_id=11, binclass=0, fnum=486),\n",
       " Data(x=[145, 4], edge_index=[2, 618], edge_attr=[618, 2], y=[145, 1], edge_weight=[618], num_nodes=145, coords=[145, 3], dataset_id=53, binclass=0, fnum=399),\n",
       " Data(x=[144, 4], edge_index=[2, 634], edge_attr=[634, 2], y=[144, 1], edge_weight=[634], num_nodes=144, coords=[144, 3], dataset_id=375, binclass=1, fnum=42),\n",
       " Data(x=[164, 4], edge_index=[2, 654], edge_attr=[654, 2], y=[164, 1], edge_weight=[654], num_nodes=164, coords=[164, 3], dataset_id=10, binclass=1, fnum=162),\n",
       " Data(x=[168, 4], edge_index=[2, 648], edge_attr=[648, 2], y=[168, 1], edge_weight=[648], num_nodes=168, coords=[168, 3], dataset_id=12, binclass=0, fnum=1958),\n",
       " Data(x=[129, 4], edge_index=[2, 632], edge_attr=[632, 2], y=[129, 1], edge_weight=[632], num_nodes=129, coords=[129, 3], dataset_id=103, binclass=1, fnum=188),\n",
       " Data(x=[155, 4], edge_index=[2, 644], edge_attr=[644, 2], y=[155, 1], edge_weight=[644], num_nodes=155, coords=[155, 3], dataset_id=3, binclass=0, fnum=905),\n",
       " Data(x=[153, 4], edge_index=[2, 598], edge_attr=[598, 2], y=[153, 1], edge_weight=[598], num_nodes=153, coords=[153, 3], dataset_id=28, binclass=0, fnum=1124),\n",
       " Data(x=[129, 4], edge_index=[2, 514], edge_attr=[514, 2], y=[129, 1], edge_weight=[514], num_nodes=129, coords=[129, 3], dataset_id=41, binclass=1, fnum=150),\n",
       " Data(x=[111, 4], edge_index=[2, 480], edge_attr=[480, 2], y=[111, 1], edge_weight=[480], num_nodes=111, coords=[111, 3], dataset_id=353, binclass=1, fnum=119),\n",
       " Data(x=[133, 4], edge_index=[2, 522], edge_attr=[522, 2], y=[133, 1], edge_weight=[522], num_nodes=133, coords=[133, 3], dataset_id=304, binclass=1, fnum=109),\n",
       " Data(x=[165, 4], edge_index=[2, 688], edge_attr=[688, 2], y=[165, 1], edge_weight=[688], num_nodes=165, coords=[165, 3], dataset_id=0, binclass=0, fnum=1637),\n",
       " Data(x=[141, 4], edge_index=[2, 514], edge_attr=[514, 2], y=[141, 1], edge_weight=[514], num_nodes=141, coords=[141, 3], dataset_id=54, binclass=0, fnum=660),\n",
       " Data(x=[158, 4], edge_index=[2, 560], edge_attr=[560, 2], y=[158, 1], edge_weight=[560], num_nodes=158, coords=[158, 3], dataset_id=8, binclass=0, fnum=1125),\n",
       " Data(x=[136, 4], edge_index=[2, 642], edge_attr=[642, 2], y=[136, 1], edge_weight=[642], num_nodes=136, coords=[136, 3], dataset_id=39, binclass=0, fnum=1099),\n",
       " Data(x=[117, 4], edge_index=[2, 542], edge_attr=[542, 2], y=[117, 1], edge_weight=[542], num_nodes=117, coords=[117, 3], dataset_id=73, binclass=1, fnum=137),\n",
       " Data(x=[142, 4], edge_index=[2, 492], edge_attr=[492, 2], y=[142, 1], edge_weight=[492], num_nodes=142, coords=[142, 3], dataset_id=25, binclass=0, fnum=787),\n",
       " Data(x=[144, 4], edge_index=[2, 500], edge_attr=[500, 2], y=[144, 1], edge_weight=[500], num_nodes=144, coords=[144, 3], dataset_id=54, binclass=0, fnum=640),\n",
       " Data(x=[171, 4], edge_index=[2, 668], edge_attr=[668, 2], y=[171, 1], edge_weight=[668], num_nodes=171, coords=[171, 3], dataset_id=29, binclass=0, fnum=195),\n",
       " Data(x=[130, 4], edge_index=[2, 540], edge_attr=[540, 2], y=[130, 1], edge_weight=[540], num_nodes=130, coords=[130, 3], dataset_id=39, binclass=1, fnum=93),\n",
       " Data(x=[105, 4], edge_index=[2, 454], edge_attr=[454, 2], y=[105, 1], edge_weight=[454], num_nodes=105, coords=[105, 3], dataset_id=192, binclass=1, fnum=107),\n",
       " Data(x=[129, 4], edge_index=[2, 662], edge_attr=[662, 2], y=[129, 1], edge_weight=[662], num_nodes=129, coords=[129, 3], dataset_id=139, binclass=1, fnum=123),\n",
       " Data(x=[141, 4], edge_index=[2, 586], edge_attr=[586, 2], y=[141, 1], edge_weight=[586], num_nodes=141, coords=[141, 3], dataset_id=38, binclass=0, fnum=325),\n",
       " Data(x=[120, 4], edge_index=[2, 524], edge_attr=[524, 2], y=[120, 1], edge_weight=[524], num_nodes=120, coords=[120, 3], dataset_id=124, binclass=1, fnum=56),\n",
       " Data(x=[144, 4], edge_index=[2, 574], edge_attr=[574, 2], y=[144, 1], edge_weight=[574], num_nodes=144, coords=[144, 3], dataset_id=44, binclass=0, fnum=810),\n",
       " Data(x=[142, 4], edge_index=[2, 546], edge_attr=[546, 2], y=[142, 1], edge_weight=[546], num_nodes=142, coords=[142, 3], dataset_id=197, binclass=1, fnum=241),\n",
       " Data(x=[135, 4], edge_index=[2, 608], edge_attr=[608, 2], y=[135, 1], edge_weight=[608], num_nodes=135, coords=[135, 3], dataset_id=221, binclass=1, fnum=133),\n",
       " Data(x=[146, 4], edge_index=[2, 642], edge_attr=[642, 2], y=[146, 1], edge_weight=[642], num_nodes=146, coords=[146, 3], dataset_id=356, binclass=1, fnum=4),\n",
       " Data(x=[131, 4], edge_index=[2, 572], edge_attr=[572, 2], y=[131, 1], edge_weight=[572], num_nodes=131, coords=[131, 3], dataset_id=48, binclass=1, fnum=217),\n",
       " Data(x=[158, 4], edge_index=[2, 604], edge_attr=[604, 2], y=[158, 1], edge_weight=[604], num_nodes=158, coords=[158, 3], dataset_id=45, binclass=0, fnum=581),\n",
       " Data(x=[163, 4], edge_index=[2, 596], edge_attr=[596, 2], y=[163, 1], edge_weight=[596], num_nodes=163, coords=[163, 3], dataset_id=39, binclass=0, fnum=1379),\n",
       " Data(x=[124, 4], edge_index=[2, 518], edge_attr=[518, 2], y=[124, 1], edge_weight=[518], num_nodes=124, coords=[124, 3], dataset_id=348, binclass=1, fnum=182),\n",
       " Data(x=[150, 4], edge_index=[2, 662], edge_attr=[662, 2], y=[150, 1], edge_weight=[662], num_nodes=150, coords=[150, 3], dataset_id=66, binclass=1, fnum=241),\n",
       " Data(x=[156, 4], edge_index=[2, 656], edge_attr=[656, 2], y=[156, 1], edge_weight=[656], num_nodes=156, coords=[156, 3], dataset_id=10, binclass=0, fnum=1072),\n",
       " Data(x=[139, 4], edge_index=[2, 560], edge_attr=[560, 2], y=[139, 1], edge_weight=[560], num_nodes=139, coords=[139, 3], dataset_id=44, binclass=0, fnum=911),\n",
       " Data(x=[147, 4], edge_index=[2, 546], edge_attr=[546, 2], y=[147, 1], edge_weight=[546], num_nodes=147, coords=[147, 3], dataset_id=334, binclass=1, fnum=235),\n",
       " Data(x=[154, 4], edge_index=[2, 588], edge_attr=[588, 2], y=[154, 1], edge_weight=[588], num_nodes=154, coords=[154, 3], dataset_id=38, binclass=0, fnum=1193),\n",
       " Data(x=[178, 4], edge_index=[2, 682], edge_attr=[682, 2], y=[178, 1], edge_weight=[682], num_nodes=178, coords=[178, 3], dataset_id=39, binclass=0, fnum=763),\n",
       " Data(x=[128, 4], edge_index=[2, 504], edge_attr=[504, 2], y=[128, 1], edge_weight=[504], num_nodes=128, coords=[128, 3], dataset_id=41, binclass=0, fnum=7),\n",
       " Data(x=[148, 4], edge_index=[2, 730], edge_attr=[730, 2], y=[148, 1], edge_weight=[730], num_nodes=148, coords=[148, 3], dataset_id=357, binclass=1, fnum=66),\n",
       " Data(x=[165, 4], edge_index=[2, 590], edge_attr=[590, 2], y=[165, 1], edge_weight=[590], num_nodes=165, coords=[165, 3], dataset_id=9, binclass=0, fnum=1786),\n",
       " Data(x=[123, 4], edge_index=[2, 564], edge_attr=[564, 2], y=[123, 1], edge_weight=[564], num_nodes=123, coords=[123, 3], dataset_id=55, binclass=1, fnum=178),\n",
       " Data(x=[135, 4], edge_index=[2, 528], edge_attr=[528, 2], y=[135, 1], edge_weight=[528], num_nodes=135, coords=[135, 3], dataset_id=323, binclass=1, fnum=162),\n",
       " Data(x=[163, 4], edge_index=[2, 650], edge_attr=[650, 2], y=[163, 1], edge_weight=[650], num_nodes=163, coords=[163, 3], dataset_id=8, binclass=0, fnum=566),\n",
       " Data(x=[142, 4], edge_index=[2, 658], edge_attr=[658, 2], y=[142, 1], edge_weight=[658], num_nodes=142, coords=[142, 3], dataset_id=137, binclass=1, fnum=73),\n",
       " Data(x=[114, 4], edge_index=[2, 444], edge_attr=[444, 2], y=[114, 1], edge_weight=[444], num_nodes=114, coords=[114, 3], dataset_id=301, binclass=1, fnum=50),\n",
       " Data(x=[117, 4], edge_index=[2, 530], edge_attr=[530, 2], y=[117, 1], edge_weight=[530], num_nodes=117, coords=[117, 3], dataset_id=109, binclass=1, fnum=179),\n",
       " Data(x=[158, 4], edge_index=[2, 568], edge_attr=[568, 2], y=[158, 1], edge_weight=[568], num_nodes=158, coords=[158, 3], dataset_id=39, binclass=0, fnum=183),\n",
       " Data(x=[131, 4], edge_index=[2, 534], edge_attr=[534, 2], y=[131, 1], edge_weight=[534], num_nodes=131, coords=[131, 3], dataset_id=374, binclass=1, fnum=25),\n",
       " Data(x=[130, 4], edge_index=[2, 472], edge_attr=[472, 2], y=[130, 1], edge_weight=[472], num_nodes=130, coords=[130, 3], dataset_id=301, binclass=1, fnum=145),\n",
       " Data(x=[166, 4], edge_index=[2, 678], edge_attr=[678, 2], y=[166, 1], edge_weight=[678], num_nodes=166, coords=[166, 3], dataset_id=7, binclass=0, fnum=1335),\n",
       " Data(x=[137, 4], edge_index=[2, 590], edge_attr=[590, 2], y=[137, 1], edge_weight=[590], num_nodes=137, coords=[137, 3], dataset_id=152, binclass=1, fnum=78),\n",
       " Data(x=[143, 4], edge_index=[2, 524], edge_attr=[524, 2], y=[143, 1], edge_weight=[524], num_nodes=143, coords=[143, 3], dataset_id=39, binclass=0, fnum=681),\n",
       " Data(x=[128, 4], edge_index=[2, 522], edge_attr=[522, 2], y=[128, 1], edge_weight=[522], num_nodes=128, coords=[128, 3], dataset_id=18, binclass=1, fnum=25),\n",
       " Data(x=[123, 4], edge_index=[2, 556], edge_attr=[556, 2], y=[123, 1], edge_weight=[556], num_nodes=123, coords=[123, 3], dataset_id=343, binclass=1, fnum=68),\n",
       " Data(x=[127, 4], edge_index=[2, 484], edge_attr=[484, 2], y=[127, 1], edge_weight=[484], num_nodes=127, coords=[127, 3], dataset_id=48, binclass=1, fnum=187),\n",
       " Data(x=[153, 4], edge_index=[2, 572], edge_attr=[572, 2], y=[153, 1], edge_weight=[572], num_nodes=153, coords=[153, 3], dataset_id=2, binclass=0, fnum=1518),\n",
       " Data(x=[140, 4], edge_index=[2, 662], edge_attr=[662, 2], y=[140, 1], edge_weight=[662], num_nodes=140, coords=[140, 3], dataset_id=304, binclass=1, fnum=246),\n",
       " Data(x=[126, 4], edge_index=[2, 528], edge_attr=[528, 2], y=[126, 1], edge_weight=[528], num_nodes=126, coords=[126, 3], dataset_id=50, binclass=1, fnum=133),\n",
       " Data(x=[130, 4], edge_index=[2, 518], edge_attr=[518, 2], y=[130, 1], edge_weight=[518], num_nodes=130, coords=[130, 3], dataset_id=16, binclass=0, fnum=1228),\n",
       " Data(x=[162, 4], edge_index=[2, 706], edge_attr=[706, 2], y=[162, 1], edge_weight=[706], num_nodes=162, coords=[162, 3], dataset_id=141, binclass=1, fnum=196),\n",
       " Data(x=[175, 4], edge_index=[2, 694], edge_attr=[694, 2], y=[175, 1], edge_weight=[694], num_nodes=175, coords=[175, 3], dataset_id=42, binclass=0, fnum=241),\n",
       " Data(x=[138, 4], edge_index=[2, 520], edge_attr=[520, 2], y=[138, 1], edge_weight=[520], num_nodes=138, coords=[138, 3], dataset_id=22, binclass=0, fnum=8),\n",
       " Data(x=[148, 4], edge_index=[2, 620], edge_attr=[620, 2], y=[148, 1], edge_weight=[620], num_nodes=148, coords=[148, 3], dataset_id=115, binclass=1, fnum=249),\n",
       " Data(x=[160, 4], edge_index=[2, 598], edge_attr=[598, 2], y=[160, 1], edge_weight=[598], num_nodes=160, coords=[160, 3], dataset_id=45, binclass=0, fnum=1866),\n",
       " Data(x=[148, 4], edge_index=[2, 566], edge_attr=[566, 2], y=[148, 1], edge_weight=[566], num_nodes=148, coords=[148, 3], dataset_id=4, binclass=0, fnum=1947),\n",
       " Data(x=[89, 4], edge_index=[2, 380], edge_attr=[380, 2], y=[89, 1], edge_weight=[380], num_nodes=89, coords=[89, 3], dataset_id=299, binclass=1, fnum=183),\n",
       " Data(x=[141, 4], edge_index=[2, 508], edge_attr=[508, 2], y=[141, 1], edge_weight=[508], num_nodes=141, coords=[141, 3], dataset_id=22, binclass=0, fnum=113),\n",
       " Data(x=[150, 4], edge_index=[2, 524], edge_attr=[524, 2], y=[150, 1], edge_weight=[524], num_nodes=150, coords=[150, 3], dataset_id=37, binclass=0, fnum=1423),\n",
       " Data(x=[141, 4], edge_index=[2, 598], edge_attr=[598, 2], y=[141, 1], edge_weight=[598], num_nodes=141, coords=[141, 3], dataset_id=40, binclass=1, fnum=128),\n",
       " Data(x=[152, 4], edge_index=[2, 562], edge_attr=[562, 2], y=[152, 1], edge_weight=[562], num_nodes=152, coords=[152, 3], dataset_id=2, binclass=0, fnum=196),\n",
       " Data(x=[130, 4], edge_index=[2, 574], edge_attr=[574, 2], y=[130, 1], edge_weight=[574], num_nodes=130, coords=[130, 3], dataset_id=351, binclass=1, fnum=7),\n",
       " Data(x=[131, 4], edge_index=[2, 558], edge_attr=[558, 2], y=[131, 1], edge_weight=[558], num_nodes=131, coords=[131, 3], dataset_id=355, binclass=1, fnum=89),\n",
       " Data(x=[132, 4], edge_index=[2, 466], edge_attr=[466, 2], y=[132, 1], edge_weight=[466], num_nodes=132, coords=[132, 3], dataset_id=139, binclass=1, fnum=211),\n",
       " Data(x=[139, 4], edge_index=[2, 568], edge_attr=[568, 2], y=[139, 1], edge_weight=[568], num_nodes=139, coords=[139, 3], dataset_id=31, binclass=1, fnum=198),\n",
       " Data(x=[151, 4], edge_index=[2, 532], edge_attr=[532, 2], y=[151, 1], edge_weight=[532], num_nodes=151, coords=[151, 3], dataset_id=27, binclass=0, fnum=395),\n",
       " Data(x=[167, 4], edge_index=[2, 596], edge_attr=[596, 2], y=[167, 1], edge_weight=[596], num_nodes=167, coords=[167, 3], dataset_id=33, binclass=0, fnum=896),\n",
       " Data(x=[133, 4], edge_index=[2, 484], edge_attr=[484, 2], y=[133, 1], edge_weight=[484], num_nodes=133, coords=[133, 3], dataset_id=379, binclass=1, fnum=153),\n",
       " Data(x=[151, 4], edge_index=[2, 580], edge_attr=[580, 2], y=[151, 1], edge_weight=[580], num_nodes=151, coords=[151, 3], dataset_id=31, binclass=0, fnum=1209),\n",
       " Data(x=[139, 4], edge_index=[2, 432], edge_attr=[432, 2], y=[139, 1], edge_weight=[432], num_nodes=139, coords=[139, 3], dataset_id=0, binclass=0, fnum=1668),\n",
       " Data(x=[146, 4], edge_index=[2, 592], edge_attr=[592, 2], y=[146, 1], edge_weight=[592], num_nodes=146, coords=[146, 3], dataset_id=27, binclass=0, fnum=1095),\n",
       " Data(x=[119, 4], edge_index=[2, 478], edge_attr=[478, 2], y=[119, 1], edge_weight=[478], num_nodes=119, coords=[119, 3], dataset_id=126, binclass=1, fnum=5),\n",
       " Data(x=[159, 4], edge_index=[2, 612], edge_attr=[612, 2], y=[159, 1], edge_weight=[612], num_nodes=159, coords=[159, 3], dataset_id=18, binclass=0, fnum=1983),\n",
       " Data(x=[162, 4], edge_index=[2, 672], edge_attr=[672, 2], y=[162, 1], edge_weight=[672], num_nodes=162, coords=[162, 3], dataset_id=2, binclass=0, fnum=1000),\n",
       " Data(x=[144, 4], edge_index=[2, 570], edge_attr=[570, 2], y=[144, 1], edge_weight=[570], num_nodes=144, coords=[144, 3], dataset_id=15, binclass=0, fnum=800),\n",
       " Data(x=[166, 4], edge_index=[2, 566], edge_attr=[566, 2], y=[166, 1], edge_weight=[566], num_nodes=166, coords=[166, 3], dataset_id=324, binclass=1, fnum=64),\n",
       " Data(x=[105, 4], edge_index=[2, 396], edge_attr=[396, 2], y=[105, 1], edge_weight=[396], num_nodes=105, coords=[105, 3], dataset_id=378, binclass=1, fnum=98),\n",
       " Data(x=[172, 4], edge_index=[2, 692], edge_attr=[692, 2], y=[172, 1], edge_weight=[692], num_nodes=172, coords=[172, 3], dataset_id=47, binclass=0, fnum=980),\n",
       " Data(x=[131, 4], edge_index=[2, 492], edge_attr=[492, 2], y=[131, 1], edge_weight=[492], num_nodes=131, coords=[131, 3], dataset_id=351, binclass=1, fnum=13),\n",
       " Data(x=[142, 4], edge_index=[2, 568], edge_attr=[568, 2], y=[142, 1], edge_weight=[568], num_nodes=142, coords=[142, 3], dataset_id=8, binclass=0, fnum=1076),\n",
       " Data(x=[128, 4], edge_index=[2, 550], edge_attr=[550, 2], y=[128, 1], edge_weight=[550], num_nodes=128, coords=[128, 3], dataset_id=5, binclass=0, fnum=933),\n",
       " Data(x=[165, 4], edge_index=[2, 642], edge_attr=[642, 2], y=[165, 1], edge_weight=[642], num_nodes=165, coords=[165, 3], dataset_id=1, binclass=0, fnum=467),\n",
       " Data(x=[159, 4], edge_index=[2, 616], edge_attr=[616, 2], y=[159, 1], edge_weight=[616], num_nodes=159, coords=[159, 3], dataset_id=9, binclass=0, fnum=1709),\n",
       " Data(x=[159, 4], edge_index=[2, 592], edge_attr=[592, 2], y=[159, 1], edge_weight=[592], num_nodes=159, coords=[159, 3], dataset_id=5, binclass=0, fnum=1375),\n",
       " Data(x=[156, 4], edge_index=[2, 574], edge_attr=[574, 2], y=[156, 1], edge_weight=[574], num_nodes=156, coords=[156, 3], dataset_id=51, binclass=0, fnum=801),\n",
       " Data(x=[140, 4], edge_index=[2, 488], edge_attr=[488, 2], y=[140, 1], edge_weight=[488], num_nodes=140, coords=[140, 3], dataset_id=15, binclass=0, fnum=1449),\n",
       " Data(x=[135, 4], edge_index=[2, 504], edge_attr=[504, 2], y=[135, 1], edge_weight=[504], num_nodes=135, coords=[135, 3], dataset_id=16, binclass=0, fnum=15),\n",
       " Data(x=[128, 4], edge_index=[2, 518], edge_attr=[518, 2], y=[128, 1], edge_weight=[518], num_nodes=128, coords=[128, 3], dataset_id=5, binclass=0, fnum=718),\n",
       " Data(x=[143, 4], edge_index=[2, 556], edge_attr=[556, 2], y=[143, 1], edge_weight=[556], num_nodes=143, coords=[143, 3], dataset_id=28, binclass=1, fnum=8),\n",
       " Data(x=[143, 4], edge_index=[2, 600], edge_attr=[600, 2], y=[143, 1], edge_weight=[600], num_nodes=143, coords=[143, 3], dataset_id=193, binclass=1, fnum=196),\n",
       " Data(x=[105, 4], edge_index=[2, 424], edge_attr=[424, 2], y=[105, 1], edge_weight=[424], num_nodes=105, coords=[105, 3], dataset_id=2, binclass=0, fnum=1888),\n",
       " Data(x=[158, 4], edge_index=[2, 584], edge_attr=[584, 2], y=[158, 1], edge_weight=[584], num_nodes=158, coords=[158, 3], dataset_id=18, binclass=0, fnum=1954),\n",
       " Data(x=[142, 4], edge_index=[2, 640], edge_attr=[640, 2], y=[142, 1], edge_weight=[640], num_nodes=142, coords=[142, 3], dataset_id=170, binclass=1, fnum=169),\n",
       " Data(x=[139, 4], edge_index=[2, 558], edge_attr=[558, 2], y=[139, 1], edge_weight=[558], num_nodes=139, coords=[139, 3], dataset_id=245, binclass=1, fnum=26),\n",
       " Data(x=[163, 4], edge_index=[2, 634], edge_attr=[634, 2], y=[163, 1], edge_weight=[634], num_nodes=163, coords=[163, 3], dataset_id=26, binclass=0, fnum=551),\n",
       " Data(x=[121, 4], edge_index=[2, 462], edge_attr=[462, 2], y=[121, 1], edge_weight=[462], num_nodes=121, coords=[121, 3], dataset_id=368, binclass=1, fnum=81),\n",
       " Data(x=[184, 4], edge_index=[2, 666], edge_attr=[666, 2], y=[184, 1], edge_weight=[666], num_nodes=184, coords=[184, 3], dataset_id=38, binclass=0, fnum=1122),\n",
       " Data(x=[172, 4], edge_index=[2, 596], edge_attr=[596, 2], y=[172, 1], edge_weight=[596], num_nodes=172, coords=[172, 3], dataset_id=10, binclass=0, fnum=375),\n",
       " Data(x=[131, 4], edge_index=[2, 600], edge_attr=[600, 2], y=[131, 1], edge_weight=[600], num_nodes=131, coords=[131, 3], dataset_id=391, binclass=1, fnum=145),\n",
       " Data(x=[151, 4], edge_index=[2, 600], edge_attr=[600, 2], y=[151, 1], edge_weight=[600], num_nodes=151, coords=[151, 3], dataset_id=26, binclass=0, fnum=1633),\n",
       " Data(x=[155, 4], edge_index=[2, 612], edge_attr=[612, 2], y=[155, 1], edge_weight=[612], num_nodes=155, coords=[155, 3], dataset_id=40, binclass=0, fnum=1290),\n",
       " Data(x=[146, 4], edge_index=[2, 600], edge_attr=[600, 2], y=[146, 1], edge_weight=[600], num_nodes=146, coords=[146, 3], dataset_id=333, binclass=1, fnum=104),\n",
       " Data(x=[139, 4], edge_index=[2, 554], edge_attr=[554, 2], y=[139, 1], edge_weight=[554], num_nodes=139, coords=[139, 3], dataset_id=1, binclass=0, fnum=283),\n",
       " Data(x=[170, 4], edge_index=[2, 646], edge_attr=[646, 2], y=[170, 1], edge_weight=[646], num_nodes=170, coords=[170, 3], dataset_id=39, binclass=0, fnum=1804),\n",
       " Data(x=[143, 4], edge_index=[2, 552], edge_attr=[552, 2], y=[143, 1], edge_weight=[552], num_nodes=143, coords=[143, 3], dataset_id=149, binclass=1, fnum=22),\n",
       " Data(x=[143, 4], edge_index=[2, 574], edge_attr=[574, 2], y=[143, 1], edge_weight=[574], num_nodes=143, coords=[143, 3], dataset_id=223, binclass=1, fnum=176),\n",
       " Data(x=[135, 4], edge_index=[2, 534], edge_attr=[534, 2], y=[135, 1], edge_weight=[534], num_nodes=135, coords=[135, 3], dataset_id=3, binclass=1, fnum=14),\n",
       " Data(x=[133, 4], edge_index=[2, 606], edge_attr=[606, 2], y=[133, 1], edge_weight=[606], num_nodes=133, coords=[133, 3], dataset_id=346, binclass=1, fnum=187),\n",
       " Data(x=[123, 4], edge_index=[2, 496], edge_attr=[496, 2], y=[123, 1], edge_weight=[496], num_nodes=123, coords=[123, 3], dataset_id=26, binclass=0, fnum=1410),\n",
       " Data(x=[140, 4], edge_index=[2, 554], edge_attr=[554, 2], y=[140, 1], edge_weight=[554], num_nodes=140, coords=[140, 3], dataset_id=7, binclass=0, fnum=468),\n",
       " Data(x=[141, 4], edge_index=[2, 636], edge_attr=[636, 2], y=[141, 1], edge_weight=[636], num_nodes=141, coords=[141, 3], dataset_id=355, binclass=1, fnum=245),\n",
       " Data(x=[152, 4], edge_index=[2, 568], edge_attr=[568, 2], y=[152, 1], edge_weight=[568], num_nodes=152, coords=[152, 3], dataset_id=30, binclass=0, fnum=1407),\n",
       " Data(x=[148, 4], edge_index=[2, 608], edge_attr=[608, 2], y=[148, 1], edge_weight=[608], num_nodes=148, coords=[148, 3], dataset_id=11, binclass=0, fnum=535),\n",
       " Data(x=[139, 4], edge_index=[2, 650], edge_attr=[650, 2], y=[139, 1], edge_weight=[650], num_nodes=139, coords=[139, 3], dataset_id=387, binclass=1, fnum=183),\n",
       " Data(x=[150, 4], edge_index=[2, 580], edge_attr=[580, 2], y=[150, 1], edge_weight=[580], num_nodes=150, coords=[150, 3], dataset_id=45, binclass=0, fnum=1129),\n",
       " Data(x=[139, 4], edge_index=[2, 620], edge_attr=[620, 2], y=[139, 1], edge_weight=[620], num_nodes=139, coords=[139, 3], dataset_id=16, binclass=1, fnum=206),\n",
       " Data(x=[149, 4], edge_index=[2, 612], edge_attr=[612, 2], y=[149, 1], edge_weight=[612], num_nodes=149, coords=[149, 3], dataset_id=104, binclass=1, fnum=220),\n",
       " Data(x=[144, 4], edge_index=[2, 650], edge_attr=[650, 2], y=[144, 1], edge_weight=[650], num_nodes=144, coords=[144, 3], dataset_id=264, binclass=1, fnum=57),\n",
       " Data(x=[140, 4], edge_index=[2, 668], edge_attr=[668, 2], y=[140, 1], edge_weight=[668], num_nodes=140, coords=[140, 3], dataset_id=401, binclass=1, fnum=87),\n",
       " Data(x=[133, 4], edge_index=[2, 572], edge_attr=[572, 2], y=[133, 1], edge_weight=[572], num_nodes=133, coords=[133, 3], dataset_id=274, binclass=1, fnum=51),\n",
       " Data(x=[149, 4], edge_index=[2, 630], edge_attr=[630, 2], y=[149, 1], edge_weight=[630], num_nodes=149, coords=[149, 3], dataset_id=348, binclass=1, fnum=150),\n",
       " Data(x=[149, 4], edge_index=[2, 592], edge_attr=[592, 2], y=[149, 1], edge_weight=[592], num_nodes=149, coords=[149, 3], dataset_id=14, binclass=0, fnum=1803),\n",
       " Data(x=[116, 4], edge_index=[2, 622], edge_attr=[622, 2], y=[116, 1], edge_weight=[622], num_nodes=116, coords=[116, 3], dataset_id=328, binclass=1, fnum=111),\n",
       " Data(x=[142, 4], edge_index=[2, 632], edge_attr=[632, 2], y=[142, 1], edge_weight=[632], num_nodes=142, coords=[142, 3], dataset_id=328, binclass=1, fnum=48),\n",
       " Data(x=[144, 4], edge_index=[2, 602], edge_attr=[602, 2], y=[144, 1], edge_weight=[602], num_nodes=144, coords=[144, 3], dataset_id=49, binclass=1, fnum=179),\n",
       " Data(x=[157, 4], edge_index=[2, 586], edge_attr=[586, 2], y=[157, 1], edge_weight=[586], num_nodes=157, coords=[157, 3], dataset_id=24, binclass=0, fnum=649),\n",
       " Data(x=[114, 4], edge_index=[2, 442], edge_attr=[442, 2], y=[114, 1], edge_weight=[442], num_nodes=114, coords=[114, 3], dataset_id=117, binclass=1, fnum=17),\n",
       " Data(x=[151, 4], edge_index=[2, 480], edge_attr=[480, 2], y=[151, 1], edge_weight=[480], num_nodes=151, coords=[151, 3], dataset_id=20, binclass=0, fnum=681),\n",
       " Data(x=[144, 4], edge_index=[2, 634], edge_attr=[634, 2], y=[144, 1], edge_weight=[634], num_nodes=144, coords=[144, 3], dataset_id=77, binclass=1, fnum=103),\n",
       " Data(x=[151, 4], edge_index=[2, 574], edge_attr=[574, 2], y=[151, 1], edge_weight=[574], num_nodes=151, coords=[151, 3], dataset_id=156, binclass=1, fnum=3),\n",
       " Data(x=[146, 4], edge_index=[2, 614], edge_attr=[614, 2], y=[146, 1], edge_weight=[614], num_nodes=146, coords=[146, 3], dataset_id=9, binclass=0, fnum=535),\n",
       " Data(x=[154, 4], edge_index=[2, 656], edge_attr=[656, 2], y=[154, 1], edge_weight=[656], num_nodes=154, coords=[154, 3], dataset_id=211, binclass=1, fnum=242),\n",
       " Data(x=[183, 4], edge_index=[2, 744], edge_attr=[744, 2], y=[183, 1], edge_weight=[744], num_nodes=183, coords=[183, 3], dataset_id=14, binclass=0, fnum=1253),\n",
       " Data(x=[134, 4], edge_index=[2, 568], edge_attr=[568, 2], y=[134, 1], edge_weight=[568], num_nodes=134, coords=[134, 3], dataset_id=158, binclass=1, fnum=135),\n",
       " Data(x=[144, 4], edge_index=[2, 650], edge_attr=[650, 2], y=[144, 1], edge_weight=[650], num_nodes=144, coords=[144, 3], dataset_id=273, binclass=1, fnum=162),\n",
       " Data(x=[128, 4], edge_index=[2, 522], edge_attr=[522, 2], y=[128, 1], edge_weight=[522], num_nodes=128, coords=[128, 3], dataset_id=94, binclass=1, fnum=248),\n",
       " Data(x=[155, 4], edge_index=[2, 620], edge_attr=[620, 2], y=[155, 1], edge_weight=[620], num_nodes=155, coords=[155, 3], dataset_id=35, binclass=0, fnum=1088),\n",
       " Data(x=[146, 4], edge_index=[2, 620], edge_attr=[620, 2], y=[146, 1], edge_weight=[620], num_nodes=146, coords=[146, 3], dataset_id=108, binclass=1, fnum=98),\n",
       " Data(x=[163, 4], edge_index=[2, 632], edge_attr=[632, 2], y=[163, 1], edge_weight=[632], num_nodes=163, coords=[163, 3], dataset_id=3, binclass=0, fnum=831),\n",
       " Data(x=[112, 4], edge_index=[2, 484], edge_attr=[484, 2], y=[112, 1], edge_weight=[484], num_nodes=112, coords=[112, 3], dataset_id=0, binclass=0, fnum=909),\n",
       " Data(x=[157, 4], edge_index=[2, 668], edge_attr=[668, 2], y=[157, 1], edge_weight=[668], num_nodes=157, coords=[157, 3], dataset_id=175, binclass=1, fnum=201),\n",
       " Data(x=[140, 4], edge_index=[2, 644], edge_attr=[644, 2], y=[140, 1], edge_weight=[644], num_nodes=140, coords=[140, 3], dataset_id=253, binclass=1, fnum=26),\n",
       " Data(x=[138, 4], edge_index=[2, 578], edge_attr=[578, 2], y=[138, 1], edge_weight=[578], num_nodes=138, coords=[138, 3], dataset_id=199, binclass=1, fnum=187),\n",
       " Data(x=[140, 4], edge_index=[2, 500], edge_attr=[500, 2], y=[140, 1], edge_weight=[500], num_nodes=140, coords=[140, 3], dataset_id=16, binclass=0, fnum=788),\n",
       " Data(x=[160, 4], edge_index=[2, 556], edge_attr=[556, 2], y=[160, 1], edge_weight=[556], num_nodes=160, coords=[160, 3], dataset_id=31, binclass=0, fnum=991),\n",
       " Data(x=[126, 4], edge_index=[2, 652], edge_attr=[652, 2], y=[126, 1], edge_weight=[652], num_nodes=126, coords=[126, 3], dataset_id=0, binclass=0, fnum=44),\n",
       " Data(x=[130, 4], edge_index=[2, 620], edge_attr=[620, 2], y=[130, 1], edge_weight=[620], num_nodes=130, coords=[130, 3], dataset_id=281, binclass=1, fnum=234),\n",
       " Data(x=[160, 4], edge_index=[2, 750], edge_attr=[750, 2], y=[160, 1], edge_weight=[750], num_nodes=160, coords=[160, 3], dataset_id=14, binclass=0, fnum=1762),\n",
       " Data(x=[145, 4], edge_index=[2, 656], edge_attr=[656, 2], y=[145, 1], edge_weight=[656], num_nodes=145, coords=[145, 3], dataset_id=175, binclass=1, fnum=132),\n",
       " Data(x=[146, 4], edge_index=[2, 564], edge_attr=[564, 2], y=[146, 1], edge_weight=[564], num_nodes=146, coords=[146, 3], dataset_id=51, binclass=0, fnum=327),\n",
       " Data(x=[145, 4], edge_index=[2, 590], edge_attr=[590, 2], y=[145, 1], edge_weight=[590], num_nodes=145, coords=[145, 3], dataset_id=48, binclass=0, fnum=628),\n",
       " Data(x=[138, 4], edge_index=[2, 598], edge_attr=[598, 2], y=[138, 1], edge_weight=[598], num_nodes=138, coords=[138, 3], dataset_id=0, binclass=0, fnum=1719),\n",
       " Data(x=[157, 4], edge_index=[2, 734], edge_attr=[734, 2], y=[157, 1], edge_weight=[734], num_nodes=157, coords=[157, 3], dataset_id=250, binclass=1, fnum=219),\n",
       " Data(x=[133, 4], edge_index=[2, 544], edge_attr=[544, 2], y=[133, 1], edge_weight=[544], num_nodes=133, coords=[133, 3], dataset_id=29, binclass=0, fnum=1934),\n",
       " Data(x=[119, 4], edge_index=[2, 504], edge_attr=[504, 2], y=[119, 1], edge_weight=[504], num_nodes=119, coords=[119, 3], dataset_id=129, binclass=1, fnum=79),\n",
       " Data(x=[156, 4], edge_index=[2, 580], edge_attr=[580, 2], y=[156, 1], edge_weight=[580], num_nodes=156, coords=[156, 3], dataset_id=15, binclass=0, fnum=1832),\n",
       " Data(x=[145, 4], edge_index=[2, 538], edge_attr=[538, 2], y=[145, 1], edge_weight=[538], num_nodes=145, coords=[145, 3], dataset_id=13, binclass=0, fnum=985),\n",
       " Data(x=[141, 4], edge_index=[2, 620], edge_attr=[620, 2], y=[141, 1], edge_weight=[620], num_nodes=141, coords=[141, 3], dataset_id=201, binclass=1, fnum=167),\n",
       " Data(x=[134, 4], edge_index=[2, 608], edge_attr=[608, 2], y=[134, 1], edge_weight=[608], num_nodes=134, coords=[134, 3], dataset_id=221, binclass=1, fnum=166),\n",
       " Data(x=[161, 4], edge_index=[2, 594], edge_attr=[594, 2], y=[161, 1], edge_weight=[594], num_nodes=161, coords=[161, 3], dataset_id=28, binclass=0, fnum=1053),\n",
       " Data(x=[132, 4], edge_index=[2, 520], edge_attr=[520, 2], y=[132, 1], edge_weight=[520], num_nodes=132, coords=[132, 3], dataset_id=46, binclass=0, fnum=1046),\n",
       " Data(x=[126, 4], edge_index=[2, 572], edge_attr=[572, 2], y=[126, 1], edge_weight=[572], num_nodes=126, coords=[126, 3], dataset_id=393, binclass=1, fnum=149),\n",
       " Data(x=[119, 4], edge_index=[2, 516], edge_attr=[516, 2], y=[119, 1], edge_weight=[516], num_nodes=119, coords=[119, 3], dataset_id=51, binclass=0, fnum=252),\n",
       " Data(x=[130, 4], edge_index=[2, 488], edge_attr=[488, 2], y=[130, 1], edge_weight=[488], num_nodes=130, coords=[130, 3], dataset_id=214, binclass=1, fnum=249),\n",
       " Data(x=[156, 4], edge_index=[2, 554], edge_attr=[554, 2], y=[156, 1], edge_weight=[554], num_nodes=156, coords=[156, 3], dataset_id=23, binclass=0, fnum=655),\n",
       " Data(x=[138, 4], edge_index=[2, 614], edge_attr=[614, 2], y=[138, 1], edge_weight=[614], num_nodes=138, coords=[138, 3], dataset_id=16, binclass=0, fnum=472),\n",
       " Data(x=[132, 4], edge_index=[2, 618], edge_attr=[618, 2], y=[132, 1], edge_weight=[618], num_nodes=132, coords=[132, 3], dataset_id=17, binclass=1, fnum=97),\n",
       " Data(x=[160, 4], edge_index=[2, 632], edge_attr=[632, 2], y=[160, 1], edge_weight=[632], num_nodes=160, coords=[160, 3], dataset_id=21, binclass=0, fnum=655),\n",
       " Data(x=[129, 4], edge_index=[2, 518], edge_attr=[518, 2], y=[129, 1], edge_weight=[518], num_nodes=129, coords=[129, 3], dataset_id=46, binclass=0, fnum=228),\n",
       " Data(x=[142, 4], edge_index=[2, 624], edge_attr=[624, 2], y=[142, 1], edge_weight=[624], num_nodes=142, coords=[142, 3], dataset_id=26, binclass=0, fnum=654),\n",
       " Data(x=[113, 4], edge_index=[2, 466], edge_attr=[466, 2], y=[113, 1], edge_weight=[466], num_nodes=113, coords=[113, 3], dataset_id=325, binclass=1, fnum=187),\n",
       " Data(x=[141, 4], edge_index=[2, 584], edge_attr=[584, 2], y=[141, 1], edge_weight=[584], num_nodes=141, coords=[141, 3], dataset_id=139, binclass=1, fnum=115),\n",
       " Data(x=[168, 4], edge_index=[2, 662], edge_attr=[662, 2], y=[168, 1], edge_weight=[662], num_nodes=168, coords=[168, 3], dataset_id=53, binclass=1, fnum=117),\n",
       " Data(x=[141, 4], edge_index=[2, 538], edge_attr=[538, 2], y=[141, 1], edge_weight=[538], num_nodes=141, coords=[141, 3], dataset_id=237, binclass=1, fnum=226),\n",
       " Data(x=[143, 4], edge_index=[2, 648], edge_attr=[648, 2], y=[143, 1], edge_weight=[648], num_nodes=143, coords=[143, 3], dataset_id=286, binclass=1, fnum=110),\n",
       " Data(x=[146, 4], edge_index=[2, 528], edge_attr=[528, 2], y=[146, 1], edge_weight=[528], num_nodes=146, coords=[146, 3], dataset_id=314, binclass=1, fnum=24),\n",
       " Data(x=[147, 4], edge_index=[2, 600], edge_attr=[600, 2], y=[147, 1], edge_weight=[600], num_nodes=147, coords=[147, 3], dataset_id=0, binclass=0, fnum=1646),\n",
       " Data(x=[163, 4], edge_index=[2, 624], edge_attr=[624, 2], y=[163, 1], edge_weight=[624], num_nodes=163, coords=[163, 3], dataset_id=188, binclass=1, fnum=57),\n",
       " Data(x=[130, 4], edge_index=[2, 580], edge_attr=[580, 2], y=[130, 1], edge_weight=[580], num_nodes=130, coords=[130, 3], dataset_id=34, binclass=0, fnum=378),\n",
       " Data(x=[144, 4], edge_index=[2, 554], edge_attr=[554, 2], y=[144, 1], edge_weight=[554], num_nodes=144, coords=[144, 3], dataset_id=10, binclass=0, fnum=797),\n",
       " Data(x=[124, 4], edge_index=[2, 492], edge_attr=[492, 2], y=[124, 1], edge_weight=[492], num_nodes=124, coords=[124, 3], dataset_id=25, binclass=0, fnum=208),\n",
       " Data(x=[142, 4], edge_index=[2, 660], edge_attr=[660, 2], y=[142, 1], edge_weight=[660], num_nodes=142, coords=[142, 3], dataset_id=294, binclass=1, fnum=4),\n",
       " Data(x=[127, 4], edge_index=[2, 528], edge_attr=[528, 2], y=[127, 1], edge_weight=[528], num_nodes=127, coords=[127, 3], dataset_id=62, binclass=1, fnum=70),\n",
       " Data(x=[141, 4], edge_index=[2, 562], edge_attr=[562, 2], y=[141, 1], edge_weight=[562], num_nodes=141, coords=[141, 3], dataset_id=364, binclass=1, fnum=167),\n",
       " Data(x=[155, 4], edge_index=[2, 624], edge_attr=[624, 2], y=[155, 1], edge_weight=[624], num_nodes=155, coords=[155, 3], dataset_id=311, binclass=1, fnum=16),\n",
       " Data(x=[156, 4], edge_index=[2, 576], edge_attr=[576, 2], y=[156, 1], edge_weight=[576], num_nodes=156, coords=[156, 3], dataset_id=42, binclass=0, fnum=331),\n",
       " Data(x=[119, 4], edge_index=[2, 544], edge_attr=[544, 2], y=[119, 1], edge_weight=[544], num_nodes=119, coords=[119, 3], dataset_id=13, binclass=1, fnum=136),\n",
       " Data(x=[166, 4], edge_index=[2, 590], edge_attr=[590, 2], y=[166, 1], edge_weight=[590], num_nodes=166, coords=[166, 3], dataset_id=3, binclass=0, fnum=648),\n",
       " Data(x=[128, 4], edge_index=[2, 520], edge_attr=[520, 2], y=[128, 1], edge_weight=[520], num_nodes=128, coords=[128, 3], dataset_id=38, binclass=0, fnum=1219),\n",
       " Data(x=[134, 4], edge_index=[2, 536], edge_attr=[536, 2], y=[134, 1], edge_weight=[536], num_nodes=134, coords=[134, 3], dataset_id=380, binclass=1, fnum=92),\n",
       " Data(x=[161, 4], edge_index=[2, 638], edge_attr=[638, 2], y=[161, 1], edge_weight=[638], num_nodes=161, coords=[161, 3], dataset_id=9, binclass=0, fnum=1644),\n",
       " Data(x=[115, 4], edge_index=[2, 490], edge_attr=[490, 2], y=[115, 1], edge_weight=[490], num_nodes=115, coords=[115, 3], dataset_id=257, binclass=1, fnum=230),\n",
       " Data(x=[148, 4], edge_index=[2, 632], edge_attr=[632, 2], y=[148, 1], edge_weight=[632], num_nodes=148, coords=[148, 3], dataset_id=10, binclass=0, fnum=585),\n",
       " Data(x=[147, 4], edge_index=[2, 544], edge_attr=[544, 2], y=[147, 1], edge_weight=[544], num_nodes=147, coords=[147, 3], dataset_id=39, binclass=1, fnum=238),\n",
       " Data(x=[146, 4], edge_index=[2, 600], edge_attr=[600, 2], y=[146, 1], edge_weight=[600], num_nodes=146, coords=[146, 3], dataset_id=50, binclass=0, fnum=1696),\n",
       " Data(x=[88, 4], edge_index=[2, 402], edge_attr=[402, 2], y=[88, 1], edge_weight=[402], num_nodes=88, coords=[88, 3], dataset_id=77, binclass=1, fnum=30),\n",
       " Data(x=[139, 4], edge_index=[2, 608], edge_attr=[608, 2], y=[139, 1], edge_weight=[608], num_nodes=139, coords=[139, 3], dataset_id=176, binclass=1, fnum=79),\n",
       " Data(x=[172, 4], edge_index=[2, 680], edge_attr=[680, 2], y=[172, 1], edge_weight=[680], num_nodes=172, coords=[172, 3], dataset_id=16, binclass=0, fnum=1356),\n",
       " Data(x=[127, 4], edge_index=[2, 508], edge_attr=[508, 2], y=[127, 1], edge_weight=[508], num_nodes=127, coords=[127, 3], dataset_id=222, binclass=1, fnum=30),\n",
       " Data(x=[170, 4], edge_index=[2, 644], edge_attr=[644, 2], y=[170, 1], edge_weight=[644], num_nodes=170, coords=[170, 3], dataset_id=53, binclass=0, fnum=522),\n",
       " Data(x=[135, 4], edge_index=[2, 596], edge_attr=[596, 2], y=[135, 1], edge_weight=[596], num_nodes=135, coords=[135, 3], dataset_id=85, binclass=1, fnum=226),\n",
       " Data(x=[133, 4], edge_index=[2, 644], edge_attr=[644, 2], y=[133, 1], edge_weight=[644], num_nodes=133, coords=[133, 3], dataset_id=64, binclass=1, fnum=243),\n",
       " Data(x=[135, 4], edge_index=[2, 532], edge_attr=[532, 2], y=[135, 1], edge_weight=[532], num_nodes=135, coords=[135, 3], dataset_id=169, binclass=1, fnum=92),\n",
       " Data(x=[100, 4], edge_index=[2, 426], edge_attr=[426, 2], y=[100, 1], edge_weight=[426], num_nodes=100, coords=[100, 3], dataset_id=317, binclass=1, fnum=184),\n",
       " Data(x=[134, 4], edge_index=[2, 516], edge_attr=[516, 2], y=[134, 1], edge_weight=[516], num_nodes=134, coords=[134, 3], dataset_id=43, binclass=0, fnum=1645),\n",
       " Data(x=[118, 4], edge_index=[2, 536], edge_attr=[536, 2], y=[118, 1], edge_weight=[536], num_nodes=118, coords=[118, 3], dataset_id=249, binclass=1, fnum=124),\n",
       " Data(x=[161, 4], edge_index=[2, 550], edge_attr=[550, 2], y=[161, 1], edge_weight=[550], num_nodes=161, coords=[161, 3], dataset_id=45, binclass=0, fnum=958),\n",
       " Data(x=[124, 4], edge_index=[2, 660], edge_attr=[660, 2], y=[124, 1], edge_weight=[660], num_nodes=124, coords=[124, 3], dataset_id=47, binclass=1, fnum=29),\n",
       " Data(x=[135, 4], edge_index=[2, 494], edge_attr=[494, 2], y=[135, 1], edge_weight=[494], num_nodes=135, coords=[135, 3], dataset_id=387, binclass=1, fnum=132),\n",
       " Data(x=[130, 4], edge_index=[2, 556], edge_attr=[556, 2], y=[130, 1], edge_weight=[556], num_nodes=130, coords=[130, 3], dataset_id=182, binclass=1, fnum=181),\n",
       " Data(x=[126, 4], edge_index=[2, 464], edge_attr=[464, 2], y=[126, 1], edge_weight=[464], num_nodes=126, coords=[126, 3], dataset_id=83, binclass=1, fnum=214),\n",
       " Data(x=[114, 4], edge_index=[2, 502], edge_attr=[502, 2], y=[114, 1], edge_weight=[502], num_nodes=114, coords=[114, 3], dataset_id=345, binclass=1, fnum=228),\n",
       " Data(x=[153, 4], edge_index=[2, 590], edge_attr=[590, 2], y=[153, 1], edge_weight=[590], num_nodes=153, coords=[153, 3], dataset_id=228, binclass=1, fnum=1),\n",
       " Data(x=[142, 4], edge_index=[2, 610], edge_attr=[610, 2], y=[142, 1], edge_weight=[610], num_nodes=142, coords=[142, 3], dataset_id=102, binclass=1, fnum=235),\n",
       " Data(x=[156, 4], edge_index=[2, 606], edge_attr=[606, 2], y=[156, 1], edge_weight=[606], num_nodes=156, coords=[156, 3], dataset_id=14, binclass=0, fnum=1902),\n",
       " Data(x=[125, 4], edge_index=[2, 512], edge_attr=[512, 2], y=[125, 1], edge_weight=[512], num_nodes=125, coords=[125, 3], dataset_id=20, binclass=1, fnum=199),\n",
       " Data(x=[153, 4], edge_index=[2, 570], edge_attr=[570, 2], y=[153, 1], edge_weight=[570], num_nodes=153, coords=[153, 3], dataset_id=1, binclass=0, fnum=457),\n",
       " Data(x=[147, 4], edge_index=[2, 618], edge_attr=[618, 2], y=[147, 1], edge_weight=[618], num_nodes=147, coords=[147, 3], dataset_id=19, binclass=0, fnum=728),\n",
       " Data(x=[147, 4], edge_index=[2, 576], edge_attr=[576, 2], y=[147, 1], edge_weight=[576], num_nodes=147, coords=[147, 3], dataset_id=24, binclass=0, fnum=539),\n",
       " Data(x=[115, 4], edge_index=[2, 460], edge_attr=[460, 2], y=[115, 1], edge_weight=[460], num_nodes=115, coords=[115, 3], dataset_id=47, binclass=1, fnum=137),\n",
       " Data(x=[167, 4], edge_index=[2, 640], edge_attr=[640, 2], y=[167, 1], edge_weight=[640], num_nodes=167, coords=[167, 3], dataset_id=25, binclass=0, fnum=1669),\n",
       " Data(x=[153, 4], edge_index=[2, 598], edge_attr=[598, 2], y=[153, 1], edge_weight=[598], num_nodes=153, coords=[153, 3], dataset_id=16, binclass=0, fnum=1995),\n",
       " Data(x=[164, 4], edge_index=[2, 652], edge_attr=[652, 2], y=[164, 1], edge_weight=[652], num_nodes=164, coords=[164, 3], dataset_id=10, binclass=0, fnum=818),\n",
       " Data(x=[151, 4], edge_index=[2, 660], edge_attr=[660, 2], y=[151, 1], edge_weight=[660], num_nodes=151, coords=[151, 3], dataset_id=51, binclass=0, fnum=1610),\n",
       " Data(x=[117, 4], edge_index=[2, 548], edge_attr=[548, 2], y=[117, 1], edge_weight=[548], num_nodes=117, coords=[117, 3], dataset_id=215, binclass=1, fnum=123),\n",
       " Data(x=[132, 4], edge_index=[2, 578], edge_attr=[578, 2], y=[132, 1], edge_weight=[578], num_nodes=132, coords=[132, 3], dataset_id=263, binclass=1, fnum=42),\n",
       " Data(x=[166, 4], edge_index=[2, 652], edge_attr=[652, 2], y=[166, 1], edge_weight=[652], num_nodes=166, coords=[166, 3], dataset_id=25, binclass=0, fnum=24),\n",
       " Data(x=[154, 4], edge_index=[2, 646], edge_attr=[646, 2], y=[154, 1], edge_weight=[646], num_nodes=154, coords=[154, 3], dataset_id=43, binclass=0, fnum=1119),\n",
       " Data(x=[150, 4], edge_index=[2, 630], edge_attr=[630, 2], y=[150, 1], edge_weight=[630], num_nodes=150, coords=[150, 3], dataset_id=108, binclass=1, fnum=109),\n",
       " Data(x=[181, 4], edge_index=[2, 692], edge_attr=[692, 2], y=[181, 1], edge_weight=[692], num_nodes=181, coords=[181, 3], dataset_id=17, binclass=0, fnum=590),\n",
       " Data(x=[116, 4], edge_index=[2, 434], edge_attr=[434, 2], y=[116, 1], edge_weight=[434], num_nodes=116, coords=[116, 3], dataset_id=9, binclass=1, fnum=181),\n",
       " Data(x=[174, 4], edge_index=[2, 722], edge_attr=[722, 2], y=[174, 1], edge_weight=[722], num_nodes=174, coords=[174, 3], dataset_id=30, binclass=0, fnum=1916),\n",
       " Data(x=[130, 4], edge_index=[2, 646], edge_attr=[646, 2], y=[130, 1], edge_weight=[646], num_nodes=130, coords=[130, 3], dataset_id=137, binclass=1, fnum=61),\n",
       " Data(x=[139, 4], edge_index=[2, 538], edge_attr=[538, 2], y=[139, 1], edge_weight=[538], num_nodes=139, coords=[139, 3], dataset_id=14, binclass=0, fnum=819),\n",
       " Data(x=[116, 4], edge_index=[2, 494], edge_attr=[494, 2], y=[116, 1], edge_weight=[494], num_nodes=116, coords=[116, 3], dataset_id=378, binclass=1, fnum=32),\n",
       " Data(x=[120, 4], edge_index=[2, 538], edge_attr=[538, 2], y=[120, 1], edge_weight=[538], num_nodes=120, coords=[120, 3], dataset_id=290, binclass=1, fnum=135),\n",
       " Data(x=[105, 4], edge_index=[2, 542], edge_attr=[542, 2], y=[105, 1], edge_weight=[542], num_nodes=105, coords=[105, 3], dataset_id=303, binclass=1, fnum=14),\n",
       " Data(x=[136, 4], edge_index=[2, 586], edge_attr=[586, 2], y=[136, 1], edge_weight=[586], num_nodes=136, coords=[136, 3], dataset_id=277, binclass=1, fnum=164),\n",
       " Data(x=[120, 4], edge_index=[2, 484], edge_attr=[484, 2], y=[120, 1], edge_weight=[484], num_nodes=120, coords=[120, 3], dataset_id=298, binclass=1, fnum=108),\n",
       " Data(x=[142, 4], edge_index=[2, 592], edge_attr=[592, 2], y=[142, 1], edge_weight=[592], num_nodes=142, coords=[142, 3], dataset_id=40, binclass=0, fnum=1012),\n",
       " Data(x=[147, 4], edge_index=[2, 544], edge_attr=[544, 2], y=[147, 1], edge_weight=[544], num_nodes=147, coords=[147, 3], dataset_id=1, binclass=0, fnum=1084),\n",
       " Data(x=[159, 4], edge_index=[2, 582], edge_attr=[582, 2], y=[159, 1], edge_weight=[582], num_nodes=159, coords=[159, 3], dataset_id=19, binclass=0, fnum=1135),\n",
       " Data(x=[118, 4], edge_index=[2, 558], edge_attr=[558, 2], y=[118, 1], edge_weight=[558], num_nodes=118, coords=[118, 3], dataset_id=308, binclass=1, fnum=221),\n",
       " Data(x=[134, 4], edge_index=[2, 558], edge_attr=[558, 2], y=[134, 1], edge_weight=[558], num_nodes=134, coords=[134, 3], dataset_id=3, binclass=0, fnum=611),\n",
       " Data(x=[135, 4], edge_index=[2, 574], edge_attr=[574, 2], y=[135, 1], edge_weight=[574], num_nodes=135, coords=[135, 3], dataset_id=181, binclass=1, fnum=172),\n",
       " Data(x=[141, 4], edge_index=[2, 542], edge_attr=[542, 2], y=[141, 1], edge_weight=[542], num_nodes=141, coords=[141, 3], dataset_id=45, binclass=0, fnum=1733),\n",
       " Data(x=[133, 4], edge_index=[2, 600], edge_attr=[600, 2], y=[133, 1], edge_weight=[600], num_nodes=133, coords=[133, 3], dataset_id=366, binclass=1, fnum=73),\n",
       " Data(x=[148, 4], edge_index=[2, 594], edge_attr=[594, 2], y=[148, 1], edge_weight=[594], num_nodes=148, coords=[148, 3], dataset_id=16, binclass=0, fnum=580),\n",
       " Data(x=[164, 4], edge_index=[2, 656], edge_attr=[656, 2], y=[164, 1], edge_weight=[656], num_nodes=164, coords=[164, 3], dataset_id=342, binclass=1, fnum=197),\n",
       " Data(x=[135, 4], edge_index=[2, 552], edge_attr=[552, 2], y=[135, 1], edge_weight=[552], num_nodes=135, coords=[135, 3], dataset_id=163, binclass=1, fnum=32),\n",
       " Data(x=[171, 4], edge_index=[2, 626], edge_attr=[626, 2], y=[171, 1], edge_weight=[626], num_nodes=171, coords=[171, 3], dataset_id=52, binclass=0, fnum=9),\n",
       " Data(x=[157, 4], edge_index=[2, 582], edge_attr=[582, 2], y=[157, 1], edge_weight=[582], num_nodes=157, coords=[157, 3], dataset_id=9, binclass=0, fnum=944),\n",
       " Data(x=[147, 4], edge_index=[2, 618], edge_attr=[618, 2], y=[147, 1], edge_weight=[618], num_nodes=147, coords=[147, 3], dataset_id=250, binclass=1, fnum=238),\n",
       " Data(x=[129, 4], edge_index=[2, 632], edge_attr=[632, 2], y=[129, 1], edge_weight=[632], num_nodes=129, coords=[129, 3], dataset_id=328, binclass=1, fnum=71),\n",
       " Data(x=[161, 4], edge_index=[2, 664], edge_attr=[664, 2], y=[161, 1], edge_weight=[664], num_nodes=161, coords=[161, 3], dataset_id=13, binclass=0, fnum=296),\n",
       " Data(x=[115, 4], edge_index=[2, 542], edge_attr=[542, 2], y=[115, 1], edge_weight=[542], num_nodes=115, coords=[115, 3], dataset_id=44, binclass=1, fnum=30),\n",
       " Data(x=[142, 4], edge_index=[2, 558], edge_attr=[558, 2], y=[142, 1], edge_weight=[558], num_nodes=142, coords=[142, 3], dataset_id=366, binclass=1, fnum=132),\n",
       " Data(x=[144, 4], edge_index=[2, 692], edge_attr=[692, 2], y=[144, 1], edge_weight=[692], num_nodes=144, coords=[144, 3], dataset_id=343, binclass=1, fnum=163),\n",
       " Data(x=[151, 4], edge_index=[2, 660], edge_attr=[660, 2], y=[151, 1], edge_weight=[660], num_nodes=151, coords=[151, 3], dataset_id=0, binclass=0, fnum=360),\n",
       " Data(x=[160, 4], edge_index=[2, 632], edge_attr=[632, 2], y=[160, 1], edge_weight=[632], num_nodes=160, coords=[160, 3], dataset_id=24, binclass=0, fnum=852),\n",
       " Data(x=[156, 4], edge_index=[2, 696], edge_attr=[696, 2], y=[156, 1], edge_weight=[696], num_nodes=156, coords=[156, 3], dataset_id=36, binclass=0, fnum=806),\n",
       " Data(x=[164, 4], edge_index=[2, 612], edge_attr=[612, 2], y=[164, 1], edge_weight=[612], num_nodes=164, coords=[164, 3], dataset_id=40, binclass=0, fnum=1981),\n",
       " Data(x=[157, 4], edge_index=[2, 706], edge_attr=[706, 2], y=[157, 1], edge_weight=[706], num_nodes=157, coords=[157, 3], dataset_id=55, binclass=1, fnum=140),\n",
       " Data(x=[138, 4], edge_index=[2, 564], edge_attr=[564, 2], y=[138, 1], edge_weight=[564], num_nodes=138, coords=[138, 3], dataset_id=48, binclass=0, fnum=934),\n",
       " Data(x=[150, 4], edge_index=[2, 660], edge_attr=[660, 2], y=[150, 1], edge_weight=[660], num_nodes=150, coords=[150, 3], dataset_id=4, binclass=0, fnum=1651),\n",
       " Data(x=[125, 4], edge_index=[2, 530], edge_attr=[530, 2], y=[125, 1], edge_weight=[530], num_nodes=125, coords=[125, 3], dataset_id=345, binclass=1, fnum=9),\n",
       " Data(x=[123, 4], edge_index=[2, 572], edge_attr=[572, 2], y=[123, 1], edge_weight=[572], num_nodes=123, coords=[123, 3], dataset_id=228, binclass=1, fnum=47),\n",
       " Data(x=[152, 4], edge_index=[2, 622], edge_attr=[622, 2], y=[152, 1], edge_weight=[622], num_nodes=152, coords=[152, 3], dataset_id=5, binclass=0, fnum=1369),\n",
       " Data(x=[167, 4], edge_index=[2, 636], edge_attr=[636, 2], y=[167, 1], edge_weight=[636], num_nodes=167, coords=[167, 3], dataset_id=5, binclass=0, fnum=1943),\n",
       " Data(x=[165, 4], edge_index=[2, 656], edge_attr=[656, 2], y=[165, 1], edge_weight=[656], num_nodes=165, coords=[165, 3], dataset_id=25, binclass=0, fnum=1068),\n",
       " Data(x=[163, 4], edge_index=[2, 624], edge_attr=[624, 2], y=[163, 1], edge_weight=[624], num_nodes=163, coords=[163, 3], dataset_id=47, binclass=0, fnum=1583),\n",
       " Data(x=[153, 4], edge_index=[2, 638], edge_attr=[638, 2], y=[153, 1], edge_weight=[638], num_nodes=153, coords=[153, 3], dataset_id=34, binclass=0, fnum=589),\n",
       " Data(x=[137, 4], edge_index=[2, 576], edge_attr=[576, 2], y=[137, 1], edge_weight=[576], num_nodes=137, coords=[137, 3], dataset_id=0, binclass=0, fnum=248),\n",
       " Data(x=[134, 4], edge_index=[2, 596], edge_attr=[596, 2], y=[134, 1], edge_weight=[596], num_nodes=134, coords=[134, 3], dataset_id=27, binclass=1, fnum=44),\n",
       " Data(x=[156, 4], edge_index=[2, 608], edge_attr=[608, 2], y=[156, 1], edge_weight=[608], num_nodes=156, coords=[156, 3], dataset_id=17, binclass=1, fnum=66),\n",
       " Data(x=[117, 4], edge_index=[2, 452], edge_attr=[452, 2], y=[117, 1], edge_weight=[452], num_nodes=117, coords=[117, 3], dataset_id=243, binclass=1, fnum=22),\n",
       " Data(x=[172, 4], edge_index=[2, 652], edge_attr=[652, 2], y=[172, 1], edge_weight=[652], num_nodes=172, coords=[172, 3], dataset_id=33, binclass=0, fnum=1146),\n",
       " Data(x=[165, 4], edge_index=[2, 610], edge_attr=[610, 2], y=[165, 1], edge_weight=[610], num_nodes=165, coords=[165, 3], dataset_id=40, binclass=0, fnum=605),\n",
       " Data(x=[130, 4], edge_index=[2, 510], edge_attr=[510, 2], y=[130, 1], edge_weight=[510], num_nodes=130, coords=[130, 3], dataset_id=27, binclass=0, fnum=122),\n",
       " Data(x=[121, 4], edge_index=[2, 454], edge_attr=[454, 2], y=[121, 1], edge_weight=[454], num_nodes=121, coords=[121, 3], dataset_id=281, binclass=1, fnum=192),\n",
       " Data(x=[112, 4], edge_index=[2, 528], edge_attr=[528, 2], y=[112, 1], edge_weight=[528], num_nodes=112, coords=[112, 3], dataset_id=149, binclass=1, fnum=138),\n",
       " Data(x=[154, 4], edge_index=[2, 670], edge_attr=[670, 2], y=[154, 1], edge_weight=[670], num_nodes=154, coords=[154, 3], dataset_id=10, binclass=0, fnum=79),\n",
       " Data(x=[174, 4], edge_index=[2, 678], edge_attr=[678, 2], y=[174, 1], edge_weight=[678], num_nodes=174, coords=[174, 3], dataset_id=31, binclass=0, fnum=602),\n",
       " Data(x=[135, 4], edge_index=[2, 544], edge_attr=[544, 2], y=[135, 1], edge_weight=[544], num_nodes=135, coords=[135, 3], dataset_id=24, binclass=0, fnum=897),\n",
       " Data(x=[156, 4], edge_index=[2, 576], edge_attr=[576, 2], y=[156, 1], edge_weight=[576], num_nodes=156, coords=[156, 3], dataset_id=33, binclass=0, fnum=1757),\n",
       " Data(x=[155, 4], edge_index=[2, 616], edge_attr=[616, 2], y=[155, 1], edge_weight=[616], num_nodes=155, coords=[155, 3], dataset_id=12, binclass=0, fnum=1376),\n",
       " Data(x=[124, 4], edge_index=[2, 554], edge_attr=[554, 2], y=[124, 1], edge_weight=[554], num_nodes=124, coords=[124, 3], dataset_id=168, binclass=1, fnum=204),\n",
       " Data(x=[159, 4], edge_index=[2, 596], edge_attr=[596, 2], y=[159, 1], edge_weight=[596], num_nodes=159, coords=[159, 3], dataset_id=30, binclass=0, fnum=89),\n",
       " Data(x=[159, 4], edge_index=[2, 602], edge_attr=[602, 2], y=[159, 1], edge_weight=[602], num_nodes=159, coords=[159, 3], dataset_id=6, binclass=0, fnum=667),\n",
       " Data(x=[153, 4], edge_index=[2, 610], edge_attr=[610, 2], y=[153, 1], edge_weight=[610], num_nodes=153, coords=[153, 3], dataset_id=14, binclass=0, fnum=1593),\n",
       " Data(x=[132, 4], edge_index=[2, 468], edge_attr=[468, 2], y=[132, 1], edge_weight=[468], num_nodes=132, coords=[132, 3], dataset_id=336, binclass=1, fnum=133),\n",
       " Data(x=[181, 4], edge_index=[2, 698], edge_attr=[698, 2], y=[181, 1], edge_weight=[698], num_nodes=181, coords=[181, 3], dataset_id=22, binclass=0, fnum=749),\n",
       " Data(x=[159, 4], edge_index=[2, 592], edge_attr=[592, 2], y=[159, 1], edge_weight=[592], num_nodes=159, coords=[159, 3], dataset_id=37, binclass=0, fnum=245),\n",
       " Data(x=[135, 4], edge_index=[2, 556], edge_attr=[556, 2], y=[135, 1], edge_weight=[556], num_nodes=135, coords=[135, 3], dataset_id=18, binclass=0, fnum=1975),\n",
       " Data(x=[142, 4], edge_index=[2, 596], edge_attr=[596, 2], y=[142, 1], edge_weight=[596], num_nodes=142, coords=[142, 3], dataset_id=40, binclass=0, fnum=1723),\n",
       " Data(x=[168, 4], edge_index=[2, 688], edge_attr=[688, 2], y=[168, 1], edge_weight=[688], num_nodes=168, coords=[168, 3], dataset_id=27, binclass=0, fnum=281),\n",
       " Data(x=[187, 4], edge_index=[2, 664], edge_attr=[664, 2], y=[187, 1], edge_weight=[664], num_nodes=187, coords=[187, 3], dataset_id=6, binclass=0, fnum=1830),\n",
       " Data(x=[146, 4], edge_index=[2, 656], edge_attr=[656, 2], y=[146, 1], edge_weight=[656], num_nodes=146, coords=[146, 3], dataset_id=168, binclass=1, fnum=214),\n",
       " Data(x=[156, 4], edge_index=[2, 680], edge_attr=[680, 2], y=[156, 1], edge_weight=[680], num_nodes=156, coords=[156, 3], dataset_id=51, binclass=1, fnum=35),\n",
       " Data(x=[158, 4], edge_index=[2, 622], edge_attr=[622, 2], y=[158, 1], edge_weight=[622], num_nodes=158, coords=[158, 3], dataset_id=44, binclass=0, fnum=507),\n",
       " Data(x=[160, 4], edge_index=[2, 686], edge_attr=[686, 2], y=[160, 1], edge_weight=[686], num_nodes=160, coords=[160, 3], dataset_id=237, binclass=1, fnum=58),\n",
       " Data(x=[122, 4], edge_index=[2, 520], edge_attr=[520, 2], y=[122, 1], edge_weight=[520], num_nodes=122, coords=[122, 3], dataset_id=349, binclass=1, fnum=41),\n",
       " Data(x=[143, 4], edge_index=[2, 536], edge_attr=[536, 2], y=[143, 1], edge_weight=[536], num_nodes=143, coords=[143, 3], dataset_id=48, binclass=0, fnum=1127),\n",
       " Data(x=[141, 4], edge_index=[2, 566], edge_attr=[566, 2], y=[141, 1], edge_weight=[566], num_nodes=141, coords=[141, 3], dataset_id=98, binclass=1, fnum=58),\n",
       " Data(x=[150, 4], edge_index=[2, 506], edge_attr=[506, 2], y=[150, 1], edge_weight=[506], num_nodes=150, coords=[150, 3], dataset_id=25, binclass=0, fnum=1064),\n",
       " Data(x=[124, 4], edge_index=[2, 468], edge_attr=[468, 2], y=[124, 1], edge_weight=[468], num_nodes=124, coords=[124, 3], dataset_id=370, binclass=1, fnum=166),\n",
       " Data(x=[120, 4], edge_index=[2, 554], edge_attr=[554, 2], y=[120, 1], edge_weight=[554], num_nodes=120, coords=[120, 3], dataset_id=270, binclass=1, fnum=14),\n",
       " Data(x=[149, 4], edge_index=[2, 566], edge_attr=[566, 2], y=[149, 1], edge_weight=[566], num_nodes=149, coords=[149, 3], dataset_id=148, binclass=1, fnum=28),\n",
       " Data(x=[135, 4], edge_index=[2, 522], edge_attr=[522, 2], y=[135, 1], edge_weight=[522], num_nodes=135, coords=[135, 3], dataset_id=11, binclass=0, fnum=293),\n",
       " Data(x=[150, 4], edge_index=[2, 578], edge_attr=[578, 2], y=[150, 1], edge_weight=[578], num_nodes=150, coords=[150, 3], dataset_id=53, binclass=0, fnum=593),\n",
       " Data(x=[140, 4], edge_index=[2, 608], edge_attr=[608, 2], y=[140, 1], edge_weight=[608], num_nodes=140, coords=[140, 3], dataset_id=316, binclass=1, fnum=234),\n",
       " Data(x=[160, 4], edge_index=[2, 604], edge_attr=[604, 2], y=[160, 1], edge_weight=[604], num_nodes=160, coords=[160, 3], dataset_id=7, binclass=0, fnum=694),\n",
       " Data(x=[110, 4], edge_index=[2, 492], edge_attr=[492, 2], y=[110, 1], edge_weight=[492], num_nodes=110, coords=[110, 3], dataset_id=201, binclass=1, fnum=21),\n",
       " Data(x=[161, 4], edge_index=[2, 682], edge_attr=[682, 2], y=[161, 1], edge_weight=[682], num_nodes=161, coords=[161, 3], dataset_id=238, binclass=1, fnum=129),\n",
       " Data(x=[151, 4], edge_index=[2, 620], edge_attr=[620, 2], y=[151, 1], edge_weight=[620], num_nodes=151, coords=[151, 3], dataset_id=390, binclass=1, fnum=28),\n",
       " Data(x=[153, 4], edge_index=[2, 576], edge_attr=[576, 2], y=[153, 1], edge_weight=[576], num_nodes=153, coords=[153, 3], dataset_id=5, binclass=0, fnum=1970),\n",
       " Data(x=[121, 4], edge_index=[2, 538], edge_attr=[538, 2], y=[121, 1], edge_weight=[538], num_nodes=121, coords=[121, 3], dataset_id=48, binclass=1, fnum=197),\n",
       " Data(x=[155, 4], edge_index=[2, 652], edge_attr=[652, 2], y=[155, 1], edge_weight=[652], num_nodes=155, coords=[155, 3], dataset_id=98, binclass=1, fnum=76),\n",
       " Data(x=[156, 4], edge_index=[2, 576], edge_attr=[576, 2], y=[156, 1], edge_weight=[576], num_nodes=156, coords=[156, 3], dataset_id=21, binclass=0, fnum=1308),\n",
       " Data(x=[135, 4], edge_index=[2, 576], edge_attr=[576, 2], y=[135, 1], edge_weight=[576], num_nodes=135, coords=[135, 3], dataset_id=357, binclass=1, fnum=231),\n",
       " Data(x=[147, 4], edge_index=[2, 498], edge_attr=[498, 2], y=[147, 1], edge_weight=[498], num_nodes=147, coords=[147, 3], dataset_id=14, binclass=0, fnum=84),\n",
       " Data(x=[128, 4], edge_index=[2, 504], edge_attr=[504, 2], y=[128, 1], edge_weight=[504], num_nodes=128, coords=[128, 3], dataset_id=53, binclass=0, fnum=1008),\n",
       " Data(x=[144, 4], edge_index=[2, 544], edge_attr=[544, 2], y=[144, 1], edge_weight=[544], num_nodes=144, coords=[144, 3], dataset_id=48, binclass=0, fnum=145),\n",
       " Data(x=[138, 4], edge_index=[2, 602], edge_attr=[602, 2], y=[138, 1], edge_weight=[602], num_nodes=138, coords=[138, 3], dataset_id=0, binclass=0, fnum=792),\n",
       " Data(x=[164, 4], edge_index=[2, 582], edge_attr=[582, 2], y=[164, 1], edge_weight=[582], num_nodes=164, coords=[164, 3], dataset_id=25, binclass=0, fnum=1989),\n",
       " Data(x=[158, 4], edge_index=[2, 612], edge_attr=[612, 2], y=[158, 1], edge_weight=[612], num_nodes=158, coords=[158, 3], dataset_id=161, binclass=1, fnum=50),\n",
       " Data(x=[151, 4], edge_index=[2, 574], edge_attr=[574, 2], y=[151, 1], edge_weight=[574], num_nodes=151, coords=[151, 3], dataset_id=351, binclass=1, fnum=221),\n",
       " Data(x=[118, 4], edge_index=[2, 522], edge_attr=[522, 2], y=[118, 1], edge_weight=[522], num_nodes=118, coords=[118, 3], dataset_id=262, binclass=1, fnum=70),\n",
       " Data(x=[138, 4], edge_index=[2, 570], edge_attr=[570, 2], y=[138, 1], edge_weight=[570], num_nodes=138, coords=[138, 3], dataset_id=94, binclass=1, fnum=15),\n",
       " Data(x=[146, 4], edge_index=[2, 564], edge_attr=[564, 2], y=[146, 1], edge_weight=[564], num_nodes=146, coords=[146, 3], dataset_id=30, binclass=0, fnum=1306),\n",
       " Data(x=[146, 4], edge_index=[2, 574], edge_attr=[574, 2], y=[146, 1], edge_weight=[574], num_nodes=146, coords=[146, 3], dataset_id=29, binclass=0, fnum=285),\n",
       " Data(x=[121, 4], edge_index=[2, 574], edge_attr=[574, 2], y=[121, 1], edge_weight=[574], num_nodes=121, coords=[121, 3], dataset_id=103, binclass=1, fnum=108),\n",
       " Data(x=[144, 4], edge_index=[2, 698], edge_attr=[698, 2], y=[144, 1], edge_weight=[698], num_nodes=144, coords=[144, 3], dataset_id=313, binclass=1, fnum=51),\n",
       " Data(x=[116, 4], edge_index=[2, 520], edge_attr=[520, 2], y=[116, 1], edge_weight=[520], num_nodes=116, coords=[116, 3], dataset_id=324, binclass=1, fnum=173),\n",
       " Data(x=[151, 4], edge_index=[2, 786], edge_attr=[786, 2], y=[151, 1], edge_weight=[786], num_nodes=151, coords=[151, 3], dataset_id=278, binclass=1, fnum=116),\n",
       " Data(x=[108, 4], edge_index=[2, 490], edge_attr=[490, 2], y=[108, 1], edge_weight=[490], num_nodes=108, coords=[108, 3], dataset_id=351, binclass=1, fnum=56),\n",
       " Data(x=[178, 4], edge_index=[2, 756], edge_attr=[756, 2], y=[178, 1], edge_weight=[756], num_nodes=178, coords=[178, 3], dataset_id=15, binclass=0, fnum=421),\n",
       " Data(x=[128, 4], edge_index=[2, 522], edge_attr=[522, 2], y=[128, 1], edge_weight=[522], num_nodes=128, coords=[128, 3], dataset_id=263, binclass=1, fnum=230),\n",
       " Data(x=[147, 4], edge_index=[2, 554], edge_attr=[554, 2], y=[147, 1], edge_weight=[554], num_nodes=147, coords=[147, 3], dataset_id=24, binclass=0, fnum=705),\n",
       " Data(x=[130, 4], edge_index=[2, 522], edge_attr=[522, 2], y=[130, 1], edge_weight=[522], num_nodes=130, coords=[130, 3], dataset_id=206, binclass=1, fnum=48),\n",
       " Data(x=[131, 4], edge_index=[2, 602], edge_attr=[602, 2], y=[131, 1], edge_weight=[602], num_nodes=131, coords=[131, 3], dataset_id=111, binclass=1, fnum=154),\n",
       " Data(x=[155, 4], edge_index=[2, 640], edge_attr=[640, 2], y=[155, 1], edge_weight=[640], num_nodes=155, coords=[155, 3], dataset_id=33, binclass=0, fnum=29),\n",
       " Data(x=[154, 4], edge_index=[2, 594], edge_attr=[594, 2], y=[154, 1], edge_weight=[594], num_nodes=154, coords=[154, 3], dataset_id=4, binclass=0, fnum=595),\n",
       " Data(x=[146, 4], edge_index=[2, 606], edge_attr=[606, 2], y=[146, 1], edge_weight=[606], num_nodes=146, coords=[146, 3], dataset_id=33, binclass=0, fnum=959),\n",
       " Data(x=[133, 4], edge_index=[2, 584], edge_attr=[584, 2], y=[133, 1], edge_weight=[584], num_nodes=133, coords=[133, 3], dataset_id=172, binclass=1, fnum=186),\n",
       " Data(x=[155, 4], edge_index=[2, 598], edge_attr=[598, 2], y=[155, 1], edge_weight=[598], num_nodes=155, coords=[155, 3], dataset_id=5, binclass=0, fnum=258),\n",
       " Data(x=[162, 4], edge_index=[2, 676], edge_attr=[676, 2], y=[162, 1], edge_weight=[676], num_nodes=162, coords=[162, 3], dataset_id=24, binclass=0, fnum=1596),\n",
       " Data(x=[159, 4], edge_index=[2, 600], edge_attr=[600, 2], y=[159, 1], edge_weight=[600], num_nodes=159, coords=[159, 3], dataset_id=32, binclass=0, fnum=1030),\n",
       " Data(x=[142, 4], edge_index=[2, 526], edge_attr=[526, 2], y=[142, 1], edge_weight=[526], num_nodes=142, coords=[142, 3], dataset_id=5, binclass=0, fnum=306),\n",
       " Data(x=[141, 4], edge_index=[2, 592], edge_attr=[592, 2], y=[141, 1], edge_weight=[592], num_nodes=141, coords=[141, 3], dataset_id=369, binclass=1, fnum=160),\n",
       " Data(x=[124, 4], edge_index=[2, 496], edge_attr=[496, 2], y=[124, 1], edge_weight=[496], num_nodes=124, coords=[124, 3], dataset_id=15, binclass=0, fnum=26),\n",
       " Data(x=[136, 4], edge_index=[2, 706], edge_attr=[706, 2], y=[136, 1], edge_weight=[706], num_nodes=136, coords=[136, 3], dataset_id=305, binclass=1, fnum=61),\n",
       " Data(x=[141, 4], edge_index=[2, 608], edge_attr=[608, 2], y=[141, 1], edge_weight=[608], num_nodes=141, coords=[141, 3], dataset_id=348, binclass=1, fnum=215),\n",
       " Data(x=[169, 4], edge_index=[2, 676], edge_attr=[676, 2], y=[169, 1], edge_weight=[676], num_nodes=169, coords=[169, 3], dataset_id=317, binclass=1, fnum=45),\n",
       " Data(x=[142, 4], edge_index=[2, 572], edge_attr=[572, 2], y=[142, 1], edge_weight=[572], num_nodes=142, coords=[142, 3], dataset_id=12, binclass=1, fnum=113),\n",
       " Data(x=[120, 4], edge_index=[2, 496], edge_attr=[496, 2], y=[120, 1], edge_weight=[496], num_nodes=120, coords=[120, 3], dataset_id=346, binclass=1, fnum=175),\n",
       " Data(x=[148, 4], edge_index=[2, 572], edge_attr=[572, 2], y=[148, 1], edge_weight=[572], num_nodes=148, coords=[148, 3], dataset_id=35, binclass=0, fnum=457),\n",
       " Data(x=[125, 4], edge_index=[2, 544], edge_attr=[544, 2], y=[125, 1], edge_weight=[544], num_nodes=125, coords=[125, 3], dataset_id=39, binclass=1, fnum=31),\n",
       " Data(x=[164, 4], edge_index=[2, 612], edge_attr=[612, 2], y=[164, 1], edge_weight=[612], num_nodes=164, coords=[164, 3], dataset_id=18, binclass=0, fnum=1926),\n",
       " Data(x=[119, 4], edge_index=[2, 550], edge_attr=[550, 2], y=[119, 1], edge_weight=[550], num_nodes=119, coords=[119, 3], dataset_id=57, binclass=1, fnum=242),\n",
       " Data(x=[133, 4], edge_index=[2, 518], edge_attr=[518, 2], y=[133, 1], edge_weight=[518], num_nodes=133, coords=[133, 3], dataset_id=354, binclass=1, fnum=219),\n",
       " Data(x=[139, 4], edge_index=[2, 586], edge_attr=[586, 2], y=[139, 1], edge_weight=[586], num_nodes=139, coords=[139, 3], dataset_id=18, binclass=0, fnum=784),\n",
       " Data(x=[145, 4], edge_index=[2, 564], edge_attr=[564, 2], y=[145, 1], edge_weight=[564], num_nodes=145, coords=[145, 3], dataset_id=81, binclass=1, fnum=119),\n",
       " Data(x=[169, 4], edge_index=[2, 640], edge_attr=[640, 2], y=[169, 1], edge_weight=[640], num_nodes=169, coords=[169, 3], dataset_id=21, binclass=0, fnum=1933),\n",
       " Data(x=[108, 4], edge_index=[2, 508], edge_attr=[508, 2], y=[108, 1], edge_weight=[508], num_nodes=108, coords=[108, 3], dataset_id=258, binclass=1, fnum=88),\n",
       " Data(x=[147, 4], edge_index=[2, 610], edge_attr=[610, 2], y=[147, 1], edge_weight=[610], num_nodes=147, coords=[147, 3], dataset_id=33, binclass=0, fnum=1334),\n",
       " Data(x=[151, 4], edge_index=[2, 632], edge_attr=[632, 2], y=[151, 1], edge_weight=[632], num_nodes=151, coords=[151, 3], dataset_id=363, binclass=1, fnum=147),\n",
       " Data(x=[163, 4], edge_index=[2, 628], edge_attr=[628, 2], y=[163, 1], edge_weight=[628], num_nodes=163, coords=[163, 3], dataset_id=5, binclass=0, fnum=392),\n",
       " Data(x=[144, 4], edge_index=[2, 550], edge_attr=[550, 2], y=[144, 1], edge_weight=[550], num_nodes=144, coords=[144, 3], dataset_id=33, binclass=0, fnum=1340),\n",
       " Data(x=[167, 4], edge_index=[2, 580], edge_attr=[580, 2], y=[167, 1], edge_weight=[580], num_nodes=167, coords=[167, 3], dataset_id=17, binclass=0, fnum=928),\n",
       " Data(x=[137, 4], edge_index=[2, 616], edge_attr=[616, 2], y=[137, 1], edge_weight=[616], num_nodes=137, coords=[137, 3], dataset_id=65, binclass=1, fnum=70),\n",
       " Data(x=[177, 4], edge_index=[2, 712], edge_attr=[712, 2], y=[177, 1], edge_weight=[712], num_nodes=177, coords=[177, 3], dataset_id=44, binclass=0, fnum=1454),\n",
       " Data(x=[132, 4], edge_index=[2, 566], edge_attr=[566, 2], y=[132, 1], edge_weight=[566], num_nodes=132, coords=[132, 3], dataset_id=5, binclass=1, fnum=181),\n",
       " Data(x=[149, 4], edge_index=[2, 566], edge_attr=[566, 2], y=[149, 1], edge_weight=[566], num_nodes=149, coords=[149, 3], dataset_id=29, binclass=0, fnum=990),\n",
       " Data(x=[118, 4], edge_index=[2, 534], edge_attr=[534, 2], y=[118, 1], edge_weight=[534], num_nodes=118, coords=[118, 3], dataset_id=251, binclass=1, fnum=141),\n",
       " Data(x=[137, 4], edge_index=[2, 670], edge_attr=[670, 2], y=[137, 1], edge_weight=[670], num_nodes=137, coords=[137, 3], dataset_id=351, binclass=1, fnum=149),\n",
       " Data(x=[153, 4], edge_index=[2, 696], edge_attr=[696, 2], y=[153, 1], edge_weight=[696], num_nodes=153, coords=[153, 3], dataset_id=33, binclass=0, fnum=725),\n",
       " Data(x=[144, 4], edge_index=[2, 606], edge_attr=[606, 2], y=[144, 1], edge_weight=[606], num_nodes=144, coords=[144, 3], dataset_id=103, binclass=1, fnum=245),\n",
       " Data(x=[162, 4], edge_index=[2, 638], edge_attr=[638, 2], y=[162, 1], edge_weight=[638], num_nodes=162, coords=[162, 3], dataset_id=34, binclass=0, fnum=1155),\n",
       " Data(x=[146, 4], edge_index=[2, 614], edge_attr=[614, 2], y=[146, 1], edge_weight=[614], num_nodes=146, coords=[146, 3], dataset_id=296, binclass=1, fnum=101),\n",
       " Data(x=[121, 4], edge_index=[2, 454], edge_attr=[454, 2], y=[121, 1], edge_weight=[454], num_nodes=121, coords=[121, 3], dataset_id=5, binclass=0, fnum=1701),\n",
       " Data(x=[162, 4], edge_index=[2, 654], edge_attr=[654, 2], y=[162, 1], edge_weight=[654], num_nodes=162, coords=[162, 3], dataset_id=32, binclass=0, fnum=1832),\n",
       " Data(x=[135, 4], edge_index=[2, 512], edge_attr=[512, 2], y=[135, 1], edge_weight=[512], num_nodes=135, coords=[135, 3], dataset_id=47, binclass=0, fnum=857),\n",
       " Data(x=[143, 4], edge_index=[2, 606], edge_attr=[606, 2], y=[143, 1], edge_weight=[606], num_nodes=143, coords=[143, 3], dataset_id=26, binclass=0, fnum=884),\n",
       " Data(x=[168, 4], edge_index=[2, 582], edge_attr=[582, 2], y=[168, 1], edge_weight=[582], num_nodes=168, coords=[168, 3], dataset_id=25, binclass=0, fnum=1322),\n",
       " Data(x=[162, 4], edge_index=[2, 700], edge_attr=[700, 2], y=[162, 1], edge_weight=[700], num_nodes=162, coords=[162, 3], dataset_id=50, binclass=0, fnum=1523),\n",
       " Data(x=[140, 4], edge_index=[2, 510], edge_attr=[510, 2], y=[140, 1], edge_weight=[510], num_nodes=140, coords=[140, 3], dataset_id=3, binclass=0, fnum=72),\n",
       " Data(x=[158, 4], edge_index=[2, 608], edge_attr=[608, 2], y=[158, 1], edge_weight=[608], num_nodes=158, coords=[158, 3], dataset_id=50, binclass=0, fnum=1072),\n",
       " Data(x=[127, 4], edge_index=[2, 566], edge_attr=[566, 2], y=[127, 1], edge_weight=[566], num_nodes=127, coords=[127, 3], dataset_id=160, binclass=1, fnum=29),\n",
       " Data(x=[143, 4], edge_index=[2, 562], edge_attr=[562, 2], y=[143, 1], edge_weight=[562], num_nodes=143, coords=[143, 3], dataset_id=9, binclass=0, fnum=182),\n",
       " Data(x=[132, 4], edge_index=[2, 544], edge_attr=[544, 2], y=[132, 1], edge_weight=[544], num_nodes=132, coords=[132, 3], dataset_id=15, binclass=1, fnum=183),\n",
       " Data(x=[136, 4], edge_index=[2, 630], edge_attr=[630, 2], y=[136, 1], edge_weight=[630], num_nodes=136, coords=[136, 3], dataset_id=230, binclass=1, fnum=72),\n",
       " Data(x=[117, 4], edge_index=[2, 486], edge_attr=[486, 2], y=[117, 1], edge_weight=[486], num_nodes=117, coords=[117, 3], dataset_id=321, binclass=1, fnum=106),\n",
       " Data(x=[155, 4], edge_index=[2, 596], edge_attr=[596, 2], y=[155, 1], edge_weight=[596], num_nodes=155, coords=[155, 3], dataset_id=8, binclass=0, fnum=600),\n",
       " Data(x=[166, 4], edge_index=[2, 628], edge_attr=[628, 2], y=[166, 1], edge_weight=[628], num_nodes=166, coords=[166, 3], dataset_id=14, binclass=0, fnum=1895),\n",
       " Data(x=[139, 4], edge_index=[2, 566], edge_attr=[566, 2], y=[139, 1], edge_weight=[566], num_nodes=139, coords=[139, 3], dataset_id=8, binclass=0, fnum=633),\n",
       " Data(x=[127, 4], edge_index=[2, 590], edge_attr=[590, 2], y=[127, 1], edge_weight=[590], num_nodes=127, coords=[127, 3], dataset_id=371, binclass=1, fnum=240),\n",
       " Data(x=[144, 4], edge_index=[2, 586], edge_attr=[586, 2], y=[144, 1], edge_weight=[586], num_nodes=144, coords=[144, 3], dataset_id=138, binclass=1, fnum=88),\n",
       " Data(x=[144, 4], edge_index=[2, 654], edge_attr=[654, 2], y=[144, 1], edge_weight=[654], num_nodes=144, coords=[144, 3], dataset_id=38, binclass=1, fnum=171),\n",
       " Data(x=[144, 4], edge_index=[2, 568], edge_attr=[568, 2], y=[144, 1], edge_weight=[568], num_nodes=144, coords=[144, 3], dataset_id=15, binclass=0, fnum=1387),\n",
       " Data(x=[141, 4], edge_index=[2, 566], edge_attr=[566, 2], y=[141, 1], edge_weight=[566], num_nodes=141, coords=[141, 3], dataset_id=309, binclass=1, fnum=110),\n",
       " Data(x=[155, 4], edge_index=[2, 730], edge_attr=[730, 2], y=[155, 1], edge_weight=[730], num_nodes=155, coords=[155, 3], dataset_id=1, binclass=0, fnum=263),\n",
       " Data(x=[127, 4], edge_index=[2, 458], edge_attr=[458, 2], y=[127, 1], edge_weight=[458], num_nodes=127, coords=[127, 3], dataset_id=205, binclass=1, fnum=129),\n",
       " Data(x=[145, 4], edge_index=[2, 616], edge_attr=[616, 2], y=[145, 1], edge_weight=[616], num_nodes=145, coords=[145, 3], dataset_id=229, binclass=1, fnum=38),\n",
       " Data(x=[124, 4], edge_index=[2, 470], edge_attr=[470, 2], y=[124, 1], edge_weight=[470], num_nodes=124, coords=[124, 3], dataset_id=371, binclass=1, fnum=219),\n",
       " Data(x=[148, 4], edge_index=[2, 706], edge_attr=[706, 2], y=[148, 1], edge_weight=[706], num_nodes=148, coords=[148, 3], dataset_id=160, binclass=1, fnum=75),\n",
       " Data(x=[125, 4], edge_index=[2, 638], edge_attr=[638, 2], y=[125, 1], edge_weight=[638], num_nodes=125, coords=[125, 3], dataset_id=45, binclass=1, fnum=208),\n",
       " Data(x=[150, 4], edge_index=[2, 606], edge_attr=[606, 2], y=[150, 1], edge_weight=[606], num_nodes=150, coords=[150, 3], dataset_id=34, binclass=0, fnum=1827),\n",
       " Data(x=[131, 4], edge_index=[2, 558], edge_attr=[558, 2], y=[131, 1], edge_weight=[558], num_nodes=131, coords=[131, 3], dataset_id=183, binclass=1, fnum=192),\n",
       " Data(x=[129, 4], edge_index=[2, 540], edge_attr=[540, 2], y=[129, 1], edge_weight=[540], num_nodes=129, coords=[129, 3], dataset_id=393, binclass=1, fnum=214),\n",
       " Data(x=[138, 4], edge_index=[2, 570], edge_attr=[570, 2], y=[138, 1], edge_weight=[570], num_nodes=138, coords=[138, 3], dataset_id=317, binclass=1, fnum=228),\n",
       " Data(x=[165, 4], edge_index=[2, 740], edge_attr=[740, 2], y=[165, 1], edge_weight=[740], num_nodes=165, coords=[165, 3], dataset_id=42, binclass=0, fnum=1864),\n",
       " Data(x=[166, 4], edge_index=[2, 598], edge_attr=[598, 2], y=[166, 1], edge_weight=[598], num_nodes=166, coords=[166, 3], dataset_id=411, binclass=1, fnum=166),\n",
       " Data(x=[150, 4], edge_index=[2, 690], edge_attr=[690, 2], y=[150, 1], edge_weight=[690], num_nodes=150, coords=[150, 3], dataset_id=152, binclass=1, fnum=50),\n",
       " Data(x=[134, 4], edge_index=[2, 522], edge_attr=[522, 2], y=[134, 1], edge_weight=[522], num_nodes=134, coords=[134, 3], dataset_id=27, binclass=0, fnum=112),\n",
       " Data(x=[145, 4], edge_index=[2, 608], edge_attr=[608, 2], y=[145, 1], edge_weight=[608], num_nodes=145, coords=[145, 3], dataset_id=313, binclass=1, fnum=157),\n",
       " Data(x=[144, 4], edge_index=[2, 614], edge_attr=[614, 2], y=[144, 1], edge_weight=[614], num_nodes=144, coords=[144, 3], dataset_id=39, binclass=0, fnum=1326),\n",
       " Data(x=[153, 4], edge_index=[2, 620], edge_attr=[620, 2], y=[153, 1], edge_weight=[620], num_nodes=153, coords=[153, 3], dataset_id=239, binclass=1, fnum=42),\n",
       " Data(x=[133, 4], edge_index=[2, 588], edge_attr=[588, 2], y=[133, 1], edge_weight=[588], num_nodes=133, coords=[133, 3], dataset_id=185, binclass=1, fnum=75),\n",
       " Data(x=[133, 4], edge_index=[2, 480], edge_attr=[480, 2], y=[133, 1], edge_weight=[480], num_nodes=133, coords=[133, 3], dataset_id=86, binclass=1, fnum=96),\n",
       " Data(x=[108, 4], edge_index=[2, 460], edge_attr=[460, 2], y=[108, 1], edge_weight=[460], num_nodes=108, coords=[108, 3], dataset_id=108, binclass=1, fnum=220),\n",
       " Data(x=[117, 4], edge_index=[2, 546], edge_attr=[546, 2], y=[117, 1], edge_weight=[546], num_nodes=117, coords=[117, 3], dataset_id=136, binclass=1, fnum=218),\n",
       " Data(x=[150, 4], edge_index=[2, 540], edge_attr=[540, 2], y=[150, 1], edge_weight=[540], num_nodes=150, coords=[150, 3], dataset_id=125, binclass=1, fnum=175),\n",
       " Data(x=[130, 4], edge_index=[2, 548], edge_attr=[548, 2], y=[130, 1], edge_weight=[548], num_nodes=130, coords=[130, 3], dataset_id=7, binclass=0, fnum=1796),\n",
       " Data(x=[175, 4], edge_index=[2, 696], edge_attr=[696, 2], y=[175, 1], edge_weight=[696], num_nodes=175, coords=[175, 3], dataset_id=6, binclass=0, fnum=1969),\n",
       " Data(x=[126, 4], edge_index=[2, 526], edge_attr=[526, 2], y=[126, 1], edge_weight=[526], num_nodes=126, coords=[126, 3], dataset_id=130, binclass=1, fnum=83),\n",
       " Data(x=[127, 4], edge_index=[2, 514], edge_attr=[514, 2], y=[127, 1], edge_weight=[514], num_nodes=127, coords=[127, 3], dataset_id=5, binclass=0, fnum=1398),\n",
       " Data(x=[145, 4], edge_index=[2, 486], edge_attr=[486, 2], y=[145, 1], edge_weight=[486], num_nodes=145, coords=[145, 3], dataset_id=14, binclass=0, fnum=1026),\n",
       " Data(x=[117, 4], edge_index=[2, 458], edge_attr=[458, 2], y=[117, 1], edge_weight=[458], num_nodes=117, coords=[117, 3], dataset_id=16, binclass=1, fnum=145),\n",
       " Data(x=[126, 4], edge_index=[2, 604], edge_attr=[604, 2], y=[126, 1], edge_weight=[604], num_nodes=126, coords=[126, 3], dataset_id=260, binclass=1, fnum=14),\n",
       " Data(x=[174, 4], edge_index=[2, 754], edge_attr=[754, 2], y=[174, 1], edge_weight=[754], num_nodes=174, coords=[174, 3], dataset_id=31, binclass=0, fnum=594),\n",
       " Data(x=[119, 4], edge_index=[2, 564], edge_attr=[564, 2], y=[119, 1], edge_weight=[564], num_nodes=119, coords=[119, 3], dataset_id=17, binclass=0, fnum=1679),\n",
       " Data(x=[173, 4], edge_index=[2, 638], edge_attr=[638, 2], y=[173, 1], edge_weight=[638], num_nodes=173, coords=[173, 3], dataset_id=18, binclass=0, fnum=334),\n",
       " Data(x=[162, 4], edge_index=[2, 688], edge_attr=[688, 2], y=[162, 1], edge_weight=[688], num_nodes=162, coords=[162, 3], dataset_id=26, binclass=0, fnum=1255),\n",
       " Data(x=[165, 4], edge_index=[2, 654], edge_attr=[654, 2], y=[165, 1], edge_weight=[654], num_nodes=165, coords=[165, 3], dataset_id=18, binclass=0, fnum=914),\n",
       " Data(x=[134, 4], edge_index=[2, 638], edge_attr=[638, 2], y=[134, 1], edge_weight=[638], num_nodes=134, coords=[134, 3], dataset_id=69, binclass=1, fnum=134),\n",
       " Data(x=[133, 4], edge_index=[2, 588], edge_attr=[588, 2], y=[133, 1], edge_weight=[588], num_nodes=133, coords=[133, 3], dataset_id=138, binclass=1, fnum=115),\n",
       " Data(x=[166, 4], edge_index=[2, 596], edge_attr=[596, 2], y=[166, 1], edge_weight=[596], num_nodes=166, coords=[166, 3], dataset_id=16, binclass=0, fnum=239),\n",
       " Data(x=[143, 4], edge_index=[2, 620], edge_attr=[620, 2], y=[143, 1], edge_weight=[620], num_nodes=143, coords=[143, 3], dataset_id=21, binclass=0, fnum=157),\n",
       " Data(x=[158, 4], edge_index=[2, 680], edge_attr=[680, 2], y=[158, 1], edge_weight=[680], num_nodes=158, coords=[158, 3], dataset_id=42, binclass=0, fnum=26),\n",
       " Data(x=[150, 4], edge_index=[2, 584], edge_attr=[584, 2], y=[150, 1], edge_weight=[584], num_nodes=150, coords=[150, 3], dataset_id=0, binclass=1, fnum=30),\n",
       " Data(x=[144, 4], edge_index=[2, 662], edge_attr=[662, 2], y=[144, 1], edge_weight=[662], num_nodes=144, coords=[144, 3], dataset_id=195, binclass=1, fnum=212),\n",
       " Data(x=[155, 4], edge_index=[2, 620], edge_attr=[620, 2], y=[155, 1], edge_weight=[620], num_nodes=155, coords=[155, 3], dataset_id=53, binclass=0, fnum=1329),\n",
       " Data(x=[153, 4], edge_index=[2, 614], edge_attr=[614, 2], y=[153, 1], edge_weight=[614], num_nodes=153, coords=[153, 3], dataset_id=6, binclass=0, fnum=617),\n",
       " Data(x=[129, 4], edge_index=[2, 630], edge_attr=[630, 2], y=[129, 1], edge_weight=[630], num_nodes=129, coords=[129, 3], dataset_id=28, binclass=0, fnum=298),\n",
       " Data(x=[150, 4], edge_index=[2, 706], edge_attr=[706, 2], y=[150, 1], edge_weight=[706], num_nodes=150, coords=[150, 3], dataset_id=373, binclass=1, fnum=80),\n",
       " Data(x=[141, 4], edge_index=[2, 580], edge_attr=[580, 2], y=[141, 1], edge_weight=[580], num_nodes=141, coords=[141, 3], dataset_id=1, binclass=0, fnum=1543),\n",
       " Data(x=[121, 4], edge_index=[2, 484], edge_attr=[484, 2], y=[121, 1], edge_weight=[484], num_nodes=121, coords=[121, 3], dataset_id=304, binclass=1, fnum=96),\n",
       " Data(x=[83, 4], edge_index=[2, 368], edge_attr=[368, 2], y=[83, 1], edge_weight=[368], num_nodes=83, coords=[83, 3], dataset_id=310, binclass=1, fnum=193),\n",
       " Data(x=[139, 4], edge_index=[2, 590], edge_attr=[590, 2], y=[139, 1], edge_weight=[590], num_nodes=139, coords=[139, 3], dataset_id=22, binclass=0, fnum=1013),\n",
       " Data(x=[116, 4], edge_index=[2, 520], edge_attr=[520, 2], y=[116, 1], edge_weight=[520], num_nodes=116, coords=[116, 3], dataset_id=93, binclass=1, fnum=138),\n",
       " Data(x=[136, 4], edge_index=[2, 564], edge_attr=[564, 2], y=[136, 1], edge_weight=[564], num_nodes=136, coords=[136, 3], dataset_id=156, binclass=1, fnum=160),\n",
       " Data(x=[130, 4], edge_index=[2, 548], edge_attr=[548, 2], y=[130, 1], edge_weight=[548], num_nodes=130, coords=[130, 3], dataset_id=16, binclass=0, fnum=1359),\n",
       " Data(x=[133, 4], edge_index=[2, 540], edge_attr=[540, 2], y=[133, 1], edge_weight=[540], num_nodes=133, coords=[133, 3], dataset_id=36, binclass=0, fnum=1646),\n",
       " Data(x=[142, 4], edge_index=[2, 560], edge_attr=[560, 2], y=[142, 1], edge_weight=[560], num_nodes=142, coords=[142, 3], dataset_id=187, binclass=1, fnum=166),\n",
       " Data(x=[114, 4], edge_index=[2, 532], edge_attr=[532, 2], y=[114, 1], edge_weight=[532], num_nodes=114, coords=[114, 3], dataset_id=301, binclass=1, fnum=170),\n",
       " Data(x=[132, 4], edge_index=[2, 590], edge_attr=[590, 2], y=[132, 1], edge_weight=[590], num_nodes=132, coords=[132, 3], dataset_id=372, binclass=1, fnum=53),\n",
       " Data(x=[162, 4], edge_index=[2, 564], edge_attr=[564, 2], y=[162, 1], edge_weight=[564], num_nodes=162, coords=[162, 3], dataset_id=10, binclass=0, fnum=1518),\n",
       " Data(x=[166, 4], edge_index=[2, 706], edge_attr=[706, 2], y=[166, 1], edge_weight=[706], num_nodes=166, coords=[166, 3], dataset_id=43, binclass=0, fnum=842),\n",
       " Data(x=[119, 4], edge_index=[2, 478], edge_attr=[478, 2], y=[119, 1], edge_weight=[478], num_nodes=119, coords=[119, 3], dataset_id=46, binclass=1, fnum=141),\n",
       " Data(x=[152, 4], edge_index=[2, 612], edge_attr=[612, 2], y=[152, 1], edge_weight=[612], num_nodes=152, coords=[152, 3], dataset_id=33, binclass=0, fnum=1029),\n",
       " Data(x=[126, 4], edge_index=[2, 464], edge_attr=[464, 2], y=[126, 1], edge_weight=[464], num_nodes=126, coords=[126, 3], dataset_id=36, binclass=1, fnum=158),\n",
       " Data(x=[165, 4], edge_index=[2, 620], edge_attr=[620, 2], y=[165, 1], edge_weight=[620], num_nodes=165, coords=[165, 3], dataset_id=391, binclass=1, fnum=128),\n",
       " Data(x=[144, 4], edge_index=[2, 540], edge_attr=[540, 2], y=[144, 1], edge_weight=[540], num_nodes=144, coords=[144, 3], dataset_id=0, binclass=0, fnum=554),\n",
       " Data(x=[144, 4], edge_index=[2, 616], edge_attr=[616, 2], y=[144, 1], edge_weight=[616], num_nodes=144, coords=[144, 3], dataset_id=236, binclass=1, fnum=145),\n",
       " Data(x=[147, 4], edge_index=[2, 576], edge_attr=[576, 2], y=[147, 1], edge_weight=[576], num_nodes=147, coords=[147, 3], dataset_id=29, binclass=0, fnum=1011),\n",
       " Data(x=[102, 4], edge_index=[2, 448], edge_attr=[448, 2], y=[102, 1], edge_weight=[448], num_nodes=102, coords=[102, 3], dataset_id=140, binclass=1, fnum=172),\n",
       " Data(x=[145, 4], edge_index=[2, 618], edge_attr=[618, 2], y=[145, 1], edge_weight=[618], num_nodes=145, coords=[145, 3], dataset_id=0, binclass=0, fnum=1809),\n",
       " Data(x=[180, 4], edge_index=[2, 712], edge_attr=[712, 2], y=[180, 1], edge_weight=[712], num_nodes=180, coords=[180, 3], dataset_id=3, binclass=0, fnum=1274),\n",
       " Data(x=[171, 4], edge_index=[2, 628], edge_attr=[628, 2], y=[171, 1], edge_weight=[628], num_nodes=171, coords=[171, 3], dataset_id=38, binclass=0, fnum=1598),\n",
       " Data(x=[138, 4], edge_index=[2, 538], edge_attr=[538, 2], y=[138, 1], edge_weight=[538], num_nodes=138, coords=[138, 3], dataset_id=36, binclass=0, fnum=49),\n",
       " Data(x=[171, 4], edge_index=[2, 684], edge_attr=[684, 2], y=[171, 1], edge_weight=[684], num_nodes=171, coords=[171, 3], dataset_id=44, binclass=0, fnum=1393),\n",
       " Data(x=[136, 4], edge_index=[2, 508], edge_attr=[508, 2], y=[136, 1], edge_weight=[508], num_nodes=136, coords=[136, 3], dataset_id=242, binclass=1, fnum=87),\n",
       " Data(x=[163, 4], edge_index=[2, 714], edge_attr=[714, 2], y=[163, 1], edge_weight=[714], num_nodes=163, coords=[163, 3], dataset_id=289, binclass=1, fnum=218),\n",
       " Data(x=[141, 4], edge_index=[2, 586], edge_attr=[586, 2], y=[141, 1], edge_weight=[586], num_nodes=141, coords=[141, 3], dataset_id=131, binclass=1, fnum=175),\n",
       " Data(x=[145, 4], edge_index=[2, 526], edge_attr=[526, 2], y=[145, 1], edge_weight=[526], num_nodes=145, coords=[145, 3], dataset_id=0, binclass=0, fnum=1685),\n",
       " Data(x=[124, 4], edge_index=[2, 534], edge_attr=[534, 2], y=[124, 1], edge_weight=[534], num_nodes=124, coords=[124, 3], dataset_id=29, binclass=0, fnum=677),\n",
       " Data(x=[126, 4], edge_index=[2, 546], edge_attr=[546, 2], y=[126, 1], edge_weight=[546], num_nodes=126, coords=[126, 3], dataset_id=42, binclass=0, fnum=1849),\n",
       " Data(x=[137, 4], edge_index=[2, 590], edge_attr=[590, 2], y=[137, 1], edge_weight=[590], num_nodes=137, coords=[137, 3], dataset_id=19, binclass=0, fnum=1104),\n",
       " Data(x=[131, 4], edge_index=[2, 506], edge_attr=[506, 2], y=[131, 1], edge_weight=[506], num_nodes=131, coords=[131, 3], dataset_id=208, binclass=1, fnum=182),\n",
       " Data(x=[132, 4], edge_index=[2, 528], edge_attr=[528, 2], y=[132, 1], edge_weight=[528], num_nodes=132, coords=[132, 3], dataset_id=113, binclass=1, fnum=175),\n",
       " Data(x=[130, 4], edge_index=[2, 528], edge_attr=[528, 2], y=[130, 1], edge_weight=[528], num_nodes=130, coords=[130, 3], dataset_id=192, binclass=1, fnum=219),\n",
       " Data(x=[162, 4], edge_index=[2, 568], edge_attr=[568, 2], y=[162, 1], edge_weight=[568], num_nodes=162, coords=[162, 3], dataset_id=5, binclass=0, fnum=1990),\n",
       " Data(x=[146, 4], edge_index=[2, 562], edge_attr=[562, 2], y=[146, 1], edge_weight=[562], num_nodes=146, coords=[146, 3], dataset_id=47, binclass=0, fnum=967),\n",
       " Data(x=[127, 4], edge_index=[2, 508], edge_attr=[508, 2], y=[127, 1], edge_weight=[508], num_nodes=127, coords=[127, 3], dataset_id=57, binclass=1, fnum=220),\n",
       " Data(x=[136, 4], edge_index=[2, 518], edge_attr=[518, 2], y=[136, 1], edge_weight=[518], num_nodes=136, coords=[136, 3], dataset_id=41, binclass=1, fnum=109),\n",
       " Data(x=[153, 4], edge_index=[2, 594], edge_attr=[594, 2], y=[153, 1], edge_weight=[594], num_nodes=153, coords=[153, 3], dataset_id=44, binclass=0, fnum=1780),\n",
       " Data(x=[125, 4], edge_index=[2, 530], edge_attr=[530, 2], y=[125, 1], edge_weight=[530], num_nodes=125, coords=[125, 3], dataset_id=36, binclass=0, fnum=524),\n",
       " Data(x=[151, 4], edge_index=[2, 670], edge_attr=[670, 2], y=[151, 1], edge_weight=[670], num_nodes=151, coords=[151, 3], dataset_id=0, binclass=0, fnum=146),\n",
       " Data(x=[149, 4], edge_index=[2, 610], edge_attr=[610, 2], y=[149, 1], edge_weight=[610], num_nodes=149, coords=[149, 3], dataset_id=10, binclass=0, fnum=1352),\n",
       " Data(x=[147, 4], edge_index=[2, 562], edge_attr=[562, 2], y=[147, 1], edge_weight=[562], num_nodes=147, coords=[147, 3], dataset_id=17, binclass=0, fnum=1005),\n",
       " Data(x=[147, 4], edge_index=[2, 552], edge_attr=[552, 2], y=[147, 1], edge_weight=[552], num_nodes=147, coords=[147, 3], dataset_id=31, binclass=0, fnum=886),\n",
       " Data(x=[136, 4], edge_index=[2, 506], edge_attr=[506, 2], y=[136, 1], edge_weight=[506], num_nodes=136, coords=[136, 3], dataset_id=27, binclass=0, fnum=533),\n",
       " Data(x=[143, 4], edge_index=[2, 540], edge_attr=[540, 2], y=[143, 1], edge_weight=[540], num_nodes=143, coords=[143, 3], dataset_id=27, binclass=0, fnum=31),\n",
       " Data(x=[144, 4], edge_index=[2, 614], edge_attr=[614, 2], y=[144, 1], edge_weight=[614], num_nodes=144, coords=[144, 3], dataset_id=390, binclass=1, fnum=220),\n",
       " Data(x=[154, 4], edge_index=[2, 564], edge_attr=[564, 2], y=[154, 1], edge_weight=[564], num_nodes=154, coords=[154, 3], dataset_id=41, binclass=0, fnum=555),\n",
       " Data(x=[165, 4], edge_index=[2, 566], edge_attr=[566, 2], y=[165, 1], edge_weight=[566], num_nodes=165, coords=[165, 3], dataset_id=3, binclass=0, fnum=624),\n",
       " Data(x=[141, 4], edge_index=[2, 556], edge_attr=[556, 2], y=[141, 1], edge_weight=[556], num_nodes=141, coords=[141, 3], dataset_id=359, binclass=1, fnum=208),\n",
       " Data(x=[137, 4], edge_index=[2, 528], edge_attr=[528, 2], y=[137, 1], edge_weight=[528], num_nodes=137, coords=[137, 3], dataset_id=107, binclass=1, fnum=18),\n",
       " Data(x=[134, 4], edge_index=[2, 584], edge_attr=[584, 2], y=[134, 1], edge_weight=[584], num_nodes=134, coords=[134, 3], dataset_id=198, binclass=1, fnum=133),\n",
       " Data(x=[126, 4], edge_index=[2, 520], edge_attr=[520, 2], y=[126, 1], edge_weight=[520], num_nodes=126, coords=[126, 3], dataset_id=60, binclass=1, fnum=30),\n",
       " Data(x=[150, 4], edge_index=[2, 602], edge_attr=[602, 2], y=[150, 1], edge_weight=[602], num_nodes=150, coords=[150, 3], dataset_id=24, binclass=0, fnum=1074),\n",
       " Data(x=[103, 4], edge_index=[2, 458], edge_attr=[458, 2], y=[103, 1], edge_weight=[458], num_nodes=103, coords=[103, 3], dataset_id=137, binclass=1, fnum=135),\n",
       " Data(x=[136, 4], edge_index=[2, 586], edge_attr=[586, 2], y=[136, 1], edge_weight=[586], num_nodes=136, coords=[136, 3], dataset_id=326, binclass=1, fnum=180),\n",
       " Data(x=[122, 4], edge_index=[2, 468], edge_attr=[468, 2], y=[122, 1], edge_weight=[468], num_nodes=122, coords=[122, 3], dataset_id=21, binclass=0, fnum=202),\n",
       " Data(x=[114, 4], edge_index=[2, 588], edge_attr=[588, 2], y=[114, 1], edge_weight=[588], num_nodes=114, coords=[114, 3], dataset_id=36, binclass=1, fnum=164),\n",
       " Data(x=[138, 4], edge_index=[2, 478], edge_attr=[478, 2], y=[138, 1], edge_weight=[478], num_nodes=138, coords=[138, 3], dataset_id=42, binclass=0, fnum=1200),\n",
       " Data(x=[151, 4], edge_index=[2, 660], edge_attr=[660, 2], y=[151, 1], edge_weight=[660], num_nodes=151, coords=[151, 3], dataset_id=44, binclass=0, fnum=1347),\n",
       " Data(x=[143, 4], edge_index=[2, 718], edge_attr=[718, 2], y=[143, 1], edge_weight=[718], num_nodes=143, coords=[143, 3], dataset_id=258, binclass=1, fnum=109),\n",
       " Data(x=[168, 4], edge_index=[2, 624], edge_attr=[624, 2], y=[168, 1], edge_weight=[624], num_nodes=168, coords=[168, 3], dataset_id=16, binclass=0, fnum=1968),\n",
       " Data(x=[169, 4], edge_index=[2, 644], edge_attr=[644, 2], y=[169, 1], edge_weight=[644], num_nodes=169, coords=[169, 3], dataset_id=42, binclass=0, fnum=303),\n",
       " Data(x=[154, 4], edge_index=[2, 580], edge_attr=[580, 2], y=[154, 1], edge_weight=[580], num_nodes=154, coords=[154, 3], dataset_id=2, binclass=0, fnum=667),\n",
       " Data(x=[136, 4], edge_index=[2, 564], edge_attr=[564, 2], y=[136, 1], edge_weight=[564], num_nodes=136, coords=[136, 3], dataset_id=181, binclass=1, fnum=16),\n",
       " Data(x=[121, 4], edge_index=[2, 594], edge_attr=[594, 2], y=[121, 1], edge_weight=[594], num_nodes=121, coords=[121, 3], dataset_id=331, binclass=1, fnum=20),\n",
       " Data(x=[149, 4], edge_index=[2, 570], edge_attr=[570, 2], y=[149, 1], edge_weight=[570], num_nodes=149, coords=[149, 3], dataset_id=20, binclass=0, fnum=922),\n",
       " Data(x=[141, 4], edge_index=[2, 636], edge_attr=[636, 2], y=[141, 1], edge_weight=[636], num_nodes=141, coords=[141, 3], dataset_id=13, binclass=1, fnum=209),\n",
       " Data(x=[134, 4], edge_index=[2, 498], edge_attr=[498, 2], y=[134, 1], edge_weight=[498], num_nodes=134, coords=[134, 3], dataset_id=251, binclass=1, fnum=217),\n",
       " Data(x=[154, 4], edge_index=[2, 632], edge_attr=[632, 2], y=[154, 1], edge_weight=[632], num_nodes=154, coords=[154, 3], dataset_id=37, binclass=0, fnum=1027),\n",
       " Data(x=[141, 4], edge_index=[2, 608], edge_attr=[608, 2], y=[141, 1], edge_weight=[608], num_nodes=141, coords=[141, 3], dataset_id=17, binclass=0, fnum=2000),\n",
       " Data(x=[188, 4], edge_index=[2, 778], edge_attr=[778, 2], y=[188, 1], edge_weight=[778], num_nodes=188, coords=[188, 3], dataset_id=48, binclass=0, fnum=1494),\n",
       " Data(x=[113, 4], edge_index=[2, 502], edge_attr=[502, 2], y=[113, 1], edge_weight=[502], num_nodes=113, coords=[113, 3], dataset_id=8, binclass=1, fnum=199),\n",
       " Data(x=[131, 4], edge_index=[2, 538], edge_attr=[538, 2], y=[131, 1], edge_weight=[538], num_nodes=131, coords=[131, 3], dataset_id=103, binclass=1, fnum=79),\n",
       " Data(x=[140, 4], edge_index=[2, 562], edge_attr=[562, 2], y=[140, 1], edge_weight=[562], num_nodes=140, coords=[140, 3], dataset_id=45, binclass=0, fnum=1917),\n",
       " Data(x=[153, 4], edge_index=[2, 578], edge_attr=[578, 2], y=[153, 1], edge_weight=[578], num_nodes=153, coords=[153, 3], dataset_id=1, binclass=0, fnum=676),\n",
       " Data(x=[134, 4], edge_index=[2, 492], edge_attr=[492, 2], y=[134, 1], edge_weight=[492], num_nodes=134, coords=[134, 3], dataset_id=7, binclass=0, fnum=258),\n",
       " Data(x=[165, 4], edge_index=[2, 628], edge_attr=[628, 2], y=[165, 1], edge_weight=[628], num_nodes=165, coords=[165, 3], dataset_id=4, binclass=0, fnum=919),\n",
       " Data(x=[114, 4], edge_index=[2, 468], edge_attr=[468, 2], y=[114, 1], edge_weight=[468], num_nodes=114, coords=[114, 3], dataset_id=96, binclass=1, fnum=1),\n",
       " Data(x=[120, 4], edge_index=[2, 492], edge_attr=[492, 2], y=[120, 1], edge_weight=[492], num_nodes=120, coords=[120, 3], dataset_id=40, binclass=0, fnum=1456),\n",
       " Data(x=[152, 4], edge_index=[2, 620], edge_attr=[620, 2], y=[152, 1], edge_weight=[620], num_nodes=152, coords=[152, 3], dataset_id=4, binclass=1, fnum=23),\n",
       " Data(x=[153, 4], edge_index=[2, 596], edge_attr=[596, 2], y=[153, 1], edge_weight=[596], num_nodes=153, coords=[153, 3], dataset_id=55, binclass=0, fnum=1518),\n",
       " Data(x=[150, 4], edge_index=[2, 548], edge_attr=[548, 2], y=[150, 1], edge_weight=[548], num_nodes=150, coords=[150, 3], dataset_id=37, binclass=0, fnum=221),\n",
       " Data(x=[165, 4], edge_index=[2, 628], edge_attr=[628, 2], y=[165, 1], edge_weight=[628], num_nodes=165, coords=[165, 3], dataset_id=3, binclass=0, fnum=405),\n",
       " Data(x=[148, 4], edge_index=[2, 590], edge_attr=[590, 2], y=[148, 1], edge_weight=[590], num_nodes=148, coords=[148, 3], dataset_id=38, binclass=0, fnum=186),\n",
       " Data(x=[111, 4], edge_index=[2, 458], edge_attr=[458, 2], y=[111, 1], edge_weight=[458], num_nodes=111, coords=[111, 3], dataset_id=268, binclass=1, fnum=165),\n",
       " Data(x=[135, 4], edge_index=[2, 614], edge_attr=[614, 2], y=[135, 1], edge_weight=[614], num_nodes=135, coords=[135, 3], dataset_id=424, binclass=1, fnum=19),\n",
       " Data(x=[123, 4], edge_index=[2, 612], edge_attr=[612, 2], y=[123, 1], edge_weight=[612], num_nodes=123, coords=[123, 3], dataset_id=151, binclass=1, fnum=179),\n",
       " Data(x=[160, 4], edge_index=[2, 576], edge_attr=[576, 2], y=[160, 1], edge_weight=[576], num_nodes=160, coords=[160, 3], dataset_id=31, binclass=0, fnum=1738),\n",
       " Data(x=[152, 4], edge_index=[2, 514], edge_attr=[514, 2], y=[152, 1], edge_weight=[514], num_nodes=152, coords=[152, 3], dataset_id=22, binclass=0, fnum=1287),\n",
       " Data(x=[150, 4], edge_index=[2, 746], edge_attr=[746, 2], y=[150, 1], edge_weight=[746], num_nodes=150, coords=[150, 3], dataset_id=182, binclass=1, fnum=77),\n",
       " Data(x=[133, 4], edge_index=[2, 560], edge_attr=[560, 2], y=[133, 1], edge_weight=[560], num_nodes=133, coords=[133, 3], dataset_id=44, binclass=0, fnum=391),\n",
       " Data(x=[157, 4], edge_index=[2, 638], edge_attr=[638, 2], y=[157, 1], edge_weight=[638], num_nodes=157, coords=[157, 3], dataset_id=28, binclass=0, fnum=614),\n",
       " Data(x=[141, 4], edge_index=[2, 622], edge_attr=[622, 2], y=[141, 1], edge_weight=[622], num_nodes=141, coords=[141, 3], dataset_id=181, binclass=1, fnum=248),\n",
       " Data(x=[157, 4], edge_index=[2, 654], edge_attr=[654, 2], y=[157, 1], edge_weight=[654], num_nodes=157, coords=[157, 3], dataset_id=374, binclass=1, fnum=106),\n",
       " Data(x=[126, 4], edge_index=[2, 550], edge_attr=[550, 2], y=[126, 1], edge_weight=[550], num_nodes=126, coords=[126, 3], dataset_id=216, binclass=1, fnum=28),\n",
       " Data(x=[156, 4], edge_index=[2, 602], edge_attr=[602, 2], y=[156, 1], edge_weight=[602], num_nodes=156, coords=[156, 3], dataset_id=331, binclass=1, fnum=117),\n",
       " Data(x=[146, 4], edge_index=[2, 640], edge_attr=[640, 2], y=[146, 1], edge_weight=[640], num_nodes=146, coords=[146, 3], dataset_id=339, binclass=1, fnum=246),\n",
       " Data(x=[165, 4], edge_index=[2, 610], edge_attr=[610, 2], y=[165, 1], edge_weight=[610], num_nodes=165, coords=[165, 3], dataset_id=40, binclass=0, fnum=396),\n",
       " Data(x=[139, 4], edge_index=[2, 564], edge_attr=[564, 2], y=[139, 1], edge_weight=[564], num_nodes=139, coords=[139, 3], dataset_id=274, binclass=1, fnum=152),\n",
       " Data(x=[134, 4], edge_index=[2, 646], edge_attr=[646, 2], y=[134, 1], edge_weight=[646], num_nodes=134, coords=[134, 3], dataset_id=152, binclass=1, fnum=106),\n",
       " Data(x=[128, 4], edge_index=[2, 524], edge_attr=[524, 2], y=[128, 1], edge_weight=[524], num_nodes=128, coords=[128, 3], dataset_id=220, binclass=1, fnum=222),\n",
       " Data(x=[160, 4], edge_index=[2, 604], edge_attr=[604, 2], y=[160, 1], edge_weight=[604], num_nodes=160, coords=[160, 3], dataset_id=48, binclass=0, fnum=1829),\n",
       " Data(x=[162, 4], edge_index=[2, 648], edge_attr=[648, 2], y=[162, 1], edge_weight=[648], num_nodes=162, coords=[162, 3], dataset_id=47, binclass=0, fnum=1602),\n",
       " Data(x=[133, 4], edge_index=[2, 586], edge_attr=[586, 2], y=[133, 1], edge_weight=[586], num_nodes=133, coords=[133, 3], dataset_id=373, binclass=1, fnum=195),\n",
       " Data(x=[129, 4], edge_index=[2, 578], edge_attr=[578, 2], y=[129, 1], edge_weight=[578], num_nodes=129, coords=[129, 3], dataset_id=52, binclass=1, fnum=43),\n",
       " Data(x=[127, 4], edge_index=[2, 510], edge_attr=[510, 2], y=[127, 1], edge_weight=[510], num_nodes=127, coords=[127, 3], dataset_id=385, binclass=1, fnum=106),\n",
       " Data(x=[152, 4], edge_index=[2, 584], edge_attr=[584, 2], y=[152, 1], edge_weight=[584], num_nodes=152, coords=[152, 3], dataset_id=221, binclass=1, fnum=85),\n",
       " Data(x=[127, 4], edge_index=[2, 422], edge_attr=[422, 2], y=[127, 1], edge_weight=[422], num_nodes=127, coords=[127, 3], dataset_id=15, binclass=0, fnum=1461),\n",
       " Data(x=[131, 4], edge_index=[2, 518], edge_attr=[518, 2], y=[131, 1], edge_weight=[518], num_nodes=131, coords=[131, 3], dataset_id=28, binclass=0, fnum=1925),\n",
       " Data(x=[106, 4], edge_index=[2, 566], edge_attr=[566, 2], y=[106, 1], edge_weight=[566], num_nodes=106, coords=[106, 3], dataset_id=0, binclass=1, fnum=83),\n",
       " Data(x=[166, 4], edge_index=[2, 680], edge_attr=[680, 2], y=[166, 1], edge_weight=[680], num_nodes=166, coords=[166, 3], dataset_id=49, binclass=0, fnum=1726),\n",
       " Data(x=[169, 4], edge_index=[2, 652], edge_attr=[652, 2], y=[169, 1], edge_weight=[652], num_nodes=169, coords=[169, 3], dataset_id=27, binclass=0, fnum=940),\n",
       " Data(x=[131, 4], edge_index=[2, 566], edge_attr=[566, 2], y=[131, 1], edge_weight=[566], num_nodes=131, coords=[131, 3], dataset_id=344, binclass=1, fnum=224),\n",
       " Data(x=[173, 4], edge_index=[2, 658], edge_attr=[658, 2], y=[173, 1], edge_weight=[658], num_nodes=173, coords=[173, 3], dataset_id=13, binclass=0, fnum=622),\n",
       " Data(x=[160, 4], edge_index=[2, 690], edge_attr=[690, 2], y=[160, 1], edge_weight=[690], num_nodes=160, coords=[160, 3], dataset_id=68, binclass=1, fnum=135),\n",
       " Data(x=[132, 4], edge_index=[2, 516], edge_attr=[516, 2], y=[132, 1], edge_weight=[516], num_nodes=132, coords=[132, 3], dataset_id=246, binclass=1, fnum=136),\n",
       " Data(x=[141, 4], edge_index=[2, 576], edge_attr=[576, 2], y=[141, 1], edge_weight=[576], num_nodes=141, coords=[141, 3], dataset_id=229, binclass=1, fnum=134),\n",
       " Data(x=[170, 4], edge_index=[2, 636], edge_attr=[636, 2], y=[170, 1], edge_weight=[636], num_nodes=170, coords=[170, 3], dataset_id=37, binclass=0, fnum=1529),\n",
       " Data(x=[122, 4], edge_index=[2, 518], edge_attr=[518, 2], y=[122, 1], edge_weight=[518], num_nodes=122, coords=[122, 3], dataset_id=304, binclass=1, fnum=26),\n",
       " Data(x=[118, 4], edge_index=[2, 552], edge_attr=[552, 2], y=[118, 1], edge_weight=[552], num_nodes=118, coords=[118, 3], dataset_id=273, binclass=1, fnum=61),\n",
       " Data(x=[174, 4], edge_index=[2, 724], edge_attr=[724, 2], y=[174, 1], edge_weight=[724], num_nodes=174, coords=[174, 3], dataset_id=16, binclass=0, fnum=1094),\n",
       " Data(x=[179, 4], edge_index=[2, 660], edge_attr=[660, 2], y=[179, 1], edge_weight=[660], num_nodes=179, coords=[179, 3], dataset_id=44, binclass=0, fnum=589),\n",
       " Data(x=[144, 4], edge_index=[2, 558], edge_attr=[558, 2], y=[144, 1], edge_weight=[558], num_nodes=144, coords=[144, 3], dataset_id=192, binclass=1, fnum=70),\n",
       " Data(x=[124, 4], edge_index=[2, 586], edge_attr=[586, 2], y=[124, 1], edge_weight=[586], num_nodes=124, coords=[124, 3], dataset_id=26, binclass=0, fnum=813),\n",
       " Data(x=[138, 4], edge_index=[2, 686], edge_attr=[686, 2], y=[138, 1], edge_weight=[686], num_nodes=138, coords=[138, 3], dataset_id=141, binclass=1, fnum=26),\n",
       " Data(x=[133, 4], edge_index=[2, 562], edge_attr=[562, 2], y=[133, 1], edge_weight=[562], num_nodes=133, coords=[133, 3], dataset_id=250, binclass=1, fnum=101),\n",
       " Data(x=[144, 4], edge_index=[2, 538], edge_attr=[538, 2], y=[144, 1], edge_weight=[538], num_nodes=144, coords=[144, 3], dataset_id=31, binclass=0, fnum=160),\n",
       " Data(x=[126, 4], edge_index=[2, 528], edge_attr=[528, 2], y=[126, 1], edge_weight=[528], num_nodes=126, coords=[126, 3], dataset_id=406, binclass=1, fnum=62),\n",
       " Data(x=[149, 4], edge_index=[2, 496], edge_attr=[496, 2], y=[149, 1], edge_weight=[496], num_nodes=149, coords=[149, 3], dataset_id=24, binclass=0, fnum=1372),\n",
       " Data(x=[147, 4], edge_index=[2, 578], edge_attr=[578, 2], y=[147, 1], edge_weight=[578], num_nodes=147, coords=[147, 3], dataset_id=43, binclass=0, fnum=445),\n",
       " Data(x=[151, 4], edge_index=[2, 586], edge_attr=[586, 2], y=[151, 1], edge_weight=[586], num_nodes=151, coords=[151, 3], dataset_id=181, binclass=1, fnum=213),\n",
       " Data(x=[171, 4], edge_index=[2, 622], edge_attr=[622, 2], y=[171, 1], edge_weight=[622], num_nodes=171, coords=[171, 3], dataset_id=19, binclass=0, fnum=1906),\n",
       " Data(x=[117, 4], edge_index=[2, 470], edge_attr=[470, 2], y=[117, 1], edge_weight=[470], num_nodes=117, coords=[117, 3], dataset_id=361, binclass=1, fnum=155),\n",
       " Data(x=[143, 4], edge_index=[2, 654], edge_attr=[654, 2], y=[143, 1], edge_weight=[654], num_nodes=143, coords=[143, 3], dataset_id=83, binclass=1, fnum=111),\n",
       " Data(x=[125, 4], edge_index=[2, 486], edge_attr=[486, 2], y=[125, 1], edge_weight=[486], num_nodes=125, coords=[125, 3], dataset_id=10, binclass=0, fnum=328),\n",
       " Data(x=[102, 4], edge_index=[2, 512], edge_attr=[512, 2], y=[102, 1], edge_weight=[512], num_nodes=102, coords=[102, 3], dataset_id=267, binclass=1, fnum=143),\n",
       " Data(x=[153, 4], edge_index=[2, 722], edge_attr=[722, 2], y=[153, 1], edge_weight=[722], num_nodes=153, coords=[153, 3], dataset_id=356, binclass=1, fnum=116),\n",
       " Data(x=[141, 4], edge_index=[2, 544], edge_attr=[544, 2], y=[141, 1], edge_weight=[544], num_nodes=141, coords=[141, 3], dataset_id=329, binclass=1, fnum=200),\n",
       " Data(x=[151, 4], edge_index=[2, 548], edge_attr=[548, 2], y=[151, 1], edge_weight=[548], num_nodes=151, coords=[151, 3], dataset_id=25, binclass=0, fnum=1712),\n",
       " Data(x=[145, 4], edge_index=[2, 574], edge_attr=[574, 2], y=[145, 1], edge_weight=[574], num_nodes=145, coords=[145, 3], dataset_id=216, binclass=1, fnum=80),\n",
       " Data(x=[134, 4], edge_index=[2, 596], edge_attr=[596, 2], y=[134, 1], edge_weight=[596], num_nodes=134, coords=[134, 3], dataset_id=5, binclass=0, fnum=1125),\n",
       " Data(x=[107, 4], edge_index=[2, 426], edge_attr=[426, 2], y=[107, 1], edge_weight=[426], num_nodes=107, coords=[107, 3], dataset_id=333, binclass=1, fnum=23),\n",
       " Data(x=[144, 4], edge_index=[2, 500], edge_attr=[500, 2], y=[144, 1], edge_weight=[500], num_nodes=144, coords=[144, 3], dataset_id=35, binclass=0, fnum=507),\n",
       " Data(x=[152, 4], edge_index=[2, 596], edge_attr=[596, 2], y=[152, 1], edge_weight=[596], num_nodes=152, coords=[152, 3], dataset_id=36, binclass=1, fnum=173),\n",
       " Data(x=[165, 4], edge_index=[2, 644], edge_attr=[644, 2], y=[165, 1], edge_weight=[644], num_nodes=165, coords=[165, 3], dataset_id=34, binclass=0, fnum=353),\n",
       " Data(x=[117, 4], edge_index=[2, 514], edge_attr=[514, 2], y=[117, 1], edge_weight=[514], num_nodes=117, coords=[117, 3], dataset_id=8, binclass=0, fnum=396),\n",
       " Data(x=[108, 4], edge_index=[2, 476], edge_attr=[476, 2], y=[108, 1], edge_weight=[476], num_nodes=108, coords=[108, 3], dataset_id=168, binclass=1, fnum=37),\n",
       " Data(x=[148, 4], edge_index=[2, 606], edge_attr=[606, 2], y=[148, 1], edge_weight=[606], num_nodes=148, coords=[148, 3], dataset_id=281, binclass=1, fnum=5),\n",
       " Data(x=[90, 4], edge_index=[2, 458], edge_attr=[458, 2], y=[90, 1], edge_weight=[458], num_nodes=90, coords=[90, 3], dataset_id=78, binclass=1, fnum=22),\n",
       " Data(x=[182, 4], edge_index=[2, 758], edge_attr=[758, 2], y=[182, 1], edge_weight=[758], num_nodes=182, coords=[182, 3], dataset_id=5, binclass=0, fnum=147),\n",
       " Data(x=[123, 4], edge_index=[2, 490], edge_attr=[490, 2], y=[123, 1], edge_weight=[490], num_nodes=123, coords=[123, 3], dataset_id=386, binclass=1, fnum=236),\n",
       " Data(x=[139, 4], edge_index=[2, 580], edge_attr=[580, 2], y=[139, 1], edge_weight=[580], num_nodes=139, coords=[139, 3], dataset_id=233, binclass=1, fnum=93),\n",
       " Data(x=[154, 4], edge_index=[2, 590], edge_attr=[590, 2], y=[154, 1], edge_weight=[590], num_nodes=154, coords=[154, 3], dataset_id=9, binclass=0, fnum=667),\n",
       " Data(x=[144, 4], edge_index=[2, 620], edge_attr=[620, 2], y=[144, 1], edge_weight=[620], num_nodes=144, coords=[144, 3], dataset_id=30, binclass=0, fnum=857),\n",
       " Data(x=[139, 4], edge_index=[2, 638], edge_attr=[638, 2], y=[139, 1], edge_weight=[638], num_nodes=139, coords=[139, 3], dataset_id=266, binclass=1, fnum=77),\n",
       " Data(x=[118, 4], edge_index=[2, 526], edge_attr=[526, 2], y=[118, 1], edge_weight=[526], num_nodes=118, coords=[118, 3], dataset_id=259, binclass=1, fnum=196),\n",
       " Data(x=[151, 4], edge_index=[2, 612], edge_attr=[612, 2], y=[151, 1], edge_weight=[612], num_nodes=151, coords=[151, 3], dataset_id=249, binclass=1, fnum=1),\n",
       " Data(x=[123, 4], edge_index=[2, 510], edge_attr=[510, 2], y=[123, 1], edge_weight=[510], num_nodes=123, coords=[123, 3], dataset_id=320, binclass=1, fnum=213),\n",
       " Data(x=[152, 4], edge_index=[2, 550], edge_attr=[550, 2], y=[152, 1], edge_weight=[550], num_nodes=152, coords=[152, 3], dataset_id=333, binclass=1, fnum=187),\n",
       " Data(x=[130, 4], edge_index=[2, 650], edge_attr=[650, 2], y=[130, 1], edge_weight=[650], num_nodes=130, coords=[130, 3], dataset_id=275, binclass=1, fnum=39),\n",
       " Data(x=[118, 4], edge_index=[2, 524], edge_attr=[524, 2], y=[118, 1], edge_weight=[524], num_nodes=118, coords=[118, 3], dataset_id=105, binclass=1, fnum=233),\n",
       " Data(x=[127, 4], edge_index=[2, 590], edge_attr=[590, 2], y=[127, 1], edge_weight=[590], num_nodes=127, coords=[127, 3], dataset_id=123, binclass=1, fnum=98),\n",
       " Data(x=[130, 4], edge_index=[2, 510], edge_attr=[510, 2], y=[130, 1], edge_weight=[510], num_nodes=130, coords=[130, 3], dataset_id=304, binclass=1, fnum=126),\n",
       " Data(x=[106, 4], edge_index=[2, 554], edge_attr=[554, 2], y=[106, 1], edge_weight=[554], num_nodes=106, coords=[106, 3], dataset_id=86, binclass=1, fnum=158),\n",
       " Data(x=[135, 4], edge_index=[2, 620], edge_attr=[620, 2], y=[135, 1], edge_weight=[620], num_nodes=135, coords=[135, 3], dataset_id=25, binclass=1, fnum=229),\n",
       " Data(x=[134, 4], edge_index=[2, 588], edge_attr=[588, 2], y=[134, 1], edge_weight=[588], num_nodes=134, coords=[134, 3], dataset_id=147, binclass=1, fnum=161),\n",
       " Data(x=[145, 4], edge_index=[2, 568], edge_attr=[568, 2], y=[145, 1], edge_weight=[568], num_nodes=145, coords=[145, 3], dataset_id=41, binclass=0, fnum=1946),\n",
       " Data(x=[148, 4], edge_index=[2, 608], edge_attr=[608, 2], y=[148, 1], edge_weight=[608], num_nodes=148, coords=[148, 3], dataset_id=387, binclass=1, fnum=147),\n",
       " Data(x=[173, 4], edge_index=[2, 622], edge_attr=[622, 2], y=[173, 1], edge_weight=[622], num_nodes=173, coords=[173, 3], dataset_id=17, binclass=0, fnum=1722),\n",
       " Data(x=[145, 4], edge_index=[2, 582], edge_attr=[582, 2], y=[145, 1], edge_weight=[582], num_nodes=145, coords=[145, 3], dataset_id=273, binclass=1, fnum=78),\n",
       " Data(x=[146, 4], edge_index=[2, 572], edge_attr=[572, 2], y=[146, 1], edge_weight=[572], num_nodes=146, coords=[146, 3], dataset_id=7, binclass=1, fnum=90),\n",
       " Data(x=[130, 4], edge_index=[2, 520], edge_attr=[520, 2], y=[130, 1], edge_weight=[520], num_nodes=130, coords=[130, 3], dataset_id=24, binclass=1, fnum=222),\n",
       " Data(x=[156, 4], edge_index=[2, 644], edge_attr=[644, 2], y=[156, 1], edge_weight=[644], num_nodes=156, coords=[156, 3], dataset_id=254, binclass=1, fnum=116),\n",
       " Data(x=[130, 4], edge_index=[2, 540], edge_attr=[540, 2], y=[130, 1], edge_weight=[540], num_nodes=130, coords=[130, 3], dataset_id=278, binclass=1, fnum=41),\n",
       " Data(x=[136, 4], edge_index=[2, 514], edge_attr=[514, 2], y=[136, 1], edge_weight=[514], num_nodes=136, coords=[136, 3], dataset_id=7, binclass=0, fnum=1922),\n",
       " Data(x=[93, 4], edge_index=[2, 430], edge_attr=[430, 2], y=[93, 1], edge_weight=[430], num_nodes=93, coords=[93, 3], dataset_id=359, binclass=1, fnum=66),\n",
       " Data(x=[122, 4], edge_index=[2, 508], edge_attr=[508, 2], y=[122, 1], edge_weight=[508], num_nodes=122, coords=[122, 3], dataset_id=98, binclass=1, fnum=7),\n",
       " Data(x=[138, 4], edge_index=[2, 568], edge_attr=[568, 2], y=[138, 1], edge_weight=[568], num_nodes=138, coords=[138, 3], dataset_id=341, binclass=1, fnum=245),\n",
       " Data(x=[142, 4], edge_index=[2, 560], edge_attr=[560, 2], y=[142, 1], edge_weight=[560], num_nodes=142, coords=[142, 3], dataset_id=20, binclass=0, fnum=1449),\n",
       " Data(x=[136, 4], edge_index=[2, 554], edge_attr=[554, 2], y=[136, 1], edge_weight=[554], num_nodes=136, coords=[136, 3], dataset_id=135, binclass=1, fnum=180),\n",
       " Data(x=[148, 4], edge_index=[2, 622], edge_attr=[622, 2], y=[148, 1], edge_weight=[622], num_nodes=148, coords=[148, 3], dataset_id=165, binclass=1, fnum=248),\n",
       " Data(x=[158, 4], edge_index=[2, 580], edge_attr=[580, 2], y=[158, 1], edge_weight=[580], num_nodes=158, coords=[158, 3], dataset_id=21, binclass=0, fnum=874),\n",
       " Data(x=[137, 4], edge_index=[2, 474], edge_attr=[474, 2], y=[137, 1], edge_weight=[474], num_nodes=137, coords=[137, 3], dataset_id=28, binclass=0, fnum=44),\n",
       " Data(x=[145, 4], edge_index=[2, 494], edge_attr=[494, 2], y=[145, 1], edge_weight=[494], num_nodes=145, coords=[145, 3], dataset_id=39, binclass=0, fnum=554),\n",
       " Data(x=[166, 4], edge_index=[2, 706], edge_attr=[706, 2], y=[166, 1], edge_weight=[706], num_nodes=166, coords=[166, 3], dataset_id=345, binclass=1, fnum=25),\n",
       " Data(x=[137, 4], edge_index=[2, 582], edge_attr=[582, 2], y=[137, 1], edge_weight=[582], num_nodes=137, coords=[137, 3], dataset_id=49, binclass=1, fnum=63),\n",
       " Data(x=[127, 4], edge_index=[2, 530], edge_attr=[530, 2], y=[127, 1], edge_weight=[530], num_nodes=127, coords=[127, 3], dataset_id=81, binclass=1, fnum=187),\n",
       " Data(x=[151, 4], edge_index=[2, 670], edge_attr=[670, 2], y=[151, 1], edge_weight=[670], num_nodes=151, coords=[151, 3], dataset_id=8, binclass=1, fnum=119),\n",
       " Data(x=[157, 4], edge_index=[2, 624], edge_attr=[624, 2], y=[157, 1], edge_weight=[624], num_nodes=157, coords=[157, 3], dataset_id=314, binclass=1, fnum=202),\n",
       " Data(x=[144, 4], edge_index=[2, 600], edge_attr=[600, 2], y=[144, 1], edge_weight=[600], num_nodes=144, coords=[144, 3], dataset_id=20, binclass=0, fnum=132),\n",
       " Data(x=[151, 4], edge_index=[2, 516], edge_attr=[516, 2], y=[151, 1], edge_weight=[516], num_nodes=151, coords=[151, 3], dataset_id=34, binclass=0, fnum=297),\n",
       " Data(x=[136, 4], edge_index=[2, 606], edge_attr=[606, 2], y=[136, 1], edge_weight=[606], num_nodes=136, coords=[136, 3], dataset_id=192, binclass=1, fnum=227),\n",
       " Data(x=[150, 4], edge_index=[2, 608], edge_attr=[608, 2], y=[150, 1], edge_weight=[608], num_nodes=150, coords=[150, 3], dataset_id=48, binclass=1, fnum=221),\n",
       " Data(x=[153, 4], edge_index=[2, 548], edge_attr=[548, 2], y=[153, 1], edge_weight=[548], num_nodes=153, coords=[153, 3], dataset_id=47, binclass=0, fnum=1403),\n",
       " Data(x=[147, 4], edge_index=[2, 536], edge_attr=[536, 2], y=[147, 1], edge_weight=[536], num_nodes=147, coords=[147, 3], dataset_id=15, binclass=0, fnum=1927),\n",
       " Data(x=[153, 4], edge_index=[2, 574], edge_attr=[574, 2], y=[153, 1], edge_weight=[574], num_nodes=153, coords=[153, 3], dataset_id=18, binclass=0, fnum=232),\n",
       " Data(x=[149, 4], edge_index=[2, 594], edge_attr=[594, 2], y=[149, 1], edge_weight=[594], num_nodes=149, coords=[149, 3], dataset_id=44, binclass=0, fnum=266),\n",
       " Data(x=[119, 4], edge_index=[2, 510], edge_attr=[510, 2], y=[119, 1], edge_weight=[510], num_nodes=119, coords=[119, 3], dataset_id=38, binclass=0, fnum=368),\n",
       " Data(x=[174, 4], edge_index=[2, 668], edge_attr=[668, 2], y=[174, 1], edge_weight=[668], num_nodes=174, coords=[174, 3], dataset_id=48, binclass=0, fnum=1712),\n",
       " Data(x=[146, 4], edge_index=[2, 610], edge_attr=[610, 2], y=[146, 1], edge_weight=[610], num_nodes=146, coords=[146, 3], dataset_id=32, binclass=0, fnum=1362),\n",
       " Data(x=[117, 4], edge_index=[2, 516], edge_attr=[516, 2], y=[117, 1], edge_weight=[516], num_nodes=117, coords=[117, 3], dataset_id=360, binclass=1, fnum=239),\n",
       " Data(x=[123, 4], edge_index=[2, 464], edge_attr=[464, 2], y=[123, 1], edge_weight=[464], num_nodes=123, coords=[123, 3], dataset_id=388, binclass=1, fnum=158),\n",
       " Data(x=[148, 4], edge_index=[2, 544], edge_attr=[544, 2], y=[148, 1], edge_weight=[544], num_nodes=148, coords=[148, 3], dataset_id=47, binclass=0, fnum=773),\n",
       " Data(x=[165, 4], edge_index=[2, 660], edge_attr=[660, 2], y=[165, 1], edge_weight=[660], num_nodes=165, coords=[165, 3], dataset_id=15, binclass=0, fnum=155),\n",
       " Data(x=[125, 4], edge_index=[2, 480], edge_attr=[480, 2], y=[125, 1], edge_weight=[480], num_nodes=125, coords=[125, 3], dataset_id=385, binclass=1, fnum=174),\n",
       " Data(x=[139, 4], edge_index=[2, 628], edge_attr=[628, 2], y=[139, 1], edge_weight=[628], num_nodes=139, coords=[139, 3], dataset_id=126, binclass=1, fnum=103),\n",
       " Data(x=[140, 4], edge_index=[2, 520], edge_attr=[520, 2], y=[140, 1], edge_weight=[520], num_nodes=140, coords=[140, 3], dataset_id=7, binclass=0, fnum=600),\n",
       " Data(x=[125, 4], edge_index=[2, 496], edge_attr=[496, 2], y=[125, 1], edge_weight=[496], num_nodes=125, coords=[125, 3], dataset_id=59, binclass=1, fnum=202),\n",
       " Data(x=[121, 4], edge_index=[2, 460], edge_attr=[460, 2], y=[121, 1], edge_weight=[460], num_nodes=121, coords=[121, 3], dataset_id=211, binclass=1, fnum=201),\n",
       " Data(x=[177, 4], edge_index=[2, 664], edge_attr=[664, 2], y=[177, 1], edge_weight=[664], num_nodes=177, coords=[177, 3], dataset_id=49, binclass=0, fnum=180),\n",
       " Data(x=[153, 4], edge_index=[2, 560], edge_attr=[560, 2], y=[153, 1], edge_weight=[560], num_nodes=153, coords=[153, 3], dataset_id=33, binclass=0, fnum=1642),\n",
       " Data(x=[125, 4], edge_index=[2, 494], edge_attr=[494, 2], y=[125, 1], edge_weight=[494], num_nodes=125, coords=[125, 3], dataset_id=291, binclass=1, fnum=221),\n",
       " Data(x=[140, 4], edge_index=[2, 486], edge_attr=[486, 2], y=[140, 1], edge_weight=[486], num_nodes=140, coords=[140, 3], dataset_id=23, binclass=0, fnum=1533),\n",
       " Data(x=[121, 4], edge_index=[2, 528], edge_attr=[528, 2], y=[121, 1], edge_weight=[528], num_nodes=121, coords=[121, 3], dataset_id=165, binclass=1, fnum=151),\n",
       " Data(x=[164, 4], edge_index=[2, 606], edge_attr=[606, 2], y=[164, 1], edge_weight=[606], num_nodes=164, coords=[164, 3], dataset_id=32, binclass=0, fnum=1085),\n",
       " Data(x=[153, 4], edge_index=[2, 546], edge_attr=[546, 2], y=[153, 1], edge_weight=[546], num_nodes=153, coords=[153, 3], dataset_id=9, binclass=0, fnum=278),\n",
       " Data(x=[144, 4], edge_index=[2, 536], edge_attr=[536, 2], y=[144, 1], edge_weight=[536], num_nodes=144, coords=[144, 3], dataset_id=22, binclass=0, fnum=878),\n",
       " Data(x=[159, 4], edge_index=[2, 564], edge_attr=[564, 2], y=[159, 1], edge_weight=[564], num_nodes=159, coords=[159, 3], dataset_id=7, binclass=0, fnum=1718),\n",
       " Data(x=[149, 4], edge_index=[2, 582], edge_attr=[582, 2], y=[149, 1], edge_weight=[582], num_nodes=149, coords=[149, 3], dataset_id=134, binclass=1, fnum=250),\n",
       " Data(x=[137, 4], edge_index=[2, 532], edge_attr=[532, 2], y=[137, 1], edge_weight=[532], num_nodes=137, coords=[137, 3], dataset_id=107, binclass=1, fnum=7),\n",
       " Data(x=[133, 4], edge_index=[2, 494], edge_attr=[494, 2], y=[133, 1], edge_weight=[494], num_nodes=133, coords=[133, 3], dataset_id=180, binclass=1, fnum=248),\n",
       " Data(x=[151, 4], edge_index=[2, 590], edge_attr=[590, 2], y=[151, 1], edge_weight=[590], num_nodes=151, coords=[151, 3], dataset_id=107, binclass=1, fnum=196),\n",
       " Data(x=[131, 4], edge_index=[2, 570], edge_attr=[570, 2], y=[131, 1], edge_weight=[570], num_nodes=131, coords=[131, 3], dataset_id=5, binclass=1, fnum=68),\n",
       " Data(x=[148, 4], edge_index=[2, 578], edge_attr=[578, 2], y=[148, 1], edge_weight=[578], num_nodes=148, coords=[148, 3], dataset_id=173, binclass=1, fnum=231),\n",
       " Data(x=[130, 4], edge_index=[2, 512], edge_attr=[512, 2], y=[130, 1], edge_weight=[512], num_nodes=130, coords=[130, 3], dataset_id=317, binclass=1, fnum=173),\n",
       " Data(x=[149, 4], edge_index=[2, 582], edge_attr=[582, 2], y=[149, 1], edge_weight=[582], num_nodes=149, coords=[149, 3], dataset_id=267, binclass=1, fnum=232),\n",
       " Data(x=[158, 4], edge_index=[2, 750], edge_attr=[750, 2], y=[158, 1], edge_weight=[750], num_nodes=158, coords=[158, 3], dataset_id=277, binclass=1, fnum=98),\n",
       " Data(x=[138, 4], edge_index=[2, 678], edge_attr=[678, 2], y=[138, 1], edge_weight=[678], num_nodes=138, coords=[138, 3], dataset_id=242, binclass=1, fnum=150),\n",
       " Data(x=[149, 4], edge_index=[2, 604], edge_attr=[604, 2], y=[149, 1], edge_weight=[604], num_nodes=149, coords=[149, 3], dataset_id=231, binclass=1, fnum=106),\n",
       " Data(x=[127, 4], edge_index=[2, 508], edge_attr=[508, 2], y=[127, 1], edge_weight=[508], num_nodes=127, coords=[127, 3], dataset_id=129, binclass=1, fnum=241),\n",
       " Data(x=[156, 4], edge_index=[2, 540], edge_attr=[540, 2], y=[156, 1], edge_weight=[540], num_nodes=156, coords=[156, 3], dataset_id=2, binclass=0, fnum=125),\n",
       " Data(x=[143, 4], edge_index=[2, 594], edge_attr=[594, 2], y=[143, 1], edge_weight=[594], num_nodes=143, coords=[143, 3], dataset_id=11, binclass=0, fnum=157),\n",
       " Data(x=[123, 4], edge_index=[2, 460], edge_attr=[460, 2], y=[123, 1], edge_weight=[460], num_nodes=123, coords=[123, 3], dataset_id=268, binclass=1, fnum=44),\n",
       " Data(x=[124, 4], edge_index=[2, 608], edge_attr=[608, 2], y=[124, 1], edge_weight=[608], num_nodes=124, coords=[124, 3], dataset_id=217, binclass=1, fnum=124),\n",
       " Data(x=[153, 4], edge_index=[2, 574], edge_attr=[574, 2], y=[153, 1], edge_weight=[574], num_nodes=153, coords=[153, 3], dataset_id=40, binclass=0, fnum=307),\n",
       " Data(x=[141, 4], edge_index=[2, 612], edge_attr=[612, 2], y=[141, 1], edge_weight=[612], num_nodes=141, coords=[141, 3], dataset_id=38, binclass=0, fnum=1439),\n",
       " Data(x=[141, 4], edge_index=[2, 610], edge_attr=[610, 2], y=[141, 1], edge_weight=[610], num_nodes=141, coords=[141, 3], dataset_id=215, binclass=1, fnum=32),\n",
       " Data(x=[153, 4], edge_index=[2, 544], edge_attr=[544, 2], y=[153, 1], edge_weight=[544], num_nodes=153, coords=[153, 3], dataset_id=32, binclass=0, fnum=12),\n",
       " Data(x=[146, 4], edge_index=[2, 548], edge_attr=[548, 2], y=[146, 1], edge_weight=[548], num_nodes=146, coords=[146, 3], dataset_id=16, binclass=0, fnum=1056),\n",
       " Data(x=[116, 4], edge_index=[2, 502], edge_attr=[502, 2], y=[116, 1], edge_weight=[502], num_nodes=116, coords=[116, 3], dataset_id=7, binclass=0, fnum=315),\n",
       " Data(x=[126, 4], edge_index=[2, 544], edge_attr=[544, 2], y=[126, 1], edge_weight=[544], num_nodes=126, coords=[126, 3], dataset_id=312, binclass=1, fnum=216),\n",
       " Data(x=[142, 4], edge_index=[2, 494], edge_attr=[494, 2], y=[142, 1], edge_weight=[494], num_nodes=142, coords=[142, 3], dataset_id=23, binclass=0, fnum=112),\n",
       " Data(x=[134, 4], edge_index=[2, 578], edge_attr=[578, 2], y=[134, 1], edge_weight=[578], num_nodes=134, coords=[134, 3], dataset_id=93, binclass=1, fnum=154),\n",
       " Data(x=[133, 4], edge_index=[2, 534], edge_attr=[534, 2], y=[133, 1], edge_weight=[534], num_nodes=133, coords=[133, 3], dataset_id=261, binclass=1, fnum=231),\n",
       " Data(x=[147, 4], edge_index=[2, 660], edge_attr=[660, 2], y=[147, 1], edge_weight=[660], num_nodes=147, coords=[147, 3], dataset_id=399, binclass=1, fnum=150),\n",
       " Data(x=[168, 4], edge_index=[2, 610], edge_attr=[610, 2], y=[168, 1], edge_weight=[610], num_nodes=168, coords=[168, 3], dataset_id=42, binclass=0, fnum=1733),\n",
       " Data(x=[149, 4], edge_index=[2, 566], edge_attr=[566, 2], y=[149, 1], edge_weight=[566], num_nodes=149, coords=[149, 3], dataset_id=26, binclass=0, fnum=717),\n",
       " Data(x=[118, 4], edge_index=[2, 516], edge_attr=[516, 2], y=[118, 1], edge_weight=[516], num_nodes=118, coords=[118, 3], dataset_id=15, binclass=0, fnum=859),\n",
       " Data(x=[100, 4], edge_index=[2, 520], edge_attr=[520, 2], y=[100, 1], edge_weight=[520], num_nodes=100, coords=[100, 3], dataset_id=179, binclass=1, fnum=250),\n",
       " Data(x=[144, 4], edge_index=[2, 704], edge_attr=[704, 2], y=[144, 1], edge_weight=[704], num_nodes=144, coords=[144, 3], dataset_id=342, binclass=1, fnum=100),\n",
       " Data(x=[148, 4], edge_index=[2, 650], edge_attr=[650, 2], y=[148, 1], edge_weight=[650], num_nodes=148, coords=[148, 3], dataset_id=372, binclass=1, fnum=84),\n",
       " Data(x=[170, 4], edge_index=[2, 588], edge_attr=[588, 2], y=[170, 1], edge_weight=[588], num_nodes=170, coords=[170, 3], dataset_id=49, binclass=0, fnum=903),\n",
       " Data(x=[186, 4], edge_index=[2, 734], edge_attr=[734, 2], y=[186, 1], edge_weight=[734], num_nodes=186, coords=[186, 3], dataset_id=17, binclass=0, fnum=1301),\n",
       " Data(x=[145, 4], edge_index=[2, 612], edge_attr=[612, 2], y=[145, 1], edge_weight=[612], num_nodes=145, coords=[145, 3], dataset_id=249, binclass=1, fnum=184),\n",
       " Data(x=[158, 4], edge_index=[2, 630], edge_attr=[630, 2], y=[158, 1], edge_weight=[630], num_nodes=158, coords=[158, 3], dataset_id=43, binclass=0, fnum=426),\n",
       " Data(x=[142, 4], edge_index=[2, 482], edge_attr=[482, 2], y=[142, 1], edge_weight=[482], num_nodes=142, coords=[142, 3], dataset_id=32, binclass=0, fnum=33),\n",
       " Data(x=[123, 4], edge_index=[2, 570], edge_attr=[570, 2], y=[123, 1], edge_weight=[570], num_nodes=123, coords=[123, 3], dataset_id=170, binclass=1, fnum=238),\n",
       " Data(x=[143, 4], edge_index=[2, 588], edge_attr=[588, 2], y=[143, 1], edge_weight=[588], num_nodes=143, coords=[143, 3], dataset_id=20, binclass=0, fnum=1070),\n",
       " Data(x=[153, 4], edge_index=[2, 578], edge_attr=[578, 2], y=[153, 1], edge_weight=[578], num_nodes=153, coords=[153, 3], dataset_id=53, binclass=0, fnum=1643),\n",
       " Data(x=[120, 4], edge_index=[2, 556], edge_attr=[556, 2], y=[120, 1], edge_weight=[556], num_nodes=120, coords=[120, 3], dataset_id=341, binclass=1, fnum=26),\n",
       " Data(x=[132, 4], edge_index=[2, 516], edge_attr=[516, 2], y=[132, 1], edge_weight=[516], num_nodes=132, coords=[132, 3], dataset_id=314, binclass=1, fnum=198),\n",
       " Data(x=[155, 4], edge_index=[2, 634], edge_attr=[634, 2], y=[155, 1], edge_weight=[634], num_nodes=155, coords=[155, 3], dataset_id=269, binclass=1, fnum=236),\n",
       " Data(x=[162, 4], edge_index=[2, 584], edge_attr=[584, 2], y=[162, 1], edge_weight=[584], num_nodes=162, coords=[162, 3], dataset_id=26, binclass=0, fnum=1050),\n",
       " Data(x=[93, 4], edge_index=[2, 426], edge_attr=[426, 2], y=[93, 1], edge_weight=[426], num_nodes=93, coords=[93, 3], dataset_id=77, binclass=1, fnum=133),\n",
       " Data(x=[143, 4], edge_index=[2, 644], edge_attr=[644, 2], y=[143, 1], edge_weight=[644], num_nodes=143, coords=[143, 3], dataset_id=152, binclass=1, fnum=234),\n",
       " Data(x=[102, 4], edge_index=[2, 558], edge_attr=[558, 2], y=[102, 1], edge_weight=[558], num_nodes=102, coords=[102, 3], dataset_id=195, binclass=1, fnum=45),\n",
       " Data(x=[131, 4], edge_index=[2, 542], edge_attr=[542, 2], y=[131, 1], edge_weight=[542], num_nodes=131, coords=[131, 3], dataset_id=11, binclass=0, fnum=1032),\n",
       " Data(x=[142, 4], edge_index=[2, 532], edge_attr=[532, 2], y=[142, 1], edge_weight=[532], num_nodes=142, coords=[142, 3], dataset_id=248, binclass=1, fnum=57),\n",
       " Data(x=[138, 4], edge_index=[2, 558], edge_attr=[558, 2], y=[138, 1], edge_weight=[558], num_nodes=138, coords=[138, 3], dataset_id=40, binclass=0, fnum=1594),\n",
       " Data(x=[135, 4], edge_index=[2, 544], edge_attr=[544, 2], y=[135, 1], edge_weight=[544], num_nodes=135, coords=[135, 3], dataset_id=31, binclass=0, fnum=1616),\n",
       " Data(x=[158, 4], edge_index=[2, 588], edge_attr=[588, 2], y=[158, 1], edge_weight=[588], num_nodes=158, coords=[158, 3], dataset_id=123, binclass=1, fnum=114),\n",
       " Data(x=[152, 4], edge_index=[2, 608], edge_attr=[608, 2], y=[152, 1], edge_weight=[608], num_nodes=152, coords=[152, 3], dataset_id=36, binclass=0, fnum=1494),\n",
       " Data(x=[180, 4], edge_index=[2, 682], edge_attr=[682, 2], y=[180, 1], edge_weight=[682], num_nodes=180, coords=[180, 3], dataset_id=34, binclass=0, fnum=1243),\n",
       " Data(x=[145, 4], edge_index=[2, 672], edge_attr=[672, 2], y=[145, 1], edge_weight=[672], num_nodes=145, coords=[145, 3], dataset_id=45, binclass=0, fnum=1799),\n",
       " Data(x=[174, 4], edge_index=[2, 672], edge_attr=[672, 2], y=[174, 1], edge_weight=[672], num_nodes=174, coords=[174, 3], dataset_id=48, binclass=1, fnum=230),\n",
       " Data(x=[160, 4], edge_index=[2, 592], edge_attr=[592, 2], y=[160, 1], edge_weight=[592], num_nodes=160, coords=[160, 3], dataset_id=17, binclass=0, fnum=620),\n",
       " Data(x=[137, 4], edge_index=[2, 570], edge_attr=[570, 2], y=[137, 1], edge_weight=[570], num_nodes=137, coords=[137, 3], dataset_id=16, binclass=0, fnum=41),\n",
       " Data(x=[121, 4], edge_index=[2, 514], edge_attr=[514, 2], y=[121, 1], edge_weight=[514], num_nodes=121, coords=[121, 3], dataset_id=13, binclass=0, fnum=317),\n",
       " Data(x=[149, 4], edge_index=[2, 512], edge_attr=[512, 2], y=[149, 1], edge_weight=[512], num_nodes=149, coords=[149, 3], dataset_id=13, binclass=0, fnum=855),\n",
       " Data(x=[150, 4], edge_index=[2, 550], edge_attr=[550, 2], y=[150, 1], edge_weight=[550], num_nodes=150, coords=[150, 3], dataset_id=39, binclass=0, fnum=754),\n",
       " Data(x=[154, 4], edge_index=[2, 606], edge_attr=[606, 2], y=[154, 1], edge_weight=[606], num_nodes=154, coords=[154, 3], dataset_id=412, binclass=1, fnum=248),\n",
       " Data(x=[124, 4], edge_index=[2, 516], edge_attr=[516, 2], y=[124, 1], edge_weight=[516], num_nodes=124, coords=[124, 3], dataset_id=262, binclass=1, fnum=107),\n",
       " Data(x=[153, 4], edge_index=[2, 596], edge_attr=[596, 2], y=[153, 1], edge_weight=[596], num_nodes=153, coords=[153, 3], dataset_id=27, binclass=0, fnum=685),\n",
       " Data(x=[119, 4], edge_index=[2, 490], edge_attr=[490, 2], y=[119, 1], edge_weight=[490], num_nodes=119, coords=[119, 3], dataset_id=116, binclass=1, fnum=143),\n",
       " Data(x=[144, 4], edge_index=[2, 612], edge_attr=[612, 2], y=[144, 1], edge_weight=[612], num_nodes=144, coords=[144, 3], dataset_id=201, binclass=1, fnum=224),\n",
       " Data(x=[149, 4], edge_index=[2, 594], edge_attr=[594, 2], y=[149, 1], edge_weight=[594], num_nodes=149, coords=[149, 3], dataset_id=0, binclass=0, fnum=127),\n",
       " Data(x=[166, 4], edge_index=[2, 730], edge_attr=[730, 2], y=[166, 1], edge_weight=[730], num_nodes=166, coords=[166, 3], dataset_id=2, binclass=0, fnum=683),\n",
       " Data(x=[149, 4], edge_index=[2, 638], edge_attr=[638, 2], y=[149, 1], edge_weight=[638], num_nodes=149, coords=[149, 3], dataset_id=51, binclass=0, fnum=1260),\n",
       " Data(x=[178, 4], edge_index=[2, 668], edge_attr=[668, 2], y=[178, 1], edge_weight=[668], num_nodes=178, coords=[178, 3], dataset_id=37, binclass=0, fnum=619),\n",
       " Data(x=[123, 4], edge_index=[2, 472], edge_attr=[472, 2], y=[123, 1], edge_weight=[472], num_nodes=123, coords=[123, 3], dataset_id=38, binclass=0, fnum=550),\n",
       " Data(x=[176, 4], edge_index=[2, 692], edge_attr=[692, 2], y=[176, 1], edge_weight=[692], num_nodes=176, coords=[176, 3], dataset_id=23, binclass=0, fnum=205),\n",
       " Data(x=[158, 4], edge_index=[2, 536], edge_attr=[536, 2], y=[158, 1], edge_weight=[536], num_nodes=158, coords=[158, 3], dataset_id=41, binclass=0, fnum=885),\n",
       " Data(x=[115, 4], edge_index=[2, 536], edge_attr=[536, 2], y=[115, 1], edge_weight=[536], num_nodes=115, coords=[115, 3], dataset_id=374, binclass=1, fnum=55),\n",
       " Data(x=[124, 4], edge_index=[2, 512], edge_attr=[512, 2], y=[124, 1], edge_weight=[512], num_nodes=124, coords=[124, 3], dataset_id=129, binclass=1, fnum=57),\n",
       " Data(x=[144, 4], edge_index=[2, 616], edge_attr=[616, 2], y=[144, 1], edge_weight=[616], num_nodes=144, coords=[144, 3], dataset_id=64, binclass=1, fnum=95),\n",
       " Data(x=[137, 4], edge_index=[2, 562], edge_attr=[562, 2], y=[137, 1], edge_weight=[562], num_nodes=137, coords=[137, 3], dataset_id=201, binclass=1, fnum=155),\n",
       " Data(x=[125, 4], edge_index=[2, 558], edge_attr=[558, 2], y=[125, 1], edge_weight=[558], num_nodes=125, coords=[125, 3], dataset_id=380, binclass=1, fnum=241),\n",
       " Data(x=[152, 4], edge_index=[2, 510], edge_attr=[510, 2], y=[152, 1], edge_weight=[510], num_nodes=152, coords=[152, 3], dataset_id=44, binclass=0, fnum=644),\n",
       " Data(x=[140, 4], edge_index=[2, 568], edge_attr=[568, 2], y=[140, 1], edge_weight=[568], num_nodes=140, coords=[140, 3], dataset_id=314, binclass=1, fnum=63),\n",
       " Data(x=[151, 4], edge_index=[2, 544], edge_attr=[544, 2], y=[151, 1], edge_weight=[544], num_nodes=151, coords=[151, 3], dataset_id=42, binclass=0, fnum=747),\n",
       " Data(x=[141, 4], edge_index=[2, 482], edge_attr=[482, 2], y=[141, 1], edge_weight=[482], num_nodes=141, coords=[141, 3], dataset_id=24, binclass=0, fnum=1893),\n",
       " Data(x=[143, 4], edge_index=[2, 716], edge_attr=[716, 2], y=[143, 1], edge_weight=[716], num_nodes=143, coords=[143, 3], dataset_id=141, binclass=1, fnum=225),\n",
       " Data(x=[138, 4], edge_index=[2, 584], edge_attr=[584, 2], y=[138, 1], edge_weight=[584], num_nodes=138, coords=[138, 3], dataset_id=344, binclass=1, fnum=49),\n",
       " Data(x=[108, 4], edge_index=[2, 510], edge_attr=[510, 2], y=[108, 1], edge_weight=[510], num_nodes=108, coords=[108, 3], dataset_id=177, binclass=1, fnum=162),\n",
       " Data(x=[147, 4], edge_index=[2, 598], edge_attr=[598, 2], y=[147, 1], edge_weight=[598], num_nodes=147, coords=[147, 3], dataset_id=247, binclass=1, fnum=245),\n",
       " Data(x=[136, 4], edge_index=[2, 562], edge_attr=[562, 2], y=[136, 1], edge_weight=[562], num_nodes=136, coords=[136, 3], dataset_id=281, binclass=1, fnum=49),\n",
       " Data(x=[160, 4], edge_index=[2, 770], edge_attr=[770, 2], y=[160, 1], edge_weight=[770], num_nodes=160, coords=[160, 3], dataset_id=27, binclass=0, fnum=1405),\n",
       " Data(x=[153, 4], edge_index=[2, 538], edge_attr=[538, 2], y=[153, 1], edge_weight=[538], num_nodes=153, coords=[153, 3], dataset_id=12, binclass=0, fnum=758),\n",
       " Data(x=[129, 4], edge_index=[2, 634], edge_attr=[634, 2], y=[129, 1], edge_weight=[634], num_nodes=129, coords=[129, 3], dataset_id=82, binclass=1, fnum=211),\n",
       " Data(x=[129, 4], edge_index=[2, 474], edge_attr=[474, 2], y=[129, 1], edge_weight=[474], num_nodes=129, coords=[129, 3], dataset_id=184, binclass=1, fnum=14),\n",
       " Data(x=[121, 4], edge_index=[2, 478], edge_attr=[478, 2], y=[121, 1], edge_weight=[478], num_nodes=121, coords=[121, 3], dataset_id=215, binclass=1, fnum=218),\n",
       " Data(x=[127, 4], edge_index=[2, 520], edge_attr=[520, 2], y=[127, 1], edge_weight=[520], num_nodes=127, coords=[127, 3], dataset_id=119, binclass=1, fnum=158),\n",
       " Data(x=[146, 4], edge_index=[2, 540], edge_attr=[540, 2], y=[146, 1], edge_weight=[540], num_nodes=146, coords=[146, 3], dataset_id=50, binclass=1, fnum=245),\n",
       " Data(x=[152, 4], edge_index=[2, 580], edge_attr=[580, 2], y=[152, 1], edge_weight=[580], num_nodes=152, coords=[152, 3], dataset_id=298, binclass=1, fnum=73),\n",
       " Data(x=[146, 4], edge_index=[2, 572], edge_attr=[572, 2], y=[146, 1], edge_weight=[572], num_nodes=146, coords=[146, 3], dataset_id=12, binclass=0, fnum=384),\n",
       " Data(x=[166, 4], edge_index=[2, 614], edge_attr=[614, 2], y=[166, 1], edge_weight=[614], num_nodes=166, coords=[166, 3], dataset_id=7, binclass=0, fnum=577),\n",
       " Data(x=[136, 4], edge_index=[2, 522], edge_attr=[522, 2], y=[136, 1], edge_weight=[522], num_nodes=136, coords=[136, 3], dataset_id=42, binclass=0, fnum=628),\n",
       " Data(x=[155, 4], edge_index=[2, 578], edge_attr=[578, 2], y=[155, 1], edge_weight=[578], num_nodes=155, coords=[155, 3], dataset_id=14, binclass=0, fnum=286),\n",
       " Data(x=[128, 4], edge_index=[2, 556], edge_attr=[556, 2], y=[128, 1], edge_weight=[556], num_nodes=128, coords=[128, 3], dataset_id=101, binclass=1, fnum=93),\n",
       " Data(x=[172, 4], edge_index=[2, 614], edge_attr=[614, 2], y=[172, 1], edge_weight=[614], num_nodes=172, coords=[172, 3], dataset_id=10, binclass=0, fnum=1588),\n",
       " Data(x=[144, 4], edge_index=[2, 580], edge_attr=[580, 2], y=[144, 1], edge_weight=[580], num_nodes=144, coords=[144, 3], dataset_id=339, binclass=1, fnum=226),\n",
       " Data(x=[129, 4], edge_index=[2, 532], edge_attr=[532, 2], y=[129, 1], edge_weight=[532], num_nodes=129, coords=[129, 3], dataset_id=200, binclass=1, fnum=146),\n",
       " Data(x=[149, 4], edge_index=[2, 660], edge_attr=[660, 2], y=[149, 1], edge_weight=[660], num_nodes=149, coords=[149, 3], dataset_id=115, binclass=1, fnum=48),\n",
       " Data(x=[140, 4], edge_index=[2, 686], edge_attr=[686, 2], y=[140, 1], edge_weight=[686], num_nodes=140, coords=[140, 3], dataset_id=220, binclass=1, fnum=153),\n",
       " Data(x=[181, 4], edge_index=[2, 722], edge_attr=[722, 2], y=[181, 1], edge_weight=[722], num_nodes=181, coords=[181, 3], dataset_id=13, binclass=0, fnum=1617),\n",
       " Data(x=[166, 4], edge_index=[2, 704], edge_attr=[704, 2], y=[166, 1], edge_weight=[704], num_nodes=166, coords=[166, 3], dataset_id=362, binclass=1, fnum=158),\n",
       " Data(x=[130, 4], edge_index=[2, 524], edge_attr=[524, 2], y=[130, 1], edge_weight=[524], num_nodes=130, coords=[130, 3], dataset_id=45, binclass=0, fnum=1724),\n",
       " Data(x=[145, 4], edge_index=[2, 538], edge_attr=[538, 2], y=[145, 1], edge_weight=[538], num_nodes=145, coords=[145, 3], dataset_id=44, binclass=0, fnum=587),\n",
       " Data(x=[142, 4], edge_index=[2, 502], edge_attr=[502, 2], y=[142, 1], edge_weight=[502], num_nodes=142, coords=[142, 3], dataset_id=17, binclass=0, fnum=371),\n",
       " Data(x=[176, 4], edge_index=[2, 712], edge_attr=[712, 2], y=[176, 1], edge_weight=[712], num_nodes=176, coords=[176, 3], dataset_id=12, binclass=0, fnum=672),\n",
       " Data(x=[154, 4], edge_index=[2, 604], edge_attr=[604, 2], y=[154, 1], edge_weight=[604], num_nodes=154, coords=[154, 3], dataset_id=18, binclass=0, fnum=971),\n",
       " Data(x=[149, 4], edge_index=[2, 584], edge_attr=[584, 2], y=[149, 1], edge_weight=[584], num_nodes=149, coords=[149, 3], dataset_id=323, binclass=1, fnum=36),\n",
       " Data(x=[138, 4], edge_index=[2, 516], edge_attr=[516, 2], y=[138, 1], edge_weight=[516], num_nodes=138, coords=[138, 3], dataset_id=12, binclass=0, fnum=1050),\n",
       " Data(x=[119, 4], edge_index=[2, 474], edge_attr=[474, 2], y=[119, 1], edge_weight=[474], num_nodes=119, coords=[119, 3], dataset_id=179, binclass=1, fnum=162),\n",
       " Data(x=[132, 4], edge_index=[2, 512], edge_attr=[512, 2], y=[132, 1], edge_weight=[512], num_nodes=132, coords=[132, 3], dataset_id=30, binclass=1, fnum=149),\n",
       " Data(x=[120, 4], edge_index=[2, 548], edge_attr=[548, 2], y=[120, 1], edge_weight=[548], num_nodes=120, coords=[120, 3], dataset_id=120, binclass=1, fnum=83),\n",
       " Data(x=[143, 4], edge_index=[2, 586], edge_attr=[586, 2], y=[143, 1], edge_weight=[586], num_nodes=143, coords=[143, 3], dataset_id=96, binclass=1, fnum=135),\n",
       " Data(x=[153, 4], edge_index=[2, 648], edge_attr=[648, 2], y=[153, 1], edge_weight=[648], num_nodes=153, coords=[153, 3], dataset_id=8, binclass=0, fnum=513),\n",
       " Data(x=[124, 4], edge_index=[2, 426], edge_attr=[426, 2], y=[124, 1], edge_weight=[426], num_nodes=124, coords=[124, 3], dataset_id=147, binclass=1, fnum=166),\n",
       " Data(x=[149, 4], edge_index=[2, 642], edge_attr=[642, 2], y=[149, 1], edge_weight=[642], num_nodes=149, coords=[149, 3], dataset_id=246, binclass=1, fnum=196),\n",
       " Data(x=[110, 4], edge_index=[2, 420], edge_attr=[420, 2], y=[110, 1], edge_weight=[420], num_nodes=110, coords=[110, 3], dataset_id=407, binclass=1, fnum=157),\n",
       " Data(x=[146, 4], edge_index=[2, 602], edge_attr=[602, 2], y=[146, 1], edge_weight=[602], num_nodes=146, coords=[146, 3], dataset_id=76, binclass=1, fnum=232),\n",
       " Data(x=[167, 4], edge_index=[2, 678], edge_attr=[678, 2], y=[167, 1], edge_weight=[678], num_nodes=167, coords=[167, 3], dataset_id=33, binclass=0, fnum=548),\n",
       " Data(x=[160, 4], edge_index=[2, 612], edge_attr=[612, 2], y=[160, 1], edge_weight=[612], num_nodes=160, coords=[160, 3], dataset_id=2, binclass=0, fnum=1452),\n",
       " Data(x=[121, 4], edge_index=[2, 564], edge_attr=[564, 2], y=[121, 1], edge_weight=[564], num_nodes=121, coords=[121, 3], dataset_id=332, binclass=1, fnum=120),\n",
       " Data(x=[159, 4], edge_index=[2, 588], edge_attr=[588, 2], y=[159, 1], edge_weight=[588], num_nodes=159, coords=[159, 3], dataset_id=7, binclass=0, fnum=371),\n",
       " Data(x=[161, 4], edge_index=[2, 598], edge_attr=[598, 2], y=[161, 1], edge_weight=[598], num_nodes=161, coords=[161, 3], dataset_id=18, binclass=0, fnum=765),\n",
       " Data(x=[132, 4], edge_index=[2, 546], edge_attr=[546, 2], y=[132, 1], edge_weight=[546], num_nodes=132, coords=[132, 3], dataset_id=33, binclass=0, fnum=351),\n",
       " Data(x=[171, 4], edge_index=[2, 646], edge_attr=[646, 2], y=[171, 1], edge_weight=[646], num_nodes=171, coords=[171, 3], dataset_id=34, binclass=0, fnum=962),\n",
       " Data(x=[167, 4], edge_index=[2, 614], edge_attr=[614, 2], y=[167, 1], edge_weight=[614], num_nodes=167, coords=[167, 3], dataset_id=38, binclass=0, fnum=373),\n",
       " Data(x=[166, 4], edge_index=[2, 572], edge_attr=[572, 2], y=[166, 1], edge_weight=[572], num_nodes=166, coords=[166, 3], dataset_id=54, binclass=0, fnum=1345),\n",
       " Data(x=[117, 4], edge_index=[2, 548], edge_attr=[548, 2], y=[117, 1], edge_weight=[548], num_nodes=117, coords=[117, 3], dataset_id=62, binclass=1, fnum=240),\n",
       " Data(x=[159, 4], edge_index=[2, 622], edge_attr=[622, 2], y=[159, 1], edge_weight=[622], num_nodes=159, coords=[159, 3], dataset_id=52, binclass=0, fnum=1507),\n",
       " Data(x=[139, 4], edge_index=[2, 668], edge_attr=[668, 2], y=[139, 1], edge_weight=[668], num_nodes=139, coords=[139, 3], dataset_id=219, binclass=1, fnum=132),\n",
       " Data(x=[167, 4], edge_index=[2, 640], edge_attr=[640, 2], y=[167, 1], edge_weight=[640], num_nodes=167, coords=[167, 3], dataset_id=38, binclass=0, fnum=1571),\n",
       " Data(x=[146, 4], edge_index=[2, 530], edge_attr=[530, 2], y=[146, 1], edge_weight=[530], num_nodes=146, coords=[146, 3], dataset_id=3, binclass=0, fnum=1338),\n",
       " Data(x=[145, 4], edge_index=[2, 610], edge_attr=[610, 2], y=[145, 1], edge_weight=[610], num_nodes=145, coords=[145, 3], dataset_id=13, binclass=0, fnum=1928),\n",
       " Data(x=[163, 4], edge_index=[2, 648], edge_attr=[648, 2], y=[163, 1], edge_weight=[648], num_nodes=163, coords=[163, 3], dataset_id=108, binclass=1, fnum=139),\n",
       " Data(x=[148, 4], edge_index=[2, 560], edge_attr=[560, 2], y=[148, 1], edge_weight=[560], num_nodes=148, coords=[148, 3], dataset_id=43, binclass=0, fnum=1098),\n",
       " Data(x=[131, 4], edge_index=[2, 518], edge_attr=[518, 2], y=[131, 1], edge_weight=[518], num_nodes=131, coords=[131, 3], dataset_id=25, binclass=0, fnum=1760),\n",
       " Data(x=[135, 4], edge_index=[2, 516], edge_attr=[516, 2], y=[135, 1], edge_weight=[516], num_nodes=135, coords=[135, 3], dataset_id=6, binclass=0, fnum=1712),\n",
       " Data(x=[129, 4], edge_index=[2, 536], edge_attr=[536, 2], y=[129, 1], edge_weight=[536], num_nodes=129, coords=[129, 3], dataset_id=38, binclass=1, fnum=57),\n",
       " Data(x=[135, 4], edge_index=[2, 544], edge_attr=[544, 2], y=[135, 1], edge_weight=[544], num_nodes=135, coords=[135, 3], dataset_id=85, binclass=1, fnum=211),\n",
       " Data(x=[135, 4], edge_index=[2, 616], edge_attr=[616, 2], y=[135, 1], edge_weight=[616], num_nodes=135, coords=[135, 3], dataset_id=234, binclass=1, fnum=230),\n",
       " Data(x=[146, 4], edge_index=[2, 506], edge_attr=[506, 2], y=[146, 1], edge_weight=[506], num_nodes=146, coords=[146, 3], dataset_id=27, binclass=0, fnum=777),\n",
       " Data(x=[147, 4], edge_index=[2, 574], edge_attr=[574, 2], y=[147, 1], edge_weight=[574], num_nodes=147, coords=[147, 3], dataset_id=15, binclass=0, fnum=1096),\n",
       " Data(x=[175, 4], edge_index=[2, 666], edge_attr=[666, 2], y=[175, 1], edge_weight=[666], num_nodes=175, coords=[175, 3], dataset_id=47, binclass=0, fnum=743),\n",
       " Data(x=[178, 4], edge_index=[2, 748], edge_attr=[748, 2], y=[178, 1], edge_weight=[748], num_nodes=178, coords=[178, 3], dataset_id=47, binclass=0, fnum=1001),\n",
       " Data(x=[160, 4], edge_index=[2, 656], edge_attr=[656, 2], y=[160, 1], edge_weight=[656], num_nodes=160, coords=[160, 3], dataset_id=31, binclass=0, fnum=931),\n",
       " Data(x=[149, 4], edge_index=[2, 550], edge_attr=[550, 2], y=[149, 1], edge_weight=[550], num_nodes=149, coords=[149, 3], dataset_id=359, binclass=1, fnum=53),\n",
       " Data(x=[131, 4], edge_index=[2, 620], edge_attr=[620, 2], y=[131, 1], edge_weight=[620], num_nodes=131, coords=[131, 3], dataset_id=357, binclass=1, fnum=250),\n",
       " Data(x=[145, 4], edge_index=[2, 562], edge_attr=[562, 2], y=[145, 1], edge_weight=[562], num_nodes=145, coords=[145, 3], dataset_id=36, binclass=0, fnum=1262),\n",
       " Data(x=[130, 4], edge_index=[2, 546], edge_attr=[546, 2], y=[130, 1], edge_weight=[546], num_nodes=130, coords=[130, 3], dataset_id=4, binclass=1, fnum=106),\n",
       " ...]"
      ]
     },
     "execution_count": 21,
     "metadata": {},
     "output_type": "execute_result"
    }
   ],
   "source": [
    "list(train_dataset)"
   ]
  },
  {
   "cell_type": "markdown",
   "metadata": {},
   "source": [
    "Escogemos un evento y vemos qué tiene:"
   ]
  },
  {
   "cell_type": "code",
   "execution_count": 23,
   "metadata": {},
   "outputs": [],
   "source": [
    "event = list(train_dataset)[0]"
   ]
  },
  {
   "cell_type": "markdown",
   "metadata": {},
   "source": [
    "Cada evento es un objeto `Data` con una serie de características guardadas (vectores/tensores) que te explico ahora:"
   ]
  },
  {
   "cell_type": "code",
   "execution_count": 25,
   "metadata": {},
   "outputs": [
    {
     "data": {
      "text/plain": [
       "Data(x=[161, 4], edge_index=[2, 586], edge_attr=[586, 2], y=[161, 1], edge_weight=[586], num_nodes=161, coords=[161, 3], dataset_id=21, binclass=0, fnum=1243)"
      ]
     },
     "execution_count": 25,
     "metadata": {},
     "output_type": "execute_result"
    }
   ],
   "source": [
    "event"
   ]
  },
  {
   "cell_type": "markdown",
   "metadata": {},
   "source": [
    "* `x`: son los nodos del grafo. El tensor tiene una forma (N, F), siendo N el número de nodos/voxeles y F el número de características que le damos a cada nodo. En este caso tenemos 161 nodos y 4 características (este 4 va a ser siempre igual, y que cuando hice los datos decidí ponerle esas 4 caracteríticas). Estas son:\n",
    "    * energía por voxel normalizada\n",
    "    * numero de hits por voxel normalizados\n",
    "    * energía por traza normalizada\n",
    "    * numero de hits por traza normalizados"
   ]
  },
  {
   "cell_type": "code",
   "execution_count": 27,
   "metadata": {},
   "outputs": [
    {
     "data": {
      "text/plain": [
       "tensor([[2.0682e-03, 5.7471e-03, 1.0000e+00, 1.0000e+00],\n",
       "        [2.5577e-03, 5.7471e-03, 1.0000e+00, 1.0000e+00],\n",
       "        [7.3826e-03, 5.7471e-03, 1.0000e+00, 1.0000e+00],\n",
       "        [2.9683e-03, 2.8736e-03, 1.0000e+00, 1.0000e+00],\n",
       "        [4.3364e-03, 5.7471e-03, 1.0000e+00, 1.0000e+00],\n",
       "        [2.3317e-03, 2.8736e-03, 1.0000e+00, 1.0000e+00],\n",
       "        [3.0218e-03, 2.8736e-03, 1.0000e+00, 1.0000e+00],\n",
       "        [2.7350e-03, 2.8736e-03, 1.0000e+00, 1.0000e+00],\n",
       "        [2.7119e-03, 5.7471e-03, 1.0000e+00, 1.0000e+00],\n",
       "        [4.3039e-03, 2.8736e-03, 1.0000e+00, 1.0000e+00],\n",
       "        [8.3309e-03, 5.7471e-03, 1.0000e+00, 1.0000e+00],\n",
       "        [6.5773e-03, 5.7471e-03, 1.0000e+00, 1.0000e+00],\n",
       "        [4.2111e-03, 5.7471e-03, 1.0000e+00, 1.0000e+00],\n",
       "        [3.0965e-03, 2.8736e-03, 1.0000e+00, 1.0000e+00],\n",
       "        [4.8257e-03, 5.7471e-03, 1.0000e+00, 1.0000e+00],\n",
       "        [4.0445e-03, 5.7471e-03, 1.0000e+00, 1.0000e+00],\n",
       "        [3.7380e-03, 2.8736e-03, 1.0000e+00, 1.0000e+00],\n",
       "        [5.6716e-03, 5.7471e-03, 1.0000e+00, 1.0000e+00],\n",
       "        [3.2038e-03, 2.8736e-03, 1.0000e+00, 1.0000e+00],\n",
       "        [8.1177e-03, 5.7471e-03, 1.0000e+00, 1.0000e+00],\n",
       "        [2.3253e-02, 4.5977e-02, 1.0000e+00, 1.0000e+00],\n",
       "        [4.8638e-03, 5.7471e-03, 1.0000e+00, 1.0000e+00],\n",
       "        [7.0954e-04, 2.8736e-03, 1.0000e+00, 1.0000e+00],\n",
       "        [4.2471e-03, 5.7471e-03, 1.0000e+00, 1.0000e+00],\n",
       "        [1.9170e-03, 2.8736e-03, 1.0000e+00, 1.0000e+00],\n",
       "        [2.8923e-03, 2.8736e-03, 1.0000e+00, 1.0000e+00],\n",
       "        [3.0098e-03, 2.8736e-03, 1.0000e+00, 1.0000e+00],\n",
       "        [2.3021e-03, 2.8736e-03, 1.0000e+00, 1.0000e+00],\n",
       "        [5.1220e-03, 5.7471e-03, 1.0000e+00, 1.0000e+00],\n",
       "        [3.5569e-03, 2.8736e-03, 1.0000e+00, 1.0000e+00],\n",
       "        [1.1560e-02, 8.6207e-03, 1.0000e+00, 1.0000e+00],\n",
       "        [1.2705e-02, 5.7471e-03, 1.0000e+00, 1.0000e+00],\n",
       "        [3.8051e-03, 2.8736e-03, 1.0000e+00, 1.0000e+00],\n",
       "        [5.1735e-03, 5.7471e-03, 1.0000e+00, 1.0000e+00],\n",
       "        [4.3443e-03, 5.7471e-03, 1.0000e+00, 1.0000e+00],\n",
       "        [5.3654e-03, 8.6207e-03, 1.0000e+00, 1.0000e+00],\n",
       "        [2.8306e-03, 2.8736e-03, 1.0000e+00, 1.0000e+00],\n",
       "        [2.0554e-03, 2.8736e-03, 1.0000e+00, 1.0000e+00],\n",
       "        [4.3403e-03, 5.7471e-03, 1.0000e+00, 1.0000e+00],\n",
       "        [2.5537e-03, 2.8736e-03, 1.0000e+00, 1.0000e+00],\n",
       "        [1.8842e-03, 2.8736e-03, 1.0000e+00, 1.0000e+00],\n",
       "        [5.3283e-03, 5.7471e-03, 1.0000e+00, 1.0000e+00],\n",
       "        [4.6876e-03, 5.7471e-03, 1.0000e+00, 1.0000e+00],\n",
       "        [1.6254e-02, 1.1494e-02, 1.0000e+00, 1.0000e+00],\n",
       "        [5.6325e-03, 5.7471e-03, 1.0000e+00, 1.0000e+00],\n",
       "        [5.8017e-03, 8.6207e-03, 1.0000e+00, 1.0000e+00],\n",
       "        [1.7355e-03, 2.8736e-03, 1.0000e+00, 1.0000e+00],\n",
       "        [4.4815e-03, 5.7471e-03, 1.0000e+00, 1.0000e+00],\n",
       "        [1.4326e-03, 2.8736e-03, 1.0000e+00, 1.0000e+00],\n",
       "        [4.5532e-03, 5.7471e-03, 1.0000e+00, 1.0000e+00],\n",
       "        [6.4293e-03, 2.8736e-03, 1.0000e+00, 1.0000e+00],\n",
       "        [7.6896e-02, 4.5977e-02, 1.0000e+00, 1.0000e+00],\n",
       "        [1.0883e-02, 8.6207e-03, 1.0000e+00, 1.0000e+00],\n",
       "        [2.6335e-03, 5.7471e-03, 1.0000e+00, 1.0000e+00],\n",
       "        [7.6646e-03, 5.7471e-03, 1.0000e+00, 1.0000e+00],\n",
       "        [4.5395e-03, 8.6207e-03, 1.0000e+00, 1.0000e+00],\n",
       "        [3.5410e-03, 2.8736e-03, 1.0000e+00, 1.0000e+00],\n",
       "        [3.9134e-03, 2.8736e-03, 1.0000e+00, 1.0000e+00],\n",
       "        [2.7333e-03, 2.8736e-03, 1.0000e+00, 1.0000e+00],\n",
       "        [1.1186e-02, 8.6207e-03, 1.0000e+00, 1.0000e+00],\n",
       "        [6.0138e-03, 5.7471e-03, 1.0000e+00, 1.0000e+00],\n",
       "        [2.5442e-02, 4.3103e-02, 1.0000e+00, 1.0000e+00],\n",
       "        [2.6667e-03, 5.7471e-03, 1.0000e+00, 1.0000e+00],\n",
       "        [9.8751e-03, 8.6207e-03, 1.0000e+00, 1.0000e+00],\n",
       "        [1.3854e-02, 8.6207e-03, 1.0000e+00, 1.0000e+00],\n",
       "        [1.2403e-02, 8.6207e-03, 1.0000e+00, 1.0000e+00],\n",
       "        [1.0041e-02, 8.6207e-03, 1.0000e+00, 1.0000e+00],\n",
       "        [8.8145e-03, 8.6207e-03, 1.0000e+00, 1.0000e+00],\n",
       "        [3.4586e-03, 2.8736e-03, 1.0000e+00, 1.0000e+00],\n",
       "        [1.3390e-02, 2.8736e-03, 1.0000e+00, 1.0000e+00],\n",
       "        [4.8722e-03, 5.7471e-03, 1.0000e+00, 1.0000e+00],\n",
       "        [6.4969e-03, 8.6207e-03, 1.0000e+00, 1.0000e+00],\n",
       "        [1.0482e-02, 8.6207e-03, 1.0000e+00, 1.0000e+00],\n",
       "        [2.2489e-03, 2.8736e-03, 1.0000e+00, 1.0000e+00],\n",
       "        [5.9702e-03, 8.6207e-03, 1.0000e+00, 1.0000e+00],\n",
       "        [1.6109e-02, 5.7471e-03, 1.0000e+00, 1.0000e+00],\n",
       "        [5.3590e-03, 5.7471e-03, 1.0000e+00, 1.0000e+00],\n",
       "        [2.1948e-03, 2.8736e-03, 1.0000e+00, 1.0000e+00],\n",
       "        [3.6065e-03, 2.8736e-03, 1.0000e+00, 1.0000e+00],\n",
       "        [9.0780e-03, 8.6207e-03, 1.0000e+00, 1.0000e+00],\n",
       "        [7.9914e-03, 5.7471e-03, 1.0000e+00, 1.0000e+00],\n",
       "        [2.6391e-03, 2.8736e-03, 1.0000e+00, 1.0000e+00],\n",
       "        [9.1097e-03, 5.7471e-03, 1.0000e+00, 1.0000e+00],\n",
       "        [3.9193e-03, 2.8736e-03, 1.0000e+00, 1.0000e+00],\n",
       "        [2.9142e-03, 2.8736e-03, 1.0000e+00, 1.0000e+00],\n",
       "        [9.3823e-03, 5.7471e-03, 1.0000e+00, 1.0000e+00],\n",
       "        [3.1137e-03, 2.8736e-03, 1.0000e+00, 1.0000e+00],\n",
       "        [4.7322e-03, 5.7471e-03, 1.0000e+00, 1.0000e+00],\n",
       "        [9.7885e-03, 8.6207e-03, 1.0000e+00, 1.0000e+00],\n",
       "        [2.1762e-03, 2.8736e-03, 1.0000e+00, 1.0000e+00],\n",
       "        [1.8270e-03, 2.8736e-03, 1.0000e+00, 1.0000e+00],\n",
       "        [4.0364e-03, 5.7471e-03, 1.0000e+00, 1.0000e+00],\n",
       "        [7.0885e-03, 5.7471e-03, 1.0000e+00, 1.0000e+00],\n",
       "        [4.5957e-03, 5.7471e-03, 1.0000e+00, 1.0000e+00],\n",
       "        [8.0528e-03, 8.6207e-03, 1.0000e+00, 1.0000e+00],\n",
       "        [7.5616e-03, 5.7471e-03, 1.0000e+00, 1.0000e+00],\n",
       "        [4.0114e-03, 5.7471e-03, 1.0000e+00, 1.0000e+00],\n",
       "        [1.0722e-03, 2.8736e-03, 1.0000e+00, 1.0000e+00],\n",
       "        [4.1331e-03, 5.7471e-03, 1.0000e+00, 1.0000e+00],\n",
       "        [3.8004e-03, 2.8736e-03, 1.0000e+00, 1.0000e+00],\n",
       "        [3.4990e-03, 5.7471e-03, 1.0000e+00, 1.0000e+00],\n",
       "        [3.6357e-03, 5.7471e-03, 1.0000e+00, 1.0000e+00],\n",
       "        [1.4799e-03, 2.8736e-03, 1.0000e+00, 1.0000e+00],\n",
       "        [1.8782e-02, 8.6207e-03, 1.0000e+00, 1.0000e+00],\n",
       "        [3.5524e-03, 2.8736e-03, 1.0000e+00, 1.0000e+00],\n",
       "        [7.1561e-03, 5.7471e-03, 1.0000e+00, 1.0000e+00],\n",
       "        [6.5675e-03, 5.7471e-03, 1.0000e+00, 1.0000e+00],\n",
       "        [2.1967e-03, 2.8736e-03, 1.0000e+00, 1.0000e+00],\n",
       "        [6.9451e-03, 8.6207e-03, 1.0000e+00, 1.0000e+00],\n",
       "        [1.5712e-03, 2.8736e-03, 1.0000e+00, 1.0000e+00],\n",
       "        [7.8571e-03, 5.7471e-03, 1.0000e+00, 1.0000e+00],\n",
       "        [3.6549e-03, 2.8736e-03, 1.0000e+00, 1.0000e+00],\n",
       "        [2.7455e-03, 5.7471e-03, 1.0000e+00, 1.0000e+00],\n",
       "        [3.6357e-03, 2.8736e-03, 1.0000e+00, 1.0000e+00],\n",
       "        [3.2908e-03, 5.7471e-03, 1.0000e+00, 1.0000e+00],\n",
       "        [9.6291e-03, 8.6207e-03, 1.0000e+00, 1.0000e+00],\n",
       "        [6.8036e-03, 2.8736e-03, 1.0000e+00, 1.0000e+00],\n",
       "        [4.4722e-03, 8.6207e-03, 1.0000e+00, 1.0000e+00],\n",
       "        [7.1821e-03, 5.7471e-03, 1.0000e+00, 1.0000e+00],\n",
       "        [5.1132e-03, 5.7471e-03, 1.0000e+00, 1.0000e+00],\n",
       "        [6.9784e-03, 8.6207e-03, 1.0000e+00, 1.0000e+00],\n",
       "        [5.8612e-03, 8.6207e-03, 1.0000e+00, 1.0000e+00],\n",
       "        [3.5155e-03, 2.8736e-03, 1.0000e+00, 1.0000e+00],\n",
       "        [3.2396e-03, 2.8736e-03, 1.0000e+00, 1.0000e+00],\n",
       "        [7.4331e-03, 5.7471e-03, 1.0000e+00, 1.0000e+00],\n",
       "        [3.6014e-03, 5.7471e-03, 1.0000e+00, 1.0000e+00],\n",
       "        [5.1294e-03, 5.7471e-03, 1.0000e+00, 1.0000e+00],\n",
       "        [5.7393e-03, 2.8736e-03, 1.0000e+00, 1.0000e+00],\n",
       "        [3.6010e-03, 5.7471e-03, 1.0000e+00, 1.0000e+00],\n",
       "        [8.7672e-03, 5.7471e-03, 1.0000e+00, 1.0000e+00],\n",
       "        [4.0638e-03, 2.8736e-03, 1.0000e+00, 1.0000e+00],\n",
       "        [3.0238e-03, 5.7471e-03, 1.0000e+00, 1.0000e+00],\n",
       "        [9.6282e-03, 5.7471e-03, 1.0000e+00, 1.0000e+00],\n",
       "        [2.1400e-03, 2.8736e-03, 1.0000e+00, 1.0000e+00],\n",
       "        [1.3743e-03, 2.8736e-03, 1.0000e+00, 1.0000e+00],\n",
       "        [6.0246e-03, 8.6207e-03, 1.0000e+00, 1.0000e+00],\n",
       "        [6.2322e-03, 5.7471e-03, 1.0000e+00, 1.0000e+00],\n",
       "        [8.3360e-03, 5.7471e-03, 1.0000e+00, 1.0000e+00],\n",
       "        [5.2487e-03, 5.7471e-03, 1.0000e+00, 1.0000e+00],\n",
       "        [3.4923e-03, 2.8736e-03, 1.0000e+00, 1.0000e+00],\n",
       "        [4.9457e-03, 5.7471e-03, 1.0000e+00, 1.0000e+00],\n",
       "        [2.8369e-03, 2.8736e-03, 1.0000e+00, 1.0000e+00],\n",
       "        [2.8806e-03, 2.8736e-03, 1.0000e+00, 1.0000e+00],\n",
       "        [2.0362e-03, 2.8736e-03, 1.0000e+00, 1.0000e+00],\n",
       "        [4.1005e-03, 5.7471e-03, 1.0000e+00, 1.0000e+00],\n",
       "        [2.1278e-03, 2.8736e-03, 1.0000e+00, 1.0000e+00],\n",
       "        [5.2634e-03, 5.7471e-03, 1.0000e+00, 1.0000e+00],\n",
       "        [4.5553e-03, 5.7471e-03, 1.0000e+00, 1.0000e+00],\n",
       "        [4.5713e-03, 5.7471e-03, 1.0000e+00, 1.0000e+00],\n",
       "        [5.2632e-03, 5.7471e-03, 1.0000e+00, 1.0000e+00],\n",
       "        [3.8453e-03, 5.7471e-03, 1.0000e+00, 1.0000e+00],\n",
       "        [5.2149e-03, 5.7471e-03, 1.0000e+00, 1.0000e+00],\n",
       "        [6.1347e-02, 5.7471e-02, 1.0000e+00, 1.0000e+00],\n",
       "        [4.9750e-03, 5.7471e-03, 1.0000e+00, 1.0000e+00],\n",
       "        [2.7865e-03, 5.7471e-03, 1.0000e+00, 1.0000e+00],\n",
       "        [2.8252e-03, 2.8736e-03, 1.0000e+00, 1.0000e+00],\n",
       "        [4.9415e-03, 5.7471e-03, 1.0000e+00, 1.0000e+00],\n",
       "        [4.5758e-03, 5.7471e-03, 1.0000e+00, 1.0000e+00],\n",
       "        [2.2369e-03, 2.8736e-03, 1.0000e+00, 1.0000e+00],\n",
       "        [2.1826e-03, 2.8736e-03, 1.0000e+00, 1.0000e+00],\n",
       "        [3.9152e-03, 5.7471e-03, 1.0000e+00, 1.0000e+00]])"
      ]
     },
     "execution_count": 27,
     "metadata": {},
     "output_type": "execute_result"
    }
   ],
   "source": [
    "event.x"
   ]
  },
  {
   "cell_type": "markdown",
   "metadata": {},
   "source": [
    "* `edge_index`: son las conexiones de los nodos. El tensor tiene forma (2, E), siendo E el número de conexiones que hay. El tensor simplemente contiene pares de índices que dicen qué nodos están conectados, por ejemplo el nodo 0 con el 1, el 0 con el 2..."
   ]
  },
  {
   "cell_type": "code",
   "execution_count": 28,
   "metadata": {},
   "outputs": [
    {
     "data": {
      "text/plain": [
       "tensor([[  0,   0,   0,  ..., 160, 160, 160],\n",
       "        [  1,   2,   3,  ..., 155, 156, 159]])"
      ]
     },
     "execution_count": 28,
     "metadata": {},
     "output_type": "execute_result"
    }
   ],
   "source": [
    "event.edge_index"
   ]
  },
  {
   "cell_type": "markdown",
   "metadata": {},
   "source": [
    "* `edge_attr`: son las características de las conexiones. El tensor tiene forma (E, G), siendo E el número de conexiones que hay y G el número de características que le asigno (en este caso decidí asignarle dos, así que G=2 siempre). Estas son:\n",
    "    * distancia entre nodos\n",
    "    * gradiente de energía, dado por la fórmula |E_i - E_j| / d_ij, siendo i, j dos nodos, E la energía y d la distancia"
   ]
  },
  {
   "cell_type": "code",
   "execution_count": 30,
   "metadata": {},
   "outputs": [
    {
     "data": {
      "text/plain": [
       "tensor([[1.0000e+00, 4.8947e-04],\n",
       "        [1.4142e+00, 3.7578e-03],\n",
       "        [1.0000e+00, 9.0007e-04],\n",
       "        ...,\n",
       "        [1.0000e+00, 1.0900e-03],\n",
       "        [1.4142e+00, 7.2572e-04],\n",
       "        [1.0000e+00, 1.7326e-03]])"
      ]
     },
     "execution_count": 30,
     "metadata": {},
     "output_type": "execute_result"
    }
   ],
   "source": [
    "event.edge_attr"
   ]
  },
  {
   "cell_type": "markdown",
   "metadata": {},
   "source": [
    "* `edge_weight`: son los pesos que le damos a las conexiones. El tensor tiene forma (E), así que a cada conexión se le asigna 1 peso. En este caso, los pesos son la inversa de la distancia (así cuanto más lejos estén dos nodos, más \"débil\" es esta conexión)"
   ]
  },
  {
   "cell_type": "code",
   "execution_count": 31,
   "metadata": {},
   "outputs": [
    {
     "data": {
      "text/plain": [
       "tensor([1.0000, 0.7071, 1.0000, 0.5774, 1.0000, 0.7071, 0.7071, 0.5774, 0.7071,\n",
       "        1.0000, 0.7071, 1.0000, 1.0000, 0.7071, 1.0000, 0.7071, 0.7071, 1.0000,\n",
       "        1.0000, 0.7071, 1.0000, 0.7071, 1.0000, 0.7071, 0.5774, 1.0000, 0.7071,\n",
       "        1.0000, 0.7071, 0.5774, 0.7071, 1.0000, 0.7071, 0.5774, 1.0000, 1.0000,\n",
       "        0.7071, 0.7071, 0.5774, 1.0000, 1.0000, 0.7071, 1.0000, 1.0000, 1.0000,\n",
       "        1.0000, 0.7071, 1.0000, 1.0000, 0.7071, 0.7071, 1.0000, 1.0000, 0.7071,\n",
       "        1.0000, 1.0000, 0.7071, 1.0000, 1.0000, 0.7071, 0.7071, 1.0000, 1.0000,\n",
       "        0.7071, 0.7071, 1.0000, 0.5774, 1.0000, 0.7071, 1.0000, 1.0000, 0.7071,\n",
       "        0.7071, 1.0000, 1.0000, 0.7071, 0.5774, 1.0000, 0.7071, 0.7071, 1.0000,\n",
       "        0.5774, 1.0000, 0.7071, 0.7071, 1.0000, 0.7071, 0.7071, 1.0000, 1.0000,\n",
       "        0.7071, 0.7071, 1.0000, 1.0000, 0.7071, 0.5774, 0.7071, 1.0000, 1.0000,\n",
       "        0.7071, 1.0000, 0.7071, 1.0000, 0.5774, 0.7071, 1.0000, 1.0000, 0.7071,\n",
       "        0.7071, 1.0000, 1.0000, 0.5774, 0.7071, 0.7071, 1.0000, 0.7071, 1.0000,\n",
       "        1.0000, 0.5774, 0.7071, 0.7071, 1.0000, 1.0000, 0.7071, 0.5774, 0.7071,\n",
       "        1.0000, 1.0000, 1.0000, 0.7071, 0.7071, 0.7071, 1.0000, 1.0000, 0.5774,\n",
       "        0.5774, 0.7071, 0.7071, 1.0000, 1.0000, 0.7071, 1.0000, 1.0000, 0.7071,\n",
       "        1.0000, 1.0000, 1.0000, 1.0000, 0.7071, 0.5774, 1.0000, 0.7071, 0.5774,\n",
       "        0.7071, 0.7071, 1.0000, 1.0000, 0.5774, 1.0000, 0.7071, 0.5774, 0.7071,\n",
       "        1.0000, 1.0000, 0.7071, 1.0000, 1.0000, 0.5774, 0.7071, 1.0000, 0.7071,\n",
       "        0.7071, 1.0000, 0.5774, 0.7071, 1.0000, 0.5774, 1.0000, 0.7071, 0.5774,\n",
       "        1.0000, 1.0000, 0.7071, 0.5774, 1.0000, 1.0000, 1.0000, 1.0000, 0.7071,\n",
       "        1.0000, 0.7071, 0.5774, 1.0000, 0.7071, 0.7071, 1.0000, 1.0000, 0.5774,\n",
       "        1.0000, 1.0000, 0.7071, 0.7071, 0.5774, 0.7071, 0.7071, 0.5774, 0.7071,\n",
       "        1.0000, 1.0000, 0.7071, 0.5774, 0.7071, 1.0000, 0.7071, 0.5774, 0.7071,\n",
       "        1.0000, 1.0000, 0.7071, 1.0000, 0.7071, 0.7071, 1.0000, 1.0000, 1.0000,\n",
       "        0.7071, 0.5774, 0.7071, 0.7071, 1.0000, 0.7071, 1.0000, 0.7071, 0.5774,\n",
       "        0.7071, 1.0000, 1.0000, 1.0000, 0.7071, 0.5774, 1.0000, 0.7071, 0.5774,\n",
       "        1.0000, 0.5774, 0.7071, 1.0000, 0.7071, 1.0000, 0.7071, 1.0000, 0.7071,\n",
       "        1.0000, 0.7071, 0.5774, 1.0000, 0.7071, 0.7071, 0.5774, 0.7071, 1.0000,\n",
       "        1.0000, 0.7071, 0.7071, 0.7071, 0.5774, 0.7071, 1.0000, 0.7071, 0.5774,\n",
       "        0.7071, 1.0000, 1.0000, 0.7071, 0.7071, 0.5774, 0.7071, 0.7071, 0.7071,\n",
       "        1.0000, 1.0000, 0.5774, 0.7071, 1.0000, 0.5774, 0.7071, 1.0000, 0.7071,\n",
       "        1.0000, 0.5774, 0.5774, 1.0000, 0.7071, 0.7071, 1.0000, 0.7071, 1.0000,\n",
       "        1.0000, 0.7071, 1.0000, 0.7071, 0.7071, 1.0000, 0.5774, 0.7071, 1.0000,\n",
       "        0.7071, 0.5774, 1.0000, 0.7071, 1.0000, 1.0000, 0.7071, 1.0000, 1.0000,\n",
       "        0.7071, 1.0000, 1.0000, 1.0000, 0.7071, 0.5774, 1.0000, 1.0000, 1.0000,\n",
       "        0.7071, 0.7071, 1.0000, 1.0000, 0.7071, 1.0000, 0.5774, 0.7071, 0.5774,\n",
       "        1.0000, 0.5774, 1.0000, 0.7071, 0.7071, 1.0000, 0.7071, 0.5774, 0.5774,\n",
       "        0.7071, 1.0000, 0.5774, 0.7071, 1.0000, 0.7071, 0.7071, 1.0000, 0.7071,\n",
       "        0.5774, 1.0000, 1.0000, 0.5774, 0.5774, 1.0000, 1.0000, 0.7071, 0.5774,\n",
       "        1.0000, 0.7071, 1.0000, 0.7071, 0.7071, 0.7071, 0.7071, 1.0000, 0.7071,\n",
       "        1.0000, 0.7071, 1.0000, 1.0000, 0.5774, 0.7071, 0.5774, 1.0000, 1.0000,\n",
       "        0.5774, 0.5774, 1.0000, 1.0000, 1.0000, 1.0000, 0.7071, 0.7071, 0.5774,\n",
       "        0.7071, 1.0000, 0.5774, 1.0000, 0.7071, 0.7071, 0.7071, 1.0000, 1.0000,\n",
       "        0.5774, 1.0000, 0.7071, 1.0000, 1.0000, 0.7071, 0.7071, 0.5774, 1.0000,\n",
       "        1.0000, 0.5774, 1.0000, 0.7071, 1.0000, 0.7071, 0.5774, 0.7071, 1.0000,\n",
       "        0.7071, 1.0000, 0.7071, 0.7071, 0.5774, 1.0000, 0.5774, 1.0000, 0.5774,\n",
       "        0.7071, 1.0000, 0.7071, 0.5774, 0.7071, 0.5774, 1.0000, 1.0000, 0.5774,\n",
       "        1.0000, 0.5774, 1.0000, 0.7071, 0.7071, 1.0000, 0.7071, 1.0000, 0.7071,\n",
       "        0.7071, 1.0000, 1.0000, 1.0000, 0.7071, 0.7071, 1.0000, 1.0000, 1.0000,\n",
       "        0.7071, 1.0000, 0.7071, 0.5774, 1.0000, 0.7071, 0.7071, 1.0000, 0.7071,\n",
       "        0.7071, 0.7071, 1.0000, 0.7071, 0.7071, 0.7071, 0.5774, 0.7071, 1.0000,\n",
       "        0.7071, 0.5774, 1.0000, 1.0000, 0.7071, 1.0000, 1.0000, 1.0000, 0.7071,\n",
       "        1.0000, 0.7071, 1.0000, 1.0000, 0.5774, 1.0000, 1.0000, 0.7071, 1.0000,\n",
       "        0.7071, 0.7071, 0.5774, 0.7071, 0.7071, 1.0000, 0.7071, 1.0000, 1.0000,\n",
       "        1.0000, 1.0000, 0.7071, 1.0000, 0.7071, 0.7071, 1.0000, 0.7071, 1.0000,\n",
       "        1.0000, 1.0000, 1.0000, 0.7071, 1.0000, 0.7071, 0.7071, 0.7071, 0.7071,\n",
       "        0.7071, 0.7071, 1.0000, 0.7071, 1.0000, 1.0000, 1.0000, 1.0000, 0.7071,\n",
       "        1.0000, 0.7071, 0.5774, 1.0000, 0.5774, 0.7071, 0.7071, 1.0000, 1.0000,\n",
       "        0.7071, 0.5774, 0.7071, 1.0000, 0.7071, 1.0000, 1.0000, 0.5774, 1.0000,\n",
       "        0.7071, 0.7071, 1.0000, 0.7071, 1.0000, 1.0000, 0.7071, 1.0000, 0.7071,\n",
       "        1.0000, 0.7071, 1.0000, 1.0000, 1.0000, 0.7071, 0.7071, 0.7071, 1.0000,\n",
       "        1.0000, 0.7071, 1.0000, 1.0000, 0.7071, 1.0000, 1.0000, 1.0000, 0.7071,\n",
       "        0.7071, 1.0000, 1.0000, 0.7071, 1.0000, 1.0000, 1.0000, 0.7071, 0.7071,\n",
       "        1.0000, 1.0000, 1.0000, 0.7071, 1.0000, 0.7071, 1.0000, 1.0000, 0.7071,\n",
       "        1.0000])"
      ]
     },
     "execution_count": 31,
     "metadata": {},
     "output_type": "execute_result"
    }
   ],
   "source": [
    "event.edge_weight"
   ]
  },
  {
   "cell_type": "markdown",
   "metadata": {},
   "source": [
    "* `y`: es la etiqueta de cada nodo, la segclass, y por tanto el tensor tiene forma (N, 1)"
   ]
  },
  {
   "cell_type": "code",
   "execution_count": 33,
   "metadata": {},
   "outputs": [
    {
     "data": {
      "text/plain": [
       "tensor([[1],\n",
       "        [1],\n",
       "        [1],\n",
       "        [1],\n",
       "        [1],\n",
       "        [1],\n",
       "        [1],\n",
       "        [1],\n",
       "        [1],\n",
       "        [1],\n",
       "        [1],\n",
       "        [1],\n",
       "        [1],\n",
       "        [1],\n",
       "        [1],\n",
       "        [1],\n",
       "        [1],\n",
       "        [1],\n",
       "        [1],\n",
       "        [1],\n",
       "        [0],\n",
       "        [1],\n",
       "        [1],\n",
       "        [1],\n",
       "        [1],\n",
       "        [1],\n",
       "        [1],\n",
       "        [1],\n",
       "        [1],\n",
       "        [1],\n",
       "        [1],\n",
       "        [1],\n",
       "        [1],\n",
       "        [1],\n",
       "        [1],\n",
       "        [1],\n",
       "        [1],\n",
       "        [1],\n",
       "        [1],\n",
       "        [1],\n",
       "        [1],\n",
       "        [1],\n",
       "        [2],\n",
       "        [2],\n",
       "        [1],\n",
       "        [1],\n",
       "        [1],\n",
       "        [1],\n",
       "        [2],\n",
       "        [2],\n",
       "        [2],\n",
       "        [2],\n",
       "        [2],\n",
       "        [2],\n",
       "        [2],\n",
       "        [2],\n",
       "        [2],\n",
       "        [2],\n",
       "        [1],\n",
       "        [1],\n",
       "        [1],\n",
       "        [0],\n",
       "        [2],\n",
       "        [2],\n",
       "        [2],\n",
       "        [2],\n",
       "        [2],\n",
       "        [2],\n",
       "        [1],\n",
       "        [1],\n",
       "        [1],\n",
       "        [1],\n",
       "        [2],\n",
       "        [2],\n",
       "        [2],\n",
       "        [2],\n",
       "        [1],\n",
       "        [1],\n",
       "        [1],\n",
       "        [1],\n",
       "        [1],\n",
       "        [1],\n",
       "        [1],\n",
       "        [1],\n",
       "        [1],\n",
       "        [1],\n",
       "        [1],\n",
       "        [1],\n",
       "        [1],\n",
       "        [1],\n",
       "        [1],\n",
       "        [1],\n",
       "        [1],\n",
       "        [1],\n",
       "        [1],\n",
       "        [1],\n",
       "        [1],\n",
       "        [1],\n",
       "        [1],\n",
       "        [1],\n",
       "        [1],\n",
       "        [1],\n",
       "        [1],\n",
       "        [1],\n",
       "        [1],\n",
       "        [1],\n",
       "        [1],\n",
       "        [1],\n",
       "        [1],\n",
       "        [1],\n",
       "        [1],\n",
       "        [1],\n",
       "        [1],\n",
       "        [1],\n",
       "        [1],\n",
       "        [1],\n",
       "        [1],\n",
       "        [1],\n",
       "        [1],\n",
       "        [1],\n",
       "        [1],\n",
       "        [1],\n",
       "        [1],\n",
       "        [1],\n",
       "        [1],\n",
       "        [1],\n",
       "        [1],\n",
       "        [1],\n",
       "        [1],\n",
       "        [1],\n",
       "        [1],\n",
       "        [1],\n",
       "        [1],\n",
       "        [1],\n",
       "        [1],\n",
       "        [1],\n",
       "        [1],\n",
       "        [1],\n",
       "        [1],\n",
       "        [1],\n",
       "        [1],\n",
       "        [1],\n",
       "        [1],\n",
       "        [1],\n",
       "        [1],\n",
       "        [1],\n",
       "        [1],\n",
       "        [1],\n",
       "        [1],\n",
       "        [1],\n",
       "        [1],\n",
       "        [1],\n",
       "        [0],\n",
       "        [1],\n",
       "        [1],\n",
       "        [1],\n",
       "        [1],\n",
       "        [1],\n",
       "        [1],\n",
       "        [1],\n",
       "        [1]], dtype=torch.int8)"
      ]
     },
     "execution_count": 33,
     "metadata": {},
     "output_type": "execute_result"
    }
   ],
   "source": [
    "event.y"
   ]
  },
  {
   "cell_type": "markdown",
   "metadata": {},
   "source": [
    "Otras características:\n",
    "\n",
    "* `num_nodes`: el numero de nodos\n",
    "* `coords`: las coordenadas de cada nodo, como los voxeles, que no se usan directamente en la red pero ayudan a saber cual es cada nodo\n",
    "* `binclass`: si el evento es señal o fondo\n",
    "* `dataset_id`: numero de evento\n",
    "* `fnum`: numero de fichero\n",
    "\n",
    "Estas dos últimas junto con `binclass` sirven para poder ir al fichero original y ver más información del evento si hiciera falta, por ejemplo en este caso:"
   ]
  },
  {
   "cell_type": "code",
   "execution_count": 42,
   "metadata": {},
   "outputs": [],
   "source": [
    "dt = '1eroi' if event.binclass == 0 else '0nubb'\n",
    "nfile = event.fnum\n",
    "\n",
    "label_file = lustre_path[0] + '/data/{p}/{dt}/label/prod/nexus_label_{nfile}_{dt}.h5'.format(p = p, dt = dt, nfile = nfile)"
   ]
  },
  {
   "cell_type": "code",
   "execution_count": 48,
   "metadata": {},
   "outputs": [],
   "source": [
    "dataset_id = event.dataset_id\n",
    "\n",
    "voxel_df = pd.read_hdf(label_file, 'DATASET/MCVoxels')\n",
    "voxel = voxel_df[voxel_df.dataset_id == dataset_id]"
   ]
  },
  {
   "cell_type": "markdown",
   "metadata": {},
   "source": [
    "Pudimos con esta información obtener el dataframe original (vemos que el número de nodos 161 coincide con el número de voxeles para este evento, lo cual tiene sentido)"
   ]
  },
  {
   "cell_type": "code",
   "execution_count": 49,
   "metadata": {},
   "outputs": [
    {
     "data": {
      "text/html": [
       "<div>\n",
       "<style scoped>\n",
       "    .dataframe tbody tr th:only-of-type {\n",
       "        vertical-align: middle;\n",
       "    }\n",
       "\n",
       "    .dataframe tbody tr th {\n",
       "        vertical-align: top;\n",
       "    }\n",
       "\n",
       "    .dataframe thead th {\n",
       "        text-align: right;\n",
       "    }\n",
       "</style>\n",
       "<table border=\"1\" class=\"dataframe\">\n",
       "  <thead>\n",
       "    <tr style=\"text-align: right;\">\n",
       "      <th></th>\n",
       "      <th>x</th>\n",
       "      <th>y</th>\n",
       "      <th>z</th>\n",
       "      <th>ener</th>\n",
       "      <th>ratio</th>\n",
       "      <th>segclass</th>\n",
       "      <th>nhits</th>\n",
       "      <th>binclass</th>\n",
       "      <th>dataset_id</th>\n",
       "      <th>elem_ener</th>\n",
       "      <th>elem</th>\n",
       "      <th>elem_count</th>\n",
       "      <th>cloud_ener</th>\n",
       "      <th>cloud</th>\n",
       "      <th>cloud_count</th>\n",
       "      <th>nblob</th>\n",
       "      <th>blob_success</th>\n",
       "    </tr>\n",
       "  </thead>\n",
       "  <tbody>\n",
       "    <tr>\n",
       "      <th>3193</th>\n",
       "      <td>62</td>\n",
       "      <td>164</td>\n",
       "      <td>308</td>\n",
       "      <td>0.005084</td>\n",
       "      <td>1.0</td>\n",
       "      <td>2</td>\n",
       "      <td>2</td>\n",
       "      <td>0</td>\n",
       "      <td>21</td>\n",
       "      <td>0.482080</td>\n",
       "      <td>2_1</td>\n",
       "      <td>2.0</td>\n",
       "      <td>2.458</td>\n",
       "      <td>c_0</td>\n",
       "      <td>1.0</td>\n",
       "      <td>1</td>\n",
       "      <td>True</td>\n",
       "    </tr>\n",
       "    <tr>\n",
       "      <th>3194</th>\n",
       "      <td>62</td>\n",
       "      <td>164</td>\n",
       "      <td>309</td>\n",
       "      <td>0.006287</td>\n",
       "      <td>1.0</td>\n",
       "      <td>2</td>\n",
       "      <td>2</td>\n",
       "      <td>0</td>\n",
       "      <td>21</td>\n",
       "      <td>0.482080</td>\n",
       "      <td>2_1</td>\n",
       "      <td>2.0</td>\n",
       "      <td>2.458</td>\n",
       "      <td>c_0</td>\n",
       "      <td>1.0</td>\n",
       "      <td>1</td>\n",
       "      <td>True</td>\n",
       "    </tr>\n",
       "    <tr>\n",
       "      <th>3195</th>\n",
       "      <td>62</td>\n",
       "      <td>165</td>\n",
       "      <td>307</td>\n",
       "      <td>0.018146</td>\n",
       "      <td>1.0</td>\n",
       "      <td>2</td>\n",
       "      <td>2</td>\n",
       "      <td>0</td>\n",
       "      <td>21</td>\n",
       "      <td>0.482080</td>\n",
       "      <td>2_1</td>\n",
       "      <td>2.0</td>\n",
       "      <td>2.458</td>\n",
       "      <td>c_0</td>\n",
       "      <td>1.0</td>\n",
       "      <td>1</td>\n",
       "      <td>True</td>\n",
       "    </tr>\n",
       "    <tr>\n",
       "      <th>3196</th>\n",
       "      <td>62</td>\n",
       "      <td>165</td>\n",
       "      <td>308</td>\n",
       "      <td>0.007296</td>\n",
       "      <td>1.0</td>\n",
       "      <td>2</td>\n",
       "      <td>1</td>\n",
       "      <td>0</td>\n",
       "      <td>21</td>\n",
       "      <td>0.482080</td>\n",
       "      <td>2_1</td>\n",
       "      <td>2.0</td>\n",
       "      <td>2.458</td>\n",
       "      <td>c_0</td>\n",
       "      <td>1.0</td>\n",
       "      <td>1</td>\n",
       "      <td>True</td>\n",
       "    </tr>\n",
       "    <tr>\n",
       "      <th>3197</th>\n",
       "      <td>62</td>\n",
       "      <td>166</td>\n",
       "      <td>306</td>\n",
       "      <td>0.010659</td>\n",
       "      <td>1.0</td>\n",
       "      <td>2</td>\n",
       "      <td>2</td>\n",
       "      <td>0</td>\n",
       "      <td>21</td>\n",
       "      <td>0.482080</td>\n",
       "      <td>2_1</td>\n",
       "      <td>2.0</td>\n",
       "      <td>2.458</td>\n",
       "      <td>c_0</td>\n",
       "      <td>1.0</td>\n",
       "      <td>1</td>\n",
       "      <td>True</td>\n",
       "    </tr>\n",
       "    <tr>\n",
       "      <th>...</th>\n",
       "      <td>...</td>\n",
       "      <td>...</td>\n",
       "      <td>...</td>\n",
       "      <td>...</td>\n",
       "      <td>...</td>\n",
       "      <td>...</td>\n",
       "      <td>...</td>\n",
       "      <td>...</td>\n",
       "      <td>...</td>\n",
       "      <td>...</td>\n",
       "      <td>...</td>\n",
       "      <td>...</td>\n",
       "      <td>...</td>\n",
       "      <td>...</td>\n",
       "      <td>...</td>\n",
       "      <td>...</td>\n",
       "      <td>...</td>\n",
       "    </tr>\n",
       "    <tr>\n",
       "      <th>3349</th>\n",
       "      <td>112</td>\n",
       "      <td>132</td>\n",
       "      <td>319</td>\n",
       "      <td>0.012146</td>\n",
       "      <td>1.0</td>\n",
       "      <td>2</td>\n",
       "      <td>2</td>\n",
       "      <td>0</td>\n",
       "      <td>21</td>\n",
       "      <td>1.125614</td>\n",
       "      <td>2_0</td>\n",
       "      <td>2.0</td>\n",
       "      <td>2.458</td>\n",
       "      <td>c_0</td>\n",
       "      <td>1.0</td>\n",
       "      <td>1</td>\n",
       "      <td>True</td>\n",
       "    </tr>\n",
       "    <tr>\n",
       "      <th>3350</th>\n",
       "      <td>112</td>\n",
       "      <td>133</td>\n",
       "      <td>319</td>\n",
       "      <td>0.011247</td>\n",
       "      <td>1.0</td>\n",
       "      <td>2</td>\n",
       "      <td>2</td>\n",
       "      <td>0</td>\n",
       "      <td>21</td>\n",
       "      <td>1.125614</td>\n",
       "      <td>2_0</td>\n",
       "      <td>2.0</td>\n",
       "      <td>2.458</td>\n",
       "      <td>c_0</td>\n",
       "      <td>1.0</td>\n",
       "      <td>1</td>\n",
       "      <td>True</td>\n",
       "    </tr>\n",
       "    <tr>\n",
       "      <th>3351</th>\n",
       "      <td>112</td>\n",
       "      <td>134</td>\n",
       "      <td>319</td>\n",
       "      <td>0.005498</td>\n",
       "      <td>1.0</td>\n",
       "      <td>2</td>\n",
       "      <td>1</td>\n",
       "      <td>0</td>\n",
       "      <td>21</td>\n",
       "      <td>1.125614</td>\n",
       "      <td>2_0</td>\n",
       "      <td>2.0</td>\n",
       "      <td>2.458</td>\n",
       "      <td>c_0</td>\n",
       "      <td>1.0</td>\n",
       "      <td>1</td>\n",
       "      <td>True</td>\n",
       "    </tr>\n",
       "    <tr>\n",
       "      <th>3352</th>\n",
       "      <td>113</td>\n",
       "      <td>130</td>\n",
       "      <td>319</td>\n",
       "      <td>0.005365</td>\n",
       "      <td>1.0</td>\n",
       "      <td>2</td>\n",
       "      <td>1</td>\n",
       "      <td>0</td>\n",
       "      <td>21</td>\n",
       "      <td>1.125614</td>\n",
       "      <td>2_0</td>\n",
       "      <td>2.0</td>\n",
       "      <td>2.458</td>\n",
       "      <td>c_0</td>\n",
       "      <td>1.0</td>\n",
       "      <td>1</td>\n",
       "      <td>True</td>\n",
       "    </tr>\n",
       "    <tr>\n",
       "      <th>3353</th>\n",
       "      <td>113</td>\n",
       "      <td>131</td>\n",
       "      <td>319</td>\n",
       "      <td>0.009624</td>\n",
       "      <td>1.0</td>\n",
       "      <td>2</td>\n",
       "      <td>2</td>\n",
       "      <td>0</td>\n",
       "      <td>21</td>\n",
       "      <td>1.125614</td>\n",
       "      <td>2_0</td>\n",
       "      <td>2.0</td>\n",
       "      <td>2.458</td>\n",
       "      <td>c_0</td>\n",
       "      <td>1.0</td>\n",
       "      <td>1</td>\n",
       "      <td>True</td>\n",
       "    </tr>\n",
       "  </tbody>\n",
       "</table>\n",
       "<p>161 rows × 17 columns</p>\n",
       "</div>"
      ],
      "text/plain": [
       "        x    y    z      ener  ratio  segclass  nhits  binclass  dataset_id  \\\n",
       "3193   62  164  308  0.005084    1.0         2      2         0          21   \n",
       "3194   62  164  309  0.006287    1.0         2      2         0          21   \n",
       "3195   62  165  307  0.018146    1.0         2      2         0          21   \n",
       "3196   62  165  308  0.007296    1.0         2      1         0          21   \n",
       "3197   62  166  306  0.010659    1.0         2      2         0          21   \n",
       "...   ...  ...  ...       ...    ...       ...    ...       ...         ...   \n",
       "3349  112  132  319  0.012146    1.0         2      2         0          21   \n",
       "3350  112  133  319  0.011247    1.0         2      2         0          21   \n",
       "3351  112  134  319  0.005498    1.0         2      1         0          21   \n",
       "3352  113  130  319  0.005365    1.0         2      1         0          21   \n",
       "3353  113  131  319  0.009624    1.0         2      2         0          21   \n",
       "\n",
       "      elem_ener elem  elem_count  cloud_ener cloud  cloud_count  nblob  \\\n",
       "3193   0.482080  2_1         2.0       2.458   c_0          1.0      1   \n",
       "3194   0.482080  2_1         2.0       2.458   c_0          1.0      1   \n",
       "3195   0.482080  2_1         2.0       2.458   c_0          1.0      1   \n",
       "3196   0.482080  2_1         2.0       2.458   c_0          1.0      1   \n",
       "3197   0.482080  2_1         2.0       2.458   c_0          1.0      1   \n",
       "...         ...  ...         ...         ...   ...          ...    ...   \n",
       "3349   1.125614  2_0         2.0       2.458   c_0          1.0      1   \n",
       "3350   1.125614  2_0         2.0       2.458   c_0          1.0      1   \n",
       "3351   1.125614  2_0         2.0       2.458   c_0          1.0      1   \n",
       "3352   1.125614  2_0         2.0       2.458   c_0          1.0      1   \n",
       "3353   1.125614  2_0         2.0       2.458   c_0          1.0      1   \n",
       "\n",
       "      blob_success  \n",
       "3193          True  \n",
       "3194          True  \n",
       "3195          True  \n",
       "3196          True  \n",
       "3197          True  \n",
       "...            ...  \n",
       "3349          True  \n",
       "3350          True  \n",
       "3351          True  \n",
       "3352          True  \n",
       "3353          True  \n",
       "\n",
       "[161 rows x 17 columns]"
      ]
     },
     "execution_count": 49,
     "metadata": {},
     "output_type": "execute_result"
    }
   ],
   "source": [
    "voxel"
   ]
  },
  {
   "cell_type": "markdown",
   "metadata": {},
   "source": [
    "## Neural network"
   ]
  },
  {
   "cell_type": "markdown",
   "metadata": {},
   "source": [
    "Vamos a ver ahora cómo se construye una red neuronal con Pytorch. Las redes neuronales se construyen utilizando clases. Una clase en python es como un objeto sobre el cual puedes ir añadiendo características, formas de actuar, etc... "
   ]
  },
  {
   "cell_type": "markdown",
   "metadata": {},
   "source": [
    "### Ejemplo de una clase"
   ]
  },
  {
   "cell_type": "markdown",
   "metadata": {},
   "source": [
    "Para que te hagas una idea, puedo crear una clase que sea un vector. En python para eso ya están los arrays, pero imagínate que no existiera el array con las características que tú quieres, pues te creas tu propia clase y defines cómo quiere que opere:"
   ]
  },
  {
   "cell_type": "code",
   "execution_count": 91,
   "metadata": {},
   "outputs": [],
   "source": [
    "class vector():\n",
    "    #lo primero que hay que hacer es definir el __init__. Todo lo que metas aquí va a suceder en cuanto crees tu clase, por decirlo así. Aquí puedes definir variables, y otras cosas.\n",
    "    # El primer argumento es self, y todo lo que definas y quieras usar en otras partes tiene que venir dado por self\n",
    "    # A mayores añador el argumento valores, que va a ser una lista con los valores que quiero para mi vector\n",
    "    def __init__(self, valores):\n",
    "        self.valores = valores\n",
    "\n",
    "    # ahora voy a crearle una característica, que es que me sume todos los elementos\n",
    "    def suma(self):\n",
    "        suma = 0\n",
    "        for val in self.valores:\n",
    "            suma += val\n",
    "        return suma\n",
    "    # y podemos añadir más, como que haga el cuadrado de cada valor\n",
    "    def cuadrado(self):\n",
    "        cuadrado = []\n",
    "        for val in self.valores:\n",
    "            cuadrado.append(val*val)\n",
    "        return cuadrado\n",
    "\n",
    "    # combinando estos dos podemos hacer la norma del vector!\n",
    "    # tenemos que coger la clase vector, meterle los valores y aplicar la función cuadrado; luego ese resultado se mete otra vez en la clase vector y se le aplica suma, y ya estaría\n",
    "    def norma(self):\n",
    "        cuadrado = vector(self.valores).cuadrado()\n",
    "        suma_cuad = vector(cuadrado).suma()\n",
    "        return np.sqrt(suma_cuad)\n",
    "    \n",
    "    #tambien por ejemplo normalizar\n",
    "    def normalizar(self):\n",
    "        norma = vector(self.valores).norma()\n",
    "        normaliz = []\n",
    "        for val in self.valores:\n",
    "            normaliz.append(val / norma)\n",
    "        return normaliz\n",
    "\n",
    "    # o sumar un valor a todos los elementos\n",
    "    def sumar_numero(self, numero):\n",
    "        nuevo_vector = []\n",
    "        for val in self.valores:\n",
    "            nuevo_vector.append(val + numero)\n",
    "        return nuevo_vector\n"
   ]
  },
  {
   "cell_type": "markdown",
   "metadata": {},
   "source": [
    "Mira como se usa, construyo mi vector metiéndole una lista de valores:"
   ]
  },
  {
   "cell_type": "code",
   "execution_count": 77,
   "metadata": {},
   "outputs": [],
   "source": [
    "valores = [2, 3, 4]\n",
    "\n",
    "mi_vector = vector(valores)"
   ]
  },
  {
   "cell_type": "markdown",
   "metadata": {},
   "source": [
    "La variable `mi_vector` ahora es un objeto que contiene los valores que yo le di, y va a actuar con ellos según yo definí en las funciones internas!"
   ]
  },
  {
   "cell_type": "code",
   "execution_count": 79,
   "metadata": {},
   "outputs": [
    {
     "data": {
      "text/plain": [
       "<__main__.vector at 0x151bbd42c0d0>"
      ]
     },
     "execution_count": 79,
     "metadata": {},
     "output_type": "execute_result"
    }
   ],
   "source": [
    "mi_vector"
   ]
  },
  {
   "cell_type": "markdown",
   "metadata": {},
   "source": [
    "Puedo acceder a sus valores gracias a lo que definí en el __ init __:"
   ]
  },
  {
   "cell_type": "code",
   "execution_count": 81,
   "metadata": {},
   "outputs": [
    {
     "data": {
      "text/plain": [
       "[2, 3, 4]"
      ]
     },
     "execution_count": 81,
     "metadata": {},
     "output_type": "execute_result"
    }
   ],
   "source": [
    "mi_vector.valores"
   ]
  },
  {
   "cell_type": "markdown",
   "metadata": {},
   "source": [
    "Puedo hacer su suma, cuadrado, norma, normalizar, sumar un numero:"
   ]
  },
  {
   "cell_type": "code",
   "execution_count": 82,
   "metadata": {},
   "outputs": [
    {
     "data": {
      "text/plain": [
       "9"
      ]
     },
     "execution_count": 82,
     "metadata": {},
     "output_type": "execute_result"
    }
   ],
   "source": [
    "mi_vector.suma()"
   ]
  },
  {
   "cell_type": "code",
   "execution_count": 83,
   "metadata": {},
   "outputs": [
    {
     "data": {
      "text/plain": [
       "[4, 9, 16]"
      ]
     },
     "execution_count": 83,
     "metadata": {},
     "output_type": "execute_result"
    }
   ],
   "source": [
    "mi_vector.cuadrado()"
   ]
  },
  {
   "cell_type": "code",
   "execution_count": 84,
   "metadata": {},
   "outputs": [
    {
     "data": {
      "text/plain": [
       "5.385164807134504"
      ]
     },
     "execution_count": 84,
     "metadata": {},
     "output_type": "execute_result"
    }
   ],
   "source": [
    "mi_vector.norma()"
   ]
  },
  {
   "cell_type": "code",
   "execution_count": 85,
   "metadata": {},
   "outputs": [
    {
     "data": {
      "text/plain": [
       "[0.3713906763541037, 0.5570860145311556, 0.7427813527082074]"
      ]
     },
     "execution_count": 85,
     "metadata": {},
     "output_type": "execute_result"
    }
   ],
   "source": [
    "mi_vector.normalizar()"
   ]
  },
  {
   "cell_type": "code",
   "execution_count": 90,
   "metadata": {},
   "outputs": [
    {
     "data": {
      "text/plain": [
       "[5, 6, 7]"
      ]
     },
     "execution_count": 90,
     "metadata": {},
     "output_type": "execute_result"
    }
   ],
   "source": [
    "mi_vector.sumar_numero(3)"
   ]
  },
  {
   "cell_type": "markdown",
   "metadata": {},
   "source": [
    "### Clase de red neuronal"
   ]
  },
  {
   "cell_type": "markdown",
   "metadata": {},
   "source": [
    "La clase de red neuronal no es muy complicada. Tiene la parte del init dónde vas a inicializar las operaciones que hace la red, y la parte de forward dónde le vas  a decir a tus datos cómo pasar por las operaciones, en qué orden.\n",
    "\n",
    "Las operaciones (también llamadas layers, como capas de cálculo de tu red) no las tienes que hacer tu, ya vienen en pytorch, tú lo que tienes que hacer es decidir qué caracteríticas quieres que tengan y el orden."
   ]
  },
  {
   "cell_type": "markdown",
   "metadata": {},
   "source": [
    "Para que veas, esta sería un ejemplo (sin nada dentro) de las líneas de código de una red"
   ]
  },
  {
   "cell_type": "code",
   "execution_count": 92,
   "metadata": {},
   "outputs": [],
   "source": [
    "class my_net(torch.nn.Module):\n",
    "    #primero el init, donde tendrás que añadir más argumentos si los necesitas\n",
    "    def __init__(self):\n",
    "        #esta línea déjala así, solo cambia my_net si cambias el nombre de tu clase\n",
    "        super(my_net, self).__init__()\n",
    "\n",
    "        #crea aquí tus operaciones\n",
    "\n",
    "    def forward(self, data):\n",
    "        #Extraenis los distintos datos de el objeto Data\n",
    "        x, edge_index, edge_weight, batch = data.x, data.edge_index, data.edge_weight, data.batch\n",
    "        #di aquí qué orden quieres hacer pasar los datos\n",
    "        \n",
    "        return x"
   ]
  },
  {
   "cell_type": "markdown",
   "metadata": {},
   "source": [
    "### Ejemplo de estructura"
   ]
  },
  {
   "cell_type": "markdown",
   "metadata": {},
   "source": [
    "Una estructura de clasificación (que nos dice si un evento es señal o fondo) podría ser esta:"
   ]
  },
  {
   "attachments": {
    "Captura de pantalla 2024-04-19 a las 13.31.12.png": {
     "image/png": "[encoded data removed]"
    }
   },
   "cell_type": "markdown",
   "metadata": {},
   "source": [
    "![Captura de pantalla 2024-04-19 a las 13.31.12.png](<attachment:Captura de pantalla 2024-04-19 a las 13.31.12.png>)"
   ]
  },
  {
   "cell_type": "markdown",
   "metadata": {},
   "source": [
    "Son una serie de convoluciones (hablamos si quieres de qué es esto y cómo funciona) que se hacen a todos los nodos de la red, con otras operaciones intercaladas para asegurar que la red sea estable (podemos tb hablar algo de esto en persona), y finalmente una global mean pool.\n",
    "\n",
    "Las convoluciones son operaciones en las que la información (las características que teníamos por cada nodo) viaja a través de las conexiones hacia los nodos vecinos. Además, en cada convolución, podemos aumentar el número de características. Qué son esas nuevas características? Eso no lo sabemos, es cosa de la red. Quizá una nueva característica es pues lo \"central\" que es un nodo, o lo \"importante\" que es dentro del grafo, u otras cosas. Es más fácil de entender con otros ejemplos, pero bueno, esto es el funcionamiento básico de muchos tipos de redes neuronales.\n",
    "\n",
    "La global mean pool simplemente nos reduce el evento de N nodos a sólo 1 \"nodo\", o más bien, a una representación \"evento a evento\". Esto tb lo podemos hablar para que entiendas."
   ]
  },
  {
   "cell_type": "markdown",
   "metadata": {},
   "source": [
    "### Operaciones en la red"
   ]
  },
  {
   "cell_type": "code",
   "execution_count": 93,
   "metadata": {},
   "outputs": [],
   "source": [
    "import torch.nn as nn\n",
    "import torch.nn.functional as F\n",
    "from torch_geometric.nn import GCNConv, global_mean_pool\n",
    "from torch_geometric.nn import BatchNorm"
   ]
  },
  {
   "cell_type": "markdown",
   "metadata": {},
   "source": [
    "#### Convolucion"
   ]
  },
  {
   "cell_type": "markdown",
   "metadata": {},
   "source": [
    "Podemos empezar viendo cómo es la convolución. En Pytorch geometric está documentado qué es lo que nos pide (https://pytorch-geometric.readthedocs.io/en/latest/generated/torch_geometric.nn.conv.GCNConv.html), veamos:"
   ]
  },
  {
   "cell_type": "markdown",
   "metadata": {},
   "source": [
    "Puedes ver que la tenemos que inicializar como mínimo con el número de características con las que entra y con las que sale:"
   ]
  },
  {
   "cell_type": "code",
   "execution_count": 96,
   "metadata": {},
   "outputs": [],
   "source": [
    "conv = GCNConv(4, 8)"
   ]
  },
  {
   "cell_type": "markdown",
   "metadata": {},
   "source": [
    "La variable `conv` es una convolución a la que le van a entrar 4 features (las 4 de cada nodo, recuerdas?) y van a salir 8 (son features que la propia red \"busca\", por así decirlo)"
   ]
  },
  {
   "cell_type": "markdown",
   "metadata": {},
   "source": [
    "Una vez está inicializada, nos dice que le podemos hacer pasar como input:\n",
    "* Node features: es nuestro `x`, con forma (N, F) (en la documentacion aparece que N es |V| y F es F_in, cosas de la notación) \n",
    "* Edge indices: nuestro `edge_index`, con forma (2, E)\n",
    "* Edge weights: nuestro `edge_weight`, con forma (E), y es opcional (si no se lo das, todas las conexiones valen lo mismo)"
   ]
  },
  {
   "cell_type": "code",
   "execution_count": 98,
   "metadata": {},
   "outputs": [],
   "source": [
    "x, edge_index, edge_weight = event.x, event.edge_index, event.edge_weight\n",
    "\n",
    "out = conv(x, edge_index, edge_weight)"
   ]
  },
  {
   "cell_type": "markdown",
   "metadata": {},
   "source": [
    "Y como salida obtenemos un nuevo `x`, con más features, en concreto 8, y el mismo número de nodos!"
   ]
  },
  {
   "cell_type": "code",
   "execution_count": 100,
   "metadata": {},
   "outputs": [
    {
     "data": {
      "text/plain": [
       "torch.Size([161, 8])"
      ]
     },
     "execution_count": 100,
     "metadata": {},
     "output_type": "execute_result"
    }
   ],
   "source": [
    "out.shape"
   ]
  },
  {
   "cell_type": "markdown",
   "metadata": {},
   "source": [
    "#### Pooling"
   ]
  },
  {
   "cell_type": "markdown",
   "metadata": {},
   "source": [
    "Pool aquí no es piscina, significa \"agrupar\". Esta operación va a agrupar todos los nodos en uno solo, que debería ser una representación del evento por completo, por así decirlo. Puedes ver en la documentación cómo es: https://pytorch-geometric.readthedocs.io/en/latest/generated/torch_geometric.nn.pool.global_mean_pool.html\n",
    "\n",
    "En este caso, la operación es sencilla y hace una media de cada feature de todos los nodos, por lo que si cogemos el output de la anterior convolución, con forma (N, 8), al pasarla por aquí tendremos un output de (1, 8):"
   ]
  },
  {
   "cell_type": "code",
   "execution_count": 106,
   "metadata": {},
   "outputs": [
    {
     "data": {
      "text/plain": [
       "tensor([[ 0.9943,  0.1951,  0.7175, -0.8057, -0.6449, -0.0701, -0.1197, -1.1734]],\n",
       "       grad_fn=<MeanBackward1>)"
      ]
     },
     "execution_count": 106,
     "metadata": {},
     "output_type": "execute_result"
    }
   ],
   "source": [
    "pooled_out = global_mean_pool(out, batch = None)\n",
    "pooled_out"
   ]
  },
  {
   "cell_type": "markdown",
   "metadata": {},
   "source": [
    "Lo de batch ahora mismo es None porque estamos con un solo evento, pero lo típico es pasar a la red grupos de eventos (batches), entonces hay un vector que se crea automáticamente que le dice a la red cuales son los nodos que van juntos y por tanto pertenecen a un mismo evento. Ya se verá más adelante cuando haga falta."
   ]
  },
  {
   "cell_type": "markdown",
   "metadata": {},
   "source": [
    "Efectivamente, nuestro evento de 161 nodos se reduce a 1 vector con 8 features; solo nos queda un último paso."
   ]
  },
  {
   "cell_type": "markdown",
   "metadata": {},
   "source": [
    "#### Linear"
   ]
  },
  {
   "cell_type": "markdown",
   "metadata": {},
   "source": [
    "Lo que queremos finalmente es que para cada evento nos diga si es señal o fondo. Hay dos formas equivalentes de hacerlo, y son muy parecidas. Yo me decanto siempre por la que te voy a enseñar, porque sirve más que para una clasificación binaria. Es decir, es extendible a N clases (en este ejemplo solo hay 2, pero podría haber más, podría ser que hubiera señal, fondo, y más cosas!)"
   ]
  },
  {
   "cell_type": "markdown",
   "metadata": {},
   "source": [
    "Por tanto, lo último que se hace es aplicar una transformación lineal al vector que representa nuestro evento (https://pytorch.org/docs/stable/generated/torch.nn.Linear.html). Similar a la convolución, te pide primero que le digas cual es el número de features de entrada (8 en este caso) y de salida. \n",
    "\n",
    "Para el final de la red, lo que vamos a querer van a ser DOS features: una que nos dice la probabilidad de que el evento sea de fondo, y otra la probabilidad de que sea señal. Entonces:"
   ]
  },
  {
   "cell_type": "code",
   "execution_count": 105,
   "metadata": {},
   "outputs": [],
   "source": [
    "lin = nn.Linear(8, 2)"
   ]
  },
  {
   "cell_type": "markdown",
   "metadata": {},
   "source": [
    "La variable `lin` ya contiene la operación lineal, ahora solo falta pasarle el tensor que teníamos:"
   ]
  },
  {
   "cell_type": "code",
   "execution_count": 108,
   "metadata": {},
   "outputs": [
    {
     "data": {
      "text/plain": [
       "tensor([[-0.2842,  0.4455]], grad_fn=<AddmmBackward0>)"
      ]
     },
     "execution_count": 108,
     "metadata": {},
     "output_type": "execute_result"
    }
   ],
   "source": [
    "final_out = lin(pooled_out)\n",
    "final_out"
   ]
  },
  {
   "cell_type": "markdown",
   "metadata": {},
   "source": [
    "Lo pasamos a probabilidades utilizando la función softmax:"
   ]
  },
  {
   "cell_type": "code",
   "execution_count": 113,
   "metadata": {},
   "outputs": [
    {
     "data": {
      "text/plain": [
       "tensor([[0.3252, 0.6748]], grad_fn=<SoftmaxBackward0>)"
      ]
     },
     "execution_count": 113,
     "metadata": {},
     "output_type": "execute_result"
    }
   ],
   "source": [
    "#inicializamos\n",
    "softmax = nn.Softmax(dim = 1)\n",
    "\n",
    "#pasamos el vector\n",
    "prob = softmax(final_out)\n",
    "prob"
   ]
  },
  {
   "cell_type": "markdown",
   "metadata": {},
   "source": [
    "Podríamos interpretar esto entonces como:"
   ]
  },
  {
   "cell_type": "code",
   "execution_count": 125,
   "metadata": {},
   "outputs": [
    {
     "name": "stdout",
     "output_type": "stream",
     "text": [
      "Hay un 32.524993896484375% de posibilidades de que el evento sea de fondo\n",
      "Hay un 67.47500610351562% de posibilidades de que el evento sea de señal\n"
     ]
    }
   ],
   "source": [
    "print('Hay un {}% de posibilidades de que el evento sea de fondo'.format(prob[0, 0]*100))\n",
    "print('Hay un {}% de posibilidades de que el evento sea de señal'.format(prob[0, 1]*100))"
   ]
  },
  {
   "cell_type": "markdown",
   "metadata": {},
   "source": [
    "Es decir, asignamos que la feature en la posición 0 represente al fondo, y en la posicion 1 a la señal. Si esto en vez de eventos fueran fotos de animales, y hubiera 4 animales posibles, tendríamos que asignar al tensor de 4 posiciones una posicion por animal, por ejemplo [perro, gato, caballo, pato]"
   ]
  },
  {
   "cell_type": "markdown",
   "metadata": {},
   "source": [
    "### Crear la red"
   ]
  },
  {
   "cell_type": "markdown",
   "metadata": {},
   "source": [
    "Con estos fundamentos se puede hacer una red sencilla, juntando una convolución tras otra, haciendo pooling y finalmente hacer la operación lineal (o las operaciones, no tiene por que ser solamente una)"
   ]
  },
  {
   "cell_type": "markdown",
   "metadata": {},
   "source": [
    "### Entrenar la red"
   ]
  },
  {
   "cell_type": "markdown",
   "metadata": {},
   "source": [
    "Una vez se crea la red hay que entrenarla, voy a explicar un poco en qué consiste para que tengas una idea, pero mejor que los tutoriales que te pasé no creo que lo explique. Aun así hago un resumen con las cosas que tenemos ya a la vista, que es más tangible.\n",
    "\n",
    "La salida de la red es, por cada evento, una dupla de números [a, b] que representan lo cercano que está de ser mi evento a cada una de las clases (a para fondo, b para señal). Entonces, por cada salida, tenemos que cuantificar lo \"acertados\" que estamos, y para eso se usa lo que llamamos una \"función de pérdida\" o \"loss function\"."
   ]
  },
  {
   "cell_type": "markdown",
   "metadata": {},
   "source": [
    "#### Loss function"
   ]
  },
  {
   "cell_type": "markdown",
   "metadata": {},
   "source": [
    "El ejemplo más sencillo es una simple resta. Sabemos que el evento que estamos usando:"
   ]
  },
  {
   "cell_type": "code",
   "execution_count": 127,
   "metadata": {},
   "outputs": [
    {
     "data": {
      "text/plain": [
       "'1eroi'"
      ]
     },
     "execution_count": 127,
     "metadata": {},
     "output_type": "execute_result"
    }
   ],
   "source": [
    "dt"
   ]
  },
  {
   "cell_type": "markdown",
   "metadata": {},
   "source": [
    "Es decir, un evento de fondo (1eroi). Por tanto, lo ideal sería que nuestra red diera la salida [1, 0] (es decir, 100% posibilidades de que sea fondo, y 0% de que sea señal). Una simple resta nos daría lo que se aleja nuestro resultado de ser fondo:"
   ]
  },
  {
   "cell_type": "code",
   "execution_count": 131,
   "metadata": {},
   "outputs": [
    {
     "data": {
      "text/plain": [
       "0.6747500896453857"
      ]
     },
     "execution_count": 131,
     "metadata": {},
     "output_type": "execute_result"
    }
   ],
   "source": [
    "(1 - prob)[0, 0].item()"
   ]
  },
  {
   "cell_type": "markdown",
   "metadata": {},
   "source": [
    "Y eso es lo que se llama pérdida, que se intentará minimizar. Para minimizarla, se hace lo que se llama la \"backpropagation\", que a grandes rasgos va calculando los gradientes  en todos los parámetros de la red."
   ]
  },
  {
   "cell_type": "markdown",
   "metadata": {},
   "source": [
    "#### Optimizer"
   ]
  },
  {
   "cell_type": "markdown",
   "metadata": {},
   "source": [
    "El último paso es actualizar los parámetros de la red, y para ello se utiliza la figura del \"optimizer\". Una vez se actualizan, se repite todo este proceso, procurando disminuir cada vez más la pérdida o loss."
   ]
  }
 ],
 "metadata": {
  "kernelspec": {
   "display_name": "Python 3 (ipykernel)",
   "language": "python",
   "name": "python3"
  },
  "language_info": {
   "codemirror_mode": {
    "name": "ipython",
    "version": 3
   },
   "file_extension": ".py",
   "mimetype": "text/x-python",
   "name": "python",
   "nbconvert_exporter": "python",
   "pygments_lexer": "ipython3",
   "version": "3.7.11"
  }
 },
 "nbformat": 4,
 "nbformat_minor": 2
}
